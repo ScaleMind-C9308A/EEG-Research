{
 "cells": [
  {
   "cell_type": "code",
   "execution_count": 70,
   "id": "a84c768d",
   "metadata": {},
   "outputs": [],
   "source": [
    "import os\n",
    "import random\n",
    "import torch\n",
    "import numpy as np\n",
    "import pandas as pd\n",
    "import shutil\n",
    "# from analysis import *\n",
    "import argparse\n",
    "from sys import platform"
   ]
  },
  {
   "cell_type": "code",
   "execution_count": 20,
   "id": "7afe33ad",
   "metadata": {},
   "outputs": [
    {
     "name": "stdout",
     "output_type": "stream",
     "text": [
      "Device Available: True\n",
      "Device Count: 1\n",
      "Current Device Index: 0\n",
      "Device Name: NVIDIA TITAN V\n"
     ]
    }
   ],
   "source": [
    "torch.manual_seed(12)\n",
    "torch.cuda.manual_seed(12)\n",
    "np.random.seed(12)\n",
    "\n",
    "print(f\"Device Available: {torch.cuda.is_available()}\")\n",
    "print(f\"Device Count: {torch.cuda.device_count()}\")\n",
    "print(f\"Current Device Index: {torch.cuda.current_device()}\")\n",
    "print(f\"Device Name: {torch.cuda.get_device_name(0)}\")\n"
   ]
  },
  {
   "cell_type": "markdown",
   "id": "dd9300e1",
   "metadata": {},
   "source": [
    "# Load image filenames from EEG dataset"
   ]
  },
  {
   "cell_type": "code",
   "execution_count": 21,
   "id": "b0f63c0b",
   "metadata": {},
   "outputs": [
    {
     "name": "stdout",
     "output_type": "stream",
     "text": [
      "['block_splits_by_image_all.pth', 'block_splits_by_image_single.pth', 'eeg_14_70_std.pth', 'eeg_55_95_std.pth', 'eeg_5_95_std.pth', 'eeg_signals_raw_with_mean_std.pth']\n"
     ]
    }
   ],
   "source": [
    "if platform == \"linux\" or platform == \"linux2\":\n",
    "    torch_models_dir = r\"/media/titan/AI Research1/Data/CVPR2017\"\n",
    "elif platform == \"win32\":\n",
    "    torch_models_dir = r\"D:\\Data\\CVPR2021-02785\\CVPR2021-02785\\preprocessed\\torch_models\"\n",
    "block_splits_all, block_splits_single, eeg_14_70, eeg_55_95, eeg_5_95, eeg_raw = os.listdir(torch_models_dir)\n",
    "print(os.listdir(torch_models_dir))"
   ]
  },
  {
   "cell_type": "code",
   "execution_count": 22,
   "id": "a0d58f83",
   "metadata": {},
   "outputs": [
    {
     "name": "stderr",
     "output_type": "stream",
     "text": [
      "IOPub data rate exceeded.\n",
      "The notebook server will temporarily stop sending output\n",
      "to the client in order to avoid crashing it.\n",
      "To change this limit, set the config variable\n",
      "`--NotebookApp.iopub_data_rate_limit`.\n",
      "\n",
      "Current values:\n",
      "NotebookApp.iopub_data_rate_limit=1000000.0 (bytes/sec)\n",
      "NotebookApp.rate_limit_window=3.0 (secs)\n",
      "\n"
     ]
    }
   ],
   "source": [
    "eeg_path = os.path.join(torch_models_dir, eeg_5_95)\n",
    "splits_all_path = os.path.join(torch_models_dir, block_splits_all)\n",
    "splits_single_path = os.path.join(torch_models_dir, block_splits_single)\n",
    "# splits_path = os.path.join(torch_models_dir, splits_shuffled_path)\n",
    "print(eeg_dataset,'\\n', splits_all_path, '\\n', splits_single_path)"
   ]
  },
  {
   "cell_type": "code",
   "execution_count": 23,
   "id": "ae3bc143",
   "metadata": {},
   "outputs": [],
   "source": [
    "splits_all = torch.load(splits_all_path)\n",
    "eeg_dataset = torch.load(eeg_path)\n",
    "dataset, labels, images = [eeg_dataset[k] for k in eeg_dataset.keys()]"
   ]
  },
  {
   "cell_type": "code",
   "execution_count": 64,
   "id": "b329a7b6",
   "metadata": {},
   "outputs": [
    {
     "name": "stdout",
     "output_type": "stream",
     "text": [
      "40\n",
      "1996\n",
      "n02951358_31190\n"
     ]
    }
   ],
   "source": [
    "print(len(labels))\n",
    "print(len(images))\n",
    "print(images[0])"
   ]
  },
  {
   "cell_type": "code",
   "execution_count": 68,
   "id": "e8bcafc8",
   "metadata": {},
   "outputs": [
    {
     "data": {
      "text/html": [
       "<div>\n",
       "<style scoped>\n",
       "    .dataframe tbody tr th:only-of-type {\n",
       "        vertical-align: middle;\n",
       "    }\n",
       "\n",
       "    .dataframe tbody tr th {\n",
       "        vertical-align: top;\n",
       "    }\n",
       "\n",
       "    .dataframe thead th {\n",
       "        text-align: right;\n",
       "    }\n",
       "</style>\n",
       "<table border=\"1\" class=\"dataframe\">\n",
       "  <thead>\n",
       "    <tr style=\"text-align: right;\">\n",
       "      <th></th>\n",
       "      <th>class</th>\n",
       "      <th>image_filename</th>\n",
       "    </tr>\n",
       "  </thead>\n",
       "  <tbody>\n",
       "    <tr>\n",
       "      <th>1787</th>\n",
       "      <td>n02106662</td>\n",
       "      <td>n02106662_16149.JPEG</td>\n",
       "    </tr>\n",
       "    <tr>\n",
       "      <th>1246</th>\n",
       "      <td>n02106662</td>\n",
       "      <td>n02106662_24186.JPEG</td>\n",
       "    </tr>\n",
       "    <tr>\n",
       "      <th>1972</th>\n",
       "      <td>n02106662</td>\n",
       "      <td>n02106662_77543.JPEG</td>\n",
       "    </tr>\n",
       "    <tr>\n",
       "      <th>1600</th>\n",
       "      <td>n02106662</td>\n",
       "      <td>n02106662_49005.JPEG</td>\n",
       "    </tr>\n",
       "    <tr>\n",
       "      <th>1186</th>\n",
       "      <td>n02106662</td>\n",
       "      <td>n02106662_83994.JPEG</td>\n",
       "    </tr>\n",
       "  </tbody>\n",
       "</table>\n",
       "</div>"
      ],
      "text/plain": [
       "          class        image_filename\n",
       "1787  n02106662  n02106662_16149.JPEG\n",
       "1246  n02106662  n02106662_24186.JPEG\n",
       "1972  n02106662  n02106662_77543.JPEG\n",
       "1600  n02106662  n02106662_49005.JPEG\n",
       "1186  n02106662  n02106662_83994.JPEG"
      ]
     },
     "execution_count": 68,
     "metadata": {},
     "output_type": "execute_result"
    }
   ],
   "source": [
    "class_list = [i.split(\"_\")[0] for i in images]\n",
    "image_idx_list = [f\"{i}.JPEG\" for i in images]\n",
    "df_imagenet = pd.DataFrame({\"class\": class_list, \"image_filename\": image_idx_list})\n",
    "df_imagenet = df_imagenet.sort_values(\"class\")\n",
    "df_imagenet.head()"
   ]
  },
  {
   "cell_type": "code",
   "execution_count": 69,
   "id": "cb3e7830",
   "metadata": {
    "scrolled": true
   },
   "outputs": [
    {
     "data": {
      "text/plain": [
       "class\n",
       "n02106662    50\n",
       "n03888257    50\n",
       "n03584829    50\n",
       "n03590841    50\n",
       "n03709823    50\n",
       "n03773504    50\n",
       "n03775071    50\n",
       "n03792782    50\n",
       "n03792972    50\n",
       "n03982430    50\n",
       "n02124075    50\n",
       "n04044716    50\n",
       "n04069434    50\n",
       "n04086273    50\n",
       "n04120489    50\n",
       "n07753592    50\n",
       "n07873807    50\n",
       "n11939491    50\n",
       "n03452741    50\n",
       "n03445777    50\n",
       "n02951358    50\n",
       "n02492035    50\n",
       "n03272562    50\n",
       "n03272010    50\n",
       "n03197337    50\n",
       "n03180011    50\n",
       "n03100240    50\n",
       "n03063599    50\n",
       "n02992529    50\n",
       "n02281787    50\n",
       "n03297495    50\n",
       "n02389026    50\n",
       "n02690373    50\n",
       "n02607072    50\n",
       "n02510455    50\n",
       "n02504458    50\n",
       "n03376595    49\n",
       "n02906734    49\n",
       "n03877472    49\n",
       "n13054560    49\n",
       "Name: count, dtype: int64"
      ]
     },
     "execution_count": 69,
     "metadata": {},
     "output_type": "execute_result"
    }
   ],
   "source": [
    "df_imagenet.value_counts('class')"
   ]
  },
  {
   "cell_type": "code",
   "execution_count": 50,
   "id": "75d7fe45",
   "metadata": {},
   "outputs": [],
   "source": [
    "dict_imagenet = {}\n",
    "for cls in df_imagenet.value_counts(\"class\").index.to_list():\n",
    "    dict_imagenet[cls] = df_imagenet.loc[df_imagenet['class'] == cls]['image_filename'].to_list()"
   ]
  },
  {
   "cell_type": "code",
   "execution_count": null,
   "id": "26e6df5e",
   "metadata": {},
   "outputs": [],
   "source": []
  },
  {
   "cell_type": "markdown",
   "id": "eeec6fd4",
   "metadata": {},
   "source": [
    "# Extract images from ImageNet dataset"
   ]
  },
  {
   "cell_type": "code",
   "execution_count": 67,
   "id": "d33926cc",
   "metadata": {},
   "outputs": [
    {
     "name": "stdout",
     "output_type": "stream",
     "text": [
      "Number of classes in imagenet train/: 519\n",
      "Class n03888257 not found in imagenet classes\n",
      "Class n03584829 not found in imagenet classes\n",
      "Class n03590841 not found in imagenet classes\n",
      "Class n03709823 not found in imagenet classes\n",
      "Class n03773504 not found in imagenet classes\n",
      "Class n03775071 not found in imagenet classes\n",
      "Class n03792782 not found in imagenet classes\n",
      "Class n03792972 not found in imagenet classes\n",
      "Class n03982430 not found in imagenet classes\n",
      "Class n04044716 not found in imagenet classes\n",
      "Class n04069434 not found in imagenet classes\n",
      "Class n04086273 not found in imagenet classes\n",
      "Class n04120489 not found in imagenet classes\n",
      "Class n07753592 not found in imagenet classes\n",
      "Class n07873807 not found in imagenet classes\n",
      "Class n11939491 not found in imagenet classes\n",
      "Class n03452741 not found in imagenet classes\n",
      "Class n03445777 not found in imagenet classes\n",
      "Class n03272562 not found in imagenet classes\n",
      "Class n03272010 not found in imagenet classes\n",
      "Class n03197337 not found in imagenet classes\n",
      "Class n03180011 not found in imagenet classes\n",
      "Class n03297495 not found in imagenet classes\n",
      "Class n03376595 not found in imagenet classes\n",
      "Class n03877472 not found in imagenet classes\n",
      "Class n13054560 not found in imagenet classes\n",
      "Num of not found classes: 26\n"
     ]
    }
   ],
   "source": [
    "imagenet_dir = r\"/media/titan/AI Research1/Data/imagenet/ILSVRC/Data/CLS-LOC/train\"\n",
    "#Check if image classes in eeg dataset all exist in imagenet train/\n",
    "imagenet_classes = set(os.listdir(imagenet_dir))\n",
    "print(f\"Number of classes in imagenet train/: {len(imagenet_classes)}\")\n",
    "count = 0\n",
    "for cls in dict_imagenet.keys():\n",
    "    if cls not in imagenet_classes:\n",
    "        count +=1\n",
    "        print(f\"Class {cls} not found in imagenet classes\")\n",
    "print(f\"Num of not found classes: {count}\")"
   ]
  },
  {
   "cell_type": "code",
   "execution_count": 71,
   "id": "6120a3ea",
   "metadata": {},
   "outputs": [
    {
     "data": {
      "text/plain": [
       "[]"
      ]
     },
     "execution_count": 71,
     "metadata": {},
     "output_type": "execute_result"
    }
   ],
   "source": [
    "extract_dir = '/home/titan/GithubClonedRepo/EEG-Research/Dataset/imagenet'"
   ]
  },
  {
   "cell_type": "code",
   "execution_count": 74,
   "id": "d02650ca",
   "metadata": {},
   "outputs": [
    {
     "name": "stdout",
     "output_type": "stream",
     "text": [
      "/home/titan/GithubClonedRepo/EEG-Research/Dataset/imagenet\n"
     ]
    }
   ],
   "source": [
    "pwd = os.getcwd()\n",
    "imagenet_dir = os.path.abspath(os.path.join(pwd, os.pardir, 'Dataset/imagenet'))\n",
    "print(imagenet_dir)"
   ]
  },
  {
   "cell_type": "code",
   "execution_count": 72,
   "id": "72c4abab",
   "metadata": {
    "scrolled": true
   },
   "outputs": [],
   "source": [
    "for cls in dict_imagenet.keys():\n",
    "    if cls in imagenet_classes:\n",
    "        for filename in dict_imagenet[cls]:\n",
    "            shutil.copy(os.path.join(imagenet_dir, cls, filename), os.path.join(extract_dir, filename))"
   ]
  },
  {
   "cell_type": "code",
   "execution_count": 73,
   "id": "66c4ac32",
   "metadata": {},
   "outputs": [
    {
     "name": "stdout",
     "output_type": "stream",
     "text": [
      "699\n"
     ]
    }
   ],
   "source": [
    "print(len(os.listdir(extract_dir)))"
   ]
  },
  {
   "cell_type": "code",
   "execution_count": null,
   "id": "9fabc7bc",
   "metadata": {},
   "outputs": [],
   "source": []
  }
 ],
 "metadata": {
  "kernelspec": {
   "display_name": "Python 3 (ipykernel)",
   "language": "python",
   "name": "python3"
  },
  "language_info": {
   "codemirror_mode": {
    "name": "ipython",
    "version": 3
   },
   "file_extension": ".py",
   "mimetype": "text/x-python",
   "name": "python",
   "nbconvert_exporter": "python",
   "pygments_lexer": "ipython3",
   "version": "3.9.12"
  }
 },
 "nbformat": 4,
 "nbformat_minor": 5
}
