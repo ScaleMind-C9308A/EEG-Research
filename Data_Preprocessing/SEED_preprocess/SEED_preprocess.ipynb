{
 "cells": [
  {
   "cell_type": "code",
   "execution_count": 12,
   "id": "9ef2321b-d61c-4944-b0ad-f3111f070bf9",
   "metadata": {},
   "outputs": [],
   "source": [
    "import scipy.io as sio\n",
    "import os\n",
    "import glob\n",
    "\n",
    "eeg_raw = '/media/mountHDD1/LanxHuyen/SEED_IV/eeg_raw_data/'\n",
    "eeg_smooth = '/media/mountHDD1/LanxHuyen/SEED_IV/eeg_feature_smooth/'"
   ]
  },
  {
   "cell_type": "code",
   "execution_count": 11,
   "id": "23e5b8d0-796a-4649-b77f-9081fc2f49be",
   "metadata": {},
   "outputs": [
    {
     "name": "stdout",
     "output_type": "stream",
     "text": [
      "Selected file: /media/mountHDD1/LanxHuyen/SEED_IV/eeg_raw_data/1/1_20160518.mat\n",
      "dict_keys(['__header__', '__version__', '__globals__', 'cz_eeg1', 'cz_eeg2', 'cz_eeg3', 'cz_eeg4', 'cz_eeg5', 'cz_eeg6', 'cz_eeg7', 'cz_eeg8', 'cz_eeg9', 'cz_eeg10', 'cz_eeg11', 'cz_eeg12', 'cz_eeg13', 'cz_eeg14', 'cz_eeg15', 'cz_eeg16', 'cz_eeg17', 'cz_eeg18', 'cz_eeg19', 'cz_eeg20', 'cz_eeg21', 'cz_eeg22', 'cz_eeg23', 'cz_eeg24'])\n"
     ]
    }
   ],
   "source": [
    "session = 1\n",
    "subject = 1\n",
    "\n",
    "# Load the MATLAB file\n",
    "sel_file = glob.glob(os.path.join(eeg_raw, str(session), f'{subject}_*.mat'))[0]\n",
    "print(f\"Selected file: {sel_file}\")\n",
    "matlab_data = sio.loadmat(sel_file)\n",
    "\n",
    "# Print the keys of the dictionary\n",
    "print(matlab_data.keys())\n",
    "\n",
    "# Access a variable from the MATLAB file\n",
    "# variable = matlab_data['variable_name']\n",
    "\n",
    "# Print the variable\n",
    "# print(variable)"
   ]
  },
  {
   "cell_type": "code",
   "execution_count": 13,
   "id": "9e699751-8f44-4513-8f13-00c12eb4515d",
   "metadata": {},
   "outputs": [
    {
     "name": "stdout",
     "output_type": "stream",
     "text": [
      "Selected file: /media/mountHDD1/LanxHuyen/SEED_IV/eeg_feature_smooth/1/1_20160518.mat\n",
      "dict_keys(['__header__', '__version__', '__globals__', 'de_movingAve1', 'de_LDS1', 'psd_movingAve1', 'psd_LDS1', 'de_movingAve2', 'de_LDS2', 'psd_movingAve2', 'psd_LDS2', 'de_movingAve3', 'de_LDS3', 'psd_movingAve3', 'psd_LDS3', 'de_movingAve4', 'de_LDS4', 'psd_movingAve4', 'psd_LDS4', 'de_movingAve5', 'de_LDS5', 'psd_movingAve5', 'psd_LDS5', 'de_movingAve6', 'de_LDS6', 'psd_movingAve6', 'psd_LDS6', 'de_movingAve7', 'de_LDS7', 'psd_movingAve7', 'psd_LDS7', 'de_movingAve8', 'de_LDS8', 'psd_movingAve8', 'psd_LDS8', 'de_movingAve9', 'de_LDS9', 'psd_movingAve9', 'psd_LDS9', 'de_movingAve10', 'de_LDS10', 'psd_movingAve10', 'psd_LDS10', 'de_movingAve11', 'de_LDS11', 'psd_movingAve11', 'psd_LDS11', 'de_movingAve12', 'de_LDS12', 'psd_movingAve12', 'psd_LDS12', 'de_movingAve13', 'de_LDS13', 'psd_movingAve13', 'psd_LDS13', 'de_movingAve14', 'de_LDS14', 'psd_movingAve14', 'psd_LDS14', 'de_movingAve15', 'de_LDS15', 'psd_movingAve15', 'psd_LDS15', 'de_movingAve16', 'de_LDS16', 'psd_movingAve16', 'psd_LDS16', 'de_movingAve17', 'de_LDS17', 'psd_movingAve17', 'psd_LDS17', 'de_movingAve18', 'de_LDS18', 'psd_movingAve18', 'psd_LDS18', 'de_movingAve19', 'de_LDS19', 'psd_movingAve19', 'psd_LDS19', 'de_movingAve20', 'de_LDS20', 'psd_movingAve20', 'psd_LDS20', 'de_movingAve21', 'de_LDS21', 'psd_movingAve21', 'psd_LDS21', 'de_movingAve22', 'de_LDS22', 'psd_movingAve22', 'psd_LDS22', 'de_movingAve23', 'de_LDS23', 'psd_movingAve23', 'psd_LDS23', 'de_movingAve24', 'de_LDS24', 'psd_movingAve24', 'psd_LDS24'])\n"
     ]
    }
   ],
   "source": [
    "session = 1\n",
    "subject = 1\n",
    "\n",
    "# Load the MATLAB file\n",
    "sel_file = glob.glob(os.path.join(eeg_smooth, str(session), f'{subject}_*.mat'))[0]\n",
    "print(f\"Selected file: {sel_file}\")\n",
    "matlab_data = sio.loadmat(sel_file)\n",
    "\n",
    "# Print the keys of the dictionary\n",
    "print(matlab_data.keys())"
   ]
  },
  {
   "cell_type": "code",
   "execution_count": null,
   "id": "a46cb909-2c03-43af-94e2-f4a3ff72e913",
   "metadata": {},
   "outputs": [],
   "source": []
  }
 ],
 "metadata": {
  "kernelspec": {
   "display_name": "Python 3 (ipykernel)",
   "language": "python",
   "name": "python3"
  },
  "language_info": {
   "codemirror_mode": {
    "name": "ipython",
    "version": 3
   },
   "file_extension": ".py",
   "mimetype": "text/x-python",
   "name": "python",
   "nbconvert_exporter": "python",
   "pygments_lexer": "ipython3",
   "version": "3.10.7"
  }
 },
 "nbformat": 4,
 "nbformat_minor": 5
}
