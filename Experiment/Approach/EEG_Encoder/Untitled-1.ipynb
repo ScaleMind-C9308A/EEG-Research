{
 "cells": [
  {
   "cell_type": "code",
   "execution_count": 1,
   "metadata": {},
   "outputs": [],
   "source": [
    "import torch\n",
    "from torch.autograd import Variable\n",
    "import torch.nn as nn\n",
    "import torch.nn.functional as F\n",
    "import torch.optim"
   ]
  },
  {
   "cell_type": "code",
   "execution_count": 43,
   "metadata": {},
   "outputs": [],
   "source": [
    "class classifier_LSTM(nn.Module):\n",
    "\n",
    "    def __init__(self,\n",
    "                 relup,\n",
    "                 input_size,\n",
    "                 lstm_layers,\n",
    "                 lstm_size,\n",
    "                 output1_size,\n",
    "                 output2_size,\n",
    "                 GPUindex):\n",
    "        super(classifier_LSTM, self).__init__()\n",
    "        self.relup = relup\n",
    "        self.lstm_layers = lstm_layers\n",
    "        self.lstm_size = lstm_size\n",
    "        self.GPUindex = GPUindex\n",
    "        # batch_first = True => input_shape: (batch, seq, feature)\n",
    "        # Input: input, (h_0, c_0) \n",
    "        # => h_0, c_0: (D*num_layers, N, H_0/C_0) inital hidden state, cell state\n",
    "        # Output: output, (h_n, c_n)\n",
    "        self.lstm = nn.LSTM(\n",
    "            input_size, lstm_size, num_layers = 1, batch_first = True)\n",
    "        self.output1 = nn.Linear(lstm_size, output1_size)\n",
    "        self.relu = nn.ReLU()\n",
    "        if output2_size is None:\n",
    "            self.output2 = None\n",
    "        else:\n",
    "            self.output2 = nn.Linear(lstm_size, output2_size)\n",
    "\n",
    "    def forward(self, x):\n",
    "        x = torch.tensor(x)\n",
    "        print(x.size())\n",
    "        batch_size = x.size(0)\n",
    "        # lstm_init: (h_0, c_0)\n",
    "        lstm_init = (torch.zeros(self.lstm_layers, batch_size, self.lstm_size),\n",
    "                     torch.zeros(self.lstm_layers, batch_size, self.lstm_size))\n",
    "        if x.is_cuda:\n",
    "            lstm_init = (lstm_init[0].cuda(self.GPUindex),\n",
    "                         lstm_init[0].cuda(self.GPUindex))\n",
    "        lstm_init = (Variable(lstm_init[0]), Variable(lstm_init[1]))\n",
    "        x = self.lstm(x, lstm_init)[0]\n",
    "        print(x.shape)\n",
    "        x = x[-1, :]\n",
    "        x = self.output1(x)\n",
    "        if self.relup:\n",
    "             x = self.relu(x)\n",
    "        if self.output2 is not None:\n",
    "            x = self.output2(x)\n",
    "        return x"
   ]
  },
  {
   "cell_type": "code",
   "execution_count": 15,
   "metadata": {},
   "outputs": [],
   "source": [
    "model_test =  nn.LSTM(96, 128, num_layers = 1, batch_first = True)"
   ]
  },
  {
   "cell_type": "code",
   "execution_count": 33,
   "metadata": {},
   "outputs": [
    {
     "name": "stdout",
     "output_type": "stream",
     "text": [
      "torch.Size([512, 96])\n",
      "torch.Size([1, 512, 96])\n"
     ]
    }
   ],
   "source": [
    "x = torch.zeros(512, 96)\n",
    "print(x.size())\n",
    "x = torch.unsqueeze(x, dim=0)\n",
    "print(x.size())"
   ]
  },
  {
   "cell_type": "code",
   "execution_count": 35,
   "metadata": {},
   "outputs": [],
   "source": [
    "lstm_init = (torch.zeros(1, 1, 128),\n",
    "                     torch.zeros(1, 1, 128))"
   ]
  },
  {
   "cell_type": "code",
   "execution_count": 36,
   "metadata": {},
   "outputs": [],
   "source": [
    "x = model_test(x, lstm_init)"
   ]
  },
  {
   "cell_type": "code",
   "execution_count": 44,
   "metadata": {},
   "outputs": [],
   "source": [
    "model=classifier_LSTM(relup=True,input_size = 96,\n",
    "                    lstm_layers = 1,\n",
    "                    lstm_size = 128,\n",
    "                    output1_size = 128,\n",
    "                    output2_size = None,\n",
    "                    GPUindex = 1)\n"
   ]
  },
  {
   "cell_type": "code",
   "execution_count": 45,
   "metadata": {},
   "outputs": [],
   "source": [
    "from pytorch_model_summary import summary"
   ]
  },
  {
   "cell_type": "code",
   "execution_count": 46,
   "metadata": {},
   "outputs": [
    {
     "name": "stdout",
     "output_type": "stream",
     "text": [
      "torch.Size([1, 512, 96])\n",
      "torch.Size([1, 512, 128])\n"
     ]
    },
    {
     "name": "stderr",
     "output_type": "stream",
     "text": [
      "C:\\Users\\AI-INNOVATOR\\AppData\\Local\\Temp\\ipykernel_12376\\3619269690.py:30: UserWarning: To copy construct from a tensor, it is recommended to use sourceTensor.clone().detach() or sourceTensor.clone().detach().requires_grad_(True), rather than torch.tensor(sourceTensor).\n",
      "  x = torch.tensor(x)\n"
     ]
    },
    {
     "data": {
      "text/plain": [
       "'-----------------------------------------------------------------------------------------------\\n      Layer (type)                                Output Shape         Param #     Tr. Param #\\n===============================================================================================\\n            LSTM-1     [1, 512, 128], [1, 1, 128], [1, 1, 128]         115,712         115,712\\n          Linear-2                                  [512, 128]          16,512          16,512\\n            ReLU-3                                  [512, 128]               0               0\\n===============================================================================================\\nTotal params: 132,224\\nTrainable params: 132,224\\nNon-trainable params: 0\\n-----------------------------------------------------------------------------------------------'"
      ]
     },
     "execution_count": 46,
     "metadata": {},
     "output_type": "execute_result"
    }
   ],
   "source": [
    "input_tensor = torch.zeros(1, 512, 96)\n",
    "summary(model,input_tensor)"
   ]
  },
  {
   "cell_type": "code",
   "execution_count": null,
   "metadata": {},
   "outputs": [],
   "source": []
  }
 ],
 "metadata": {
  "kernelspec": {
   "display_name": "Python 3 (ipykernel)",
   "language": "python",
   "name": "python3"
  },
  "language_info": {
   "codemirror_mode": {
    "name": "ipython",
    "version": 3
   },
   "file_extension": ".py",
   "mimetype": "text/x-python",
   "name": "python",
   "nbconvert_exporter": "python",
   "pygments_lexer": "ipython3",
   "version": "3.9.5"
  },
  "vscode": {
   "interpreter": {
    "hash": "7e8d1d2aa4d33a8e6fda18ff645941842f9f35d76bafc6be3dc9741da9b12cb4"
   }
  }
 },
 "nbformat": 4,
 "nbformat_minor": 2
}
