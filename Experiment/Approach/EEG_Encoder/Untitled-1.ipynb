{
 "cells": [
  {
   "cell_type": "code",
   "execution_count": 1,
   "metadata": {},
   "outputs": [
    {
     "ename": "ModuleNotFoundError",
     "evalue": "No module named 'torch'",
     "output_type": "error",
     "traceback": [
      "\u001b[1;31m---------------------------------------------------------------------------\u001b[0m",
      "\u001b[1;31mModuleNotFoundError\u001b[0m                       Traceback (most recent call last)",
      "Input \u001b[1;32mIn [1]\u001b[0m, in \u001b[0;36m<cell line: 1>\u001b[1;34m()\u001b[0m\n\u001b[1;32m----> 1\u001b[0m \u001b[38;5;28;01mimport\u001b[39;00m \u001b[38;5;21;01mtorch\u001b[39;00m\n\u001b[0;32m      2\u001b[0m \u001b[38;5;28;01mfrom\u001b[39;00m \u001b[38;5;21;01mtorch\u001b[39;00m\u001b[38;5;21;01m.\u001b[39;00m\u001b[38;5;21;01mautograd\u001b[39;00m \u001b[38;5;28;01mimport\u001b[39;00m Variable\n\u001b[0;32m      3\u001b[0m \u001b[38;5;28;01mimport\u001b[39;00m \u001b[38;5;21;01mtorch\u001b[39;00m\u001b[38;5;21;01m.\u001b[39;00m\u001b[38;5;21;01mnn\u001b[39;00m \u001b[38;5;28;01mas\u001b[39;00m \u001b[38;5;21;01mnn\u001b[39;00m\n",
      "\u001b[1;31mModuleNotFoundError\u001b[0m: No module named 'torch'"
     ]
    }
   ],
   "source": [
    "import torch\n",
    "from torch.autograd import Variable\n",
    "import torch.nn as nn\n",
    "import torch.nn.functional as F\n",
    "import torch.optim"
   ]
  },
  {
   "cell_type": "code",
   "execution_count": 96,
   "metadata": {},
   "outputs": [],
   "source": [
    "class classifier_LSTM(nn.Module):\n",
    "\n",
    "    def __init__(self,\n",
    "                 relup,\n",
    "                 input_size,\n",
    "                 lstm_layers,\n",
    "                 lstm_size,\n",
    "                 output1_size,\n",
    "                 output2_size,\n",
    "                 GPUindex):\n",
    "        super(classifier_LSTM, self).__init__()\n",
    "        self.relup = relup\n",
    "        self.lstm_layers = lstm_layers\n",
    "        self.lstm_size = lstm_size\n",
    "        self.GPUindex = GPUindex\n",
    "        self.lstm = nn.LSTM(\n",
    "            input_size, lstm_size, num_layers = 1, batch_first = True)\n",
    "        self.output1 = nn.Linear(lstm_size, output1_size)\n",
    "        self.relu = nn.ReLU()\n",
    "        if output2_size is None:\n",
    "            self.output2 = None\n",
    "        else:\n",
    "            self.output2 = nn.Linear(lstm_size, output2_size)\n",
    "\n",
    "    def forward(self, x):\n",
    "        x = torch.tensor(x)\n",
    "        batch_size = x.size(0)\n",
    "        lstm_init = (torch.zeros(self.lstm_layers, batch_size, self.lstm_size),\n",
    "                     torch.zeros(self.lstm_layers, batch_size, self.lstm_size))\n",
    "        if x.is_cuda:\n",
    "            lstm_init = (lstm_init[0].cuda(self.GPUindex),\n",
    "                         lstm_init[0].cuda(self.GPUindex))\n",
    "        lstm_init = (Variable(lstm_init[0]), Variable(lstm_init[1]))\n",
    "        x = self.lstm(x, lstm_init)[0][:, -1, :]\n",
    "        x = self.output1(x)\n",
    "        if self.relup:\n",
    "             x = self.relu(x)\n",
    "        if self.output2 is not None:\n",
    "            x = self.output2(x)\n",
    "        return x"
   ]
  },
  {
   "cell_type": "code",
   "execution_count": 4,
   "metadata": {},
   "outputs": [],
   "source": [
    "'''if classifier==\"LSTM\":\n",
    "                if kind==\"from-scratch\":\n",
    "                    output_size = 128\n",
    "                if kind==\"incremental\":\n",
    "                    output_size = 128\n",
    "                if kind==\"no-model-file\":\n",
    "                    output_size = 128\n",
    "                net = classifier_LSTM(\n",
    "                    True,\n",
    "                    input_size = channel,\n",
    "                    lstm_layers = 1,\n",
    "                    lstm_size = 128,\n",
    "                    output1_size = 128,\n",
    "                    output2_size = None,\n",
    "                    GPUindex = GPUindex)\n",
    "            elif classifier==\"LSTM1\":\n",
    "                if kind==\"from-scratch\":\n",
    "                    output_size = 128\n",
    "                if kind==\"incremental\":\n",
    "                    output_size = 128\n",
    "                if kind==\"no-model-file\":\n",
    "                    output_size = 128\n",
    "                net = classifier_LSTM(\n",
    "                    False,\n",
    "                    input_size = channel,\n",
    "                    lstm_layers = 1,\n",
    "                    lstm_size = 128,\n",
    "                    output1_size = 128,\n",
    "                    output2_size = None,\n",
    "                    GPUindex = GPUindex)\n",
    "            elif classifier==\"LSTM2\":\n",
    "                if kind==\"from-scratch\":\n",
    "                    output_size = len(classes)\n",
    "                if kind==\"incremental\":\n",
    "                    output_size = total\n",
    "                if kind==\"no-model-file\":\n",
    "                    output_size = len(classes)\n",
    "                net = classifier_LSTM(\n",
    "                    False,\n",
    "                    input_size = channel,\n",
    "                    lstm_layers = 1,\n",
    "                    lstm_size = 128,\n",
    "                    output1_size = output_size,\n",
    "                    output2_size = None,\n",
    "                    GPUindex = GPUindex)\n",
    "            elif classifier==\"LSTM3\":\n",
    "                if kind==\"from-scratch\":\n",
    "                    output_size = len(classes)\n",
    "                if kind==\"incremental\":\n",
    "                    output_size = total\n",
    "                if kind==\"no-model-file\":\n",
    "                    output_size = len(classes)\n",
    "                net = classifier_LSTM(\n",
    "                    True,\n",
    "                    input_size = channel,\n",
    "                    lstm_layers = 1,\n",
    "                    lstm_size = 128,\n",
    "                    output1_size = output_size,\n",
    "                    output2_size = None,\n",
    "                    GPUindex = GPUindex)\n",
    "            elif classifier==\"LSTM4\":\n",
    "                if kind==\"from-scratch\":\n",
    "                    output_size = len(classes)\n",
    "                if kind==\"incremental\":\n",
    "                    output_size = total\n",
    "                if kind==\"no-model-file\":\n",
    "                    output_size = len(classes)\n",
    "                net = classifier_LSTM(\n",
    "                    True,\n",
    "                    input_size = channel,\n",
    "                    lstm_layers = 1,\n",
    "                    lstm_size = 128,\n",
    "                    output1_size = 128,\n",
    "                    output2_size = output_size,\n",
    "                    GPUindex = GPUindex)\n",
    "'''"
   ]
  },
  {
   "cell_type": "code",
   "execution_count": 97,
   "metadata": {},
   "outputs": [],
   "source": [
    "model=classifier_LSTM(relup=True,input_size = 96,\n",
    "                    lstm_layers = 1,\n",
    "                    lstm_size = 128,\n",
    "                    output1_size = 128,\n",
    "                    output2_size = None,\n",
    "                    GPUindex = 1)\n"
   ]
  },
  {
   "cell_type": "code",
   "execution_count": 98,
   "metadata": {},
   "outputs": [],
   "source": [
    "from pytorch_model_summary import summary"
   ]
  },
  {
   "cell_type": "code",
   "execution_count": 99,
   "metadata": {},
   "outputs": [
    {
     "ename": "RuntimeError",
     "evalue": "For unbatched 2-D input, hx and cx should also be 2-D but got (3-D, 3-D) tensors",
     "output_type": "error",
     "traceback": [
      "\u001b[1;31m---------------------------------------------------------------------------\u001b[0m",
      "\u001b[1;31mRuntimeError\u001b[0m                              Traceback (most recent call last)",
      "\u001b[1;32mUntitled-1.ipynb Cell 6\u001b[0m in \u001b[0;36m<cell line: 1>\u001b[1;34m()\u001b[0m\n\u001b[1;32m----> <a href='vscode-notebook-cell:Untitled-1.ipynb?jupyter-notebook#W5sdW50aXRsZWQ%3D?line=0'>1</a>\u001b[0m summary(model,(\u001b[39m98304\u001b[39;49m,\u001b[39m1024\u001b[39;49m,\u001b[39m96\u001b[39;49m))\n",
      "File \u001b[1;32mc:\\Users\\LENOVO\\AppData\\Local\\Programs\\Python\\Python310\\lib\\site-packages\\pytorch_model_summary\\model_summary.py:118\u001b[0m, in \u001b[0;36msummary\u001b[1;34m(model, batch_size, show_input, show_hierarchical, print_summary, max_depth, show_parent_layers, *inputs)\u001b[0m\n\u001b[0;32m    115\u001b[0m model_training \u001b[39m=\u001b[39m model\u001b[39m.\u001b[39mtraining\n\u001b[0;32m    117\u001b[0m model\u001b[39m.\u001b[39meval()\n\u001b[1;32m--> 118\u001b[0m model(\u001b[39m*\u001b[39;49minputs)\n\u001b[0;32m    120\u001b[0m \u001b[39mif\u001b[39;00m model_training:\n\u001b[0;32m    121\u001b[0m     model\u001b[39m.\u001b[39mtrain()\n",
      "File \u001b[1;32mc:\\Users\\LENOVO\\AppData\\Local\\Programs\\Python\\Python310\\lib\\site-packages\\torch\\nn\\modules\\module.py:1130\u001b[0m, in \u001b[0;36mModule._call_impl\u001b[1;34m(self, *input, **kwargs)\u001b[0m\n\u001b[0;32m   1126\u001b[0m \u001b[39m# If we don't have any hooks, we want to skip the rest of the logic in\u001b[39;00m\n\u001b[0;32m   1127\u001b[0m \u001b[39m# this function, and just call forward.\u001b[39;00m\n\u001b[0;32m   1128\u001b[0m \u001b[39mif\u001b[39;00m \u001b[39mnot\u001b[39;00m (\u001b[39mself\u001b[39m\u001b[39m.\u001b[39m_backward_hooks \u001b[39mor\u001b[39;00m \u001b[39mself\u001b[39m\u001b[39m.\u001b[39m_forward_hooks \u001b[39mor\u001b[39;00m \u001b[39mself\u001b[39m\u001b[39m.\u001b[39m_forward_pre_hooks \u001b[39mor\u001b[39;00m _global_backward_hooks\n\u001b[0;32m   1129\u001b[0m         \u001b[39mor\u001b[39;00m _global_forward_hooks \u001b[39mor\u001b[39;00m _global_forward_pre_hooks):\n\u001b[1;32m-> 1130\u001b[0m     \u001b[39mreturn\u001b[39;00m forward_call(\u001b[39m*\u001b[39m\u001b[39minput\u001b[39m, \u001b[39m*\u001b[39m\u001b[39m*\u001b[39mkwargs)\n\u001b[0;32m   1131\u001b[0m \u001b[39m# Do not call functions when jit is used\u001b[39;00m\n\u001b[0;32m   1132\u001b[0m full_backward_hooks, non_full_backward_hooks \u001b[39m=\u001b[39m [], []\n",
      "\u001b[1;32mUntitled-1.ipynb Cell 6\u001b[0m in \u001b[0;36mclassifier_LSTM.forward\u001b[1;34m(self, x)\u001b[0m\n\u001b[0;32m     <a href='vscode-notebook-cell:Untitled-1.ipynb?jupyter-notebook#W5sdW50aXRsZWQ%3D?line=30'>31</a>\u001b[0m     lstm_init \u001b[39m=\u001b[39m (lstm_init[\u001b[39m0\u001b[39m]\u001b[39m.\u001b[39mcuda(\u001b[39mself\u001b[39m\u001b[39m.\u001b[39mGPUindex),\n\u001b[0;32m     <a href='vscode-notebook-cell:Untitled-1.ipynb?jupyter-notebook#W5sdW50aXRsZWQ%3D?line=31'>32</a>\u001b[0m                  lstm_init[\u001b[39m0\u001b[39m]\u001b[39m.\u001b[39mcuda(\u001b[39mself\u001b[39m\u001b[39m.\u001b[39mGPUindex))\n\u001b[0;32m     <a href='vscode-notebook-cell:Untitled-1.ipynb?jupyter-notebook#W5sdW50aXRsZWQ%3D?line=32'>33</a>\u001b[0m lstm_init \u001b[39m=\u001b[39m (Variable(lstm_init[\u001b[39m0\u001b[39m]), Variable(lstm_init[\u001b[39m1\u001b[39m]))\n\u001b[1;32m---> <a href='vscode-notebook-cell:Untitled-1.ipynb?jupyter-notebook#W5sdW50aXRsZWQ%3D?line=33'>34</a>\u001b[0m x \u001b[39m=\u001b[39m \u001b[39mself\u001b[39;49m\u001b[39m.\u001b[39;49mlstm(x, lstm_init)[\u001b[39m0\u001b[39m][:, \u001b[39m-\u001b[39m\u001b[39m1\u001b[39m, :]\n\u001b[0;32m     <a href='vscode-notebook-cell:Untitled-1.ipynb?jupyter-notebook#W5sdW50aXRsZWQ%3D?line=34'>35</a>\u001b[0m x \u001b[39m=\u001b[39m \u001b[39mself\u001b[39m\u001b[39m.\u001b[39moutput1(x)\n\u001b[0;32m     <a href='vscode-notebook-cell:Untitled-1.ipynb?jupyter-notebook#W5sdW50aXRsZWQ%3D?line=35'>36</a>\u001b[0m \u001b[39mif\u001b[39;00m \u001b[39mself\u001b[39m\u001b[39m.\u001b[39mrelup:\n",
      "File \u001b[1;32mc:\\Users\\LENOVO\\AppData\\Local\\Programs\\Python\\Python310\\lib\\site-packages\\torch\\nn\\modules\\module.py:1148\u001b[0m, in \u001b[0;36mModule._call_impl\u001b[1;34m(self, *input, **kwargs)\u001b[0m\n\u001b[0;32m   1145\u001b[0m     bw_hook \u001b[39m=\u001b[39m hooks\u001b[39m.\u001b[39mBackwardHook(\u001b[39mself\u001b[39m, full_backward_hooks)\n\u001b[0;32m   1146\u001b[0m     \u001b[39minput\u001b[39m \u001b[39m=\u001b[39m bw_hook\u001b[39m.\u001b[39msetup_input_hook(\u001b[39minput\u001b[39m)\n\u001b[1;32m-> 1148\u001b[0m result \u001b[39m=\u001b[39m forward_call(\u001b[39m*\u001b[39m\u001b[39minput\u001b[39m, \u001b[39m*\u001b[39m\u001b[39m*\u001b[39mkwargs)\n\u001b[0;32m   1149\u001b[0m \u001b[39mif\u001b[39;00m _global_forward_hooks \u001b[39mor\u001b[39;00m \u001b[39mself\u001b[39m\u001b[39m.\u001b[39m_forward_hooks:\n\u001b[0;32m   1150\u001b[0m     \u001b[39mfor\u001b[39;00m hook \u001b[39min\u001b[39;00m (\u001b[39m*\u001b[39m_global_forward_hooks\u001b[39m.\u001b[39mvalues(), \u001b[39m*\u001b[39m\u001b[39mself\u001b[39m\u001b[39m.\u001b[39m_forward_hooks\u001b[39m.\u001b[39mvalues()):\n",
      "File \u001b[1;32mc:\\Users\\LENOVO\\AppData\\Local\\Programs\\Python\\Python310\\lib\\site-packages\\torch\\nn\\modules\\rnn.py:760\u001b[0m, in \u001b[0;36mLSTM.forward\u001b[1;34m(self, input, hx)\u001b[0m\n\u001b[0;32m    757\u001b[0m         \u001b[39mif\u001b[39;00m hx[\u001b[39m0\u001b[39m]\u001b[39m.\u001b[39mdim() \u001b[39m!=\u001b[39m \u001b[39m2\u001b[39m \u001b[39mor\u001b[39;00m hx[\u001b[39m1\u001b[39m]\u001b[39m.\u001b[39mdim() \u001b[39m!=\u001b[39m \u001b[39m2\u001b[39m:\n\u001b[0;32m    758\u001b[0m             msg \u001b[39m=\u001b[39m (\u001b[39m\"\u001b[39m\u001b[39mFor unbatched 2-D input, hx and cx should \u001b[39m\u001b[39m\"\u001b[39m\n\u001b[0;32m    759\u001b[0m                    \u001b[39mf\u001b[39m\u001b[39m\"\u001b[39m\u001b[39malso be 2-D but got (\u001b[39m\u001b[39m{\u001b[39;00mhx[\u001b[39m0\u001b[39m]\u001b[39m.\u001b[39mdim()\u001b[39m}\u001b[39;00m\u001b[39m-D, \u001b[39m\u001b[39m{\u001b[39;00mhx[\u001b[39m1\u001b[39m]\u001b[39m.\u001b[39mdim()\u001b[39m}\u001b[39;00m\u001b[39m-D) tensors\u001b[39m\u001b[39m\"\u001b[39m)\n\u001b[1;32m--> 760\u001b[0m             \u001b[39mraise\u001b[39;00m \u001b[39mRuntimeError\u001b[39;00m(msg)\n\u001b[0;32m    761\u001b[0m         hx \u001b[39m=\u001b[39m (hx[\u001b[39m0\u001b[39m]\u001b[39m.\u001b[39munsqueeze(\u001b[39m1\u001b[39m), hx[\u001b[39m1\u001b[39m]\u001b[39m.\u001b[39munsqueeze(\u001b[39m1\u001b[39m))\n\u001b[0;32m    763\u001b[0m \u001b[39m# Each batch of the hidden state should match the input sequence that\u001b[39;00m\n\u001b[0;32m    764\u001b[0m \u001b[39m# the user believes he/she is passing in.\u001b[39;00m\n",
      "\u001b[1;31mRuntimeError\u001b[0m: For unbatched 2-D input, hx and cx should also be 2-D but got (3-D, 3-D) tensors"
     ]
    }
   ],
   "source": [
    "summary(model,(98304,96))"
   ]
  }
 ],
 "metadata": {
  "kernelspec": {
   "display_name": "Python 3 (ipykernel)",
   "language": "python",
   "name": "python3"
  },
  "language_info": {
   "codemirror_mode": {
    "name": "ipython",
    "version": 3
   },
   "file_extension": ".py",
   "mimetype": "text/x-python",
   "name": "python",
   "nbconvert_exporter": "python",
   "pygments_lexer": "ipython3",
   "version": "3.9.5"
  },
  "vscode": {
   "interpreter": {
    "hash": "7e8d1d2aa4d33a8e6fda18ff645941842f9f35d76bafc6be3dc9741da9b12cb4"
   }
  }
 },
 "nbformat": 4,
 "nbformat_minor": 2
}
