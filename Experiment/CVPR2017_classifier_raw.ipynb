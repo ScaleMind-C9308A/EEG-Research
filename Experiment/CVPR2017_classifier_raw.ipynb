{
 "cells": [
  {
   "cell_type": "code",
   "execution_count": 1,
   "id": "ea7f6401",
   "metadata": {},
   "outputs": [],
   "source": [
    "import os\n",
    "import random\n",
    "import torch\n",
    "import numpy as np\n",
    "import pickle as pkl\n",
    "from analysis import *\n",
    "import argparse\n",
    "from sys import platform\n",
    "%load_ext autoreload\n",
    "%autoreload 2"
   ]
  },
  {
   "cell_type": "code",
   "execution_count": 2,
   "id": "c192d33d",
   "metadata": {},
   "outputs": [],
   "source": [
    "torch.manual_seed(12)\n",
    "torch.cuda.manual_seed(12)\n",
    "np.random.seed(12)\n",
    "torch.backends.cudnn.deterministics = True\n",
    "torch.set_num_threads(1)"
   ]
  },
  {
   "cell_type": "code",
   "execution_count": 3,
   "id": "daf1a8a1",
   "metadata": {},
   "outputs": [
    {
     "name": "stdout",
     "output_type": "stream",
     "text": [
      "True\n",
      "2\n",
      "0\n",
      "<torch.cuda.device object at 0x7f0e516cbdf0>\n",
      "NVIDIA GeForce RTX 3090\n"
     ]
    }
   ],
   "source": [
    "print(torch.cuda.is_available())\n",
    "print(torch.cuda.device_count())\n",
    "print(torch.cuda.current_device())\n",
    "\n",
    "\n",
    "print(torch.cuda.device(0))\n",
    "print(torch.cuda.get_device_name(0))"
   ]
  },
  {
   "cell_type": "code",
   "execution_count": 4,
   "id": "ff733115",
   "metadata": {},
   "outputs": [],
   "source": [
    "# iv: image option\n",
    "length = 440\n",
    "channel = 128\n",
    "min_CNN = 200\n",
    "n_classes = 40\n",
    "classes = range(n_classes)\n"
   ]
  },
  {
   "cell_type": "code",
   "execution_count": 5,
   "id": "3b68db2d",
   "metadata": {},
   "outputs": [],
   "source": [
    "if platform == \"linux\" or platform == \"linux2\":\n",
    "    torch_models_dir = r\"/media/mountHDD1/LanxHuyen/CVPR2017\"\n",
    "elif platform == \"win32\":\n",
    "    torch_models_dir = r\"D:\\Data\\CVPR2021-02785\\CVPR2021-02785\\preprocessed\\torch_models\"\n",
    "block_splits_all = '/media/mountHDD1/LanxHuyen/CVPR2017/block_splits_by_image_all.pth' \n",
    "eeg_raw = '/media/mountHDD1/LanxHuyen/CVPR2017/eeg_55_95_std.pth'\n",
    "# block_splits_all, block_splits_single, eeg_14_70, eeg_55_95, eeg_5_95, eeg_raw = os.listdir(torch_models_dir)\n",
    "# print(os.listdir(torch_models_dir))"
   ]
  },
  {
   "cell_type": "code",
   "execution_count": 6,
   "id": "bd3ad4ce",
   "metadata": {},
   "outputs": [
    {
     "name": "stdout",
     "output_type": "stream",
     "text": [
      "/media/mountHDD1/LanxHuyen/CVPR2017/eeg_55_95_std.pth \n",
      " /media/mountHDD1/LanxHuyen/CVPR2017/block_splits_by_image_all.pth\n"
     ]
    }
   ],
   "source": [
    "# eeg_dataset = os.path.join(torch_models_dir, eeg_5_95)\n",
    "# splits_all_path = os.path.join(torch_models_dir, block_splits_all)\n",
    "eeg_dataset = eeg_raw\n",
    "splits_all_path = block_splits_all\n",
    "\n",
    "print(eeg_dataset,'\\n', splits_all_path)"
   ]
  },
  {
   "cell_type": "code",
   "execution_count": 7,
   "id": "659d4a6e",
   "metadata": {},
   "outputs": [],
   "source": [
    "splits_all = torch.load(splits_all_path)\n",
    "# splits_single = torch.load(splits_single_path)"
   ]
  },
  {
   "cell_type": "code",
   "execution_count": 8,
   "id": "8f3ef344",
   "metadata": {},
   "outputs": [
    {
     "name": "stdout",
     "output_type": "stream",
     "text": [
      "6\n",
      "3\n",
      "7984\n",
      "1996\n",
      "1985\n",
      "[0, 3, 4, 5, 6, 8, 9, 10, 11, 12, 13, 15, 16, 17, 18, 19, 21, 22, 23, 24, 25, 27, 29, 33, 35, 36, 37, 38, 39, 42, 43, 44, 45, 46, 47, 48, 51, 52, 54, 55]\n",
      "[1, 2, 3, 4, 6, 8, 9, 12, 13, 20, 25, 26, 27, 28, 30, 32, 33, 35, 37, 38, 39, 40, 44, 45, 46, 50, 52, 54, 56, 58, 59, 60, 62, 65, 68, 72, 73, 74, 76, 81]\n",
      "[2, 3, 4, 5, 6, 7, 8, 10, 11, 13]\n",
      "[1, 2, 4, 7, 9, 10, 12, 13, 14, 15]\n"
     ]
    }
   ],
   "source": [
    "print(len(splits_all['splits']))\n",
    "print(len(splits_all['splits'][0]))\n",
    "\n",
    "print(len(splits_all['splits'][5]['train']))\n",
    "print(len(splits_all['splits'][5]['val']))\n",
    "print(len(splits_all['splits'][5]['test']))\n",
    "print(splits_all['splits'][0]['train'][:40])\n",
    "print(splits_all['splits'][1]['train'][:40])\n",
    "print(splits_all['splits'][2]['train'][:10])\n",
    "print(splits_all['splits'][3]['train'][:10])\n"
   ]
  },
  {
   "cell_type": "code",
   "execution_count": 45,
   "id": "89460bfa",
   "metadata": {},
   "outputs": [
    {
     "name": "stdout",
     "output_type": "stream",
     "text": [
      "3\n",
      "dict_keys(['dataset', 'labels', 'images'])\n",
      "40\n",
      "1996\n",
      "11965\n",
      "n02389026 n03888257 n03584829 n02607072 n03297495 n03063599 n03792782 n04086273 n02510455 n11939491 n02951358 n02281787 n02106662 n04120489 n03590841 n02992529 n03445777 n03180011 n02906734 n07873807 n03773504 n02492035 n03982430 n03709823 n03100240 n03376595 n03877472 n03775071 n03272010 n04069434 n03452741 n03792972 n07753592 n13054560 n03197337 n02504458 n02690373 n03272562 n04044716 n02124075\n",
      "n02951358_31190\n",
      "torch.Size([128, 500])\n",
      "{'eeg': tensor([[ 1.7147e-02,  2.3283e-01,  4.0575e-01,  ..., -6.0889e-01,\n",
      "         -3.4890e-01, -3.1541e-02],\n",
      "        [ 2.3134e-02,  2.8261e-01,  4.9883e-01,  ..., -6.2466e-01,\n",
      "         -3.5702e-01, -3.1965e-02],\n",
      "        [-2.3792e-02, -4.0139e-01, -7.0958e-01,  ...,  7.1729e-01,\n",
      "          4.1546e-01,  1.6468e-02],\n",
      "        ...,\n",
      "        [ 1.1773e-02,  2.2352e-02,  2.3448e-02,  ..., -1.5988e-01,\n",
      "         -9.4679e-02, -1.2204e-02],\n",
      "        [ 1.3201e-03,  1.5371e-02,  2.5863e-02,  ..., -1.9464e-02,\n",
      "         -1.1201e-02, -3.8365e-04],\n",
      "        [ 5.7138e-03,  1.0533e-01,  1.7794e-01,  ..., -1.9640e-01,\n",
      "         -1.1400e-01, -6.4751e-03]]), 'image': 1950, 'label': 16, 'subject': 4}\n"
     ]
    }
   ],
   "source": [
    "eeg_loaded = torch.load(eeg_dataset)\n",
    "dataset, labels, images = [eeg_loaded[k] for k in eeg_loaded.keys()]\n",
    "print(len(eeg_loaded))\n",
    "print(eeg_loaded.keys())\n",
    "print(len(labels))\n",
    "print(len(images))\n",
    "print(len(dataset))\n",
    "print(*labels)\n",
    "print(images[0])\n",
    "print(dataset[0]['eeg'].shape)\n",
    "print(dataset[1950])\n",
    "#Trial 0-1995 - subject 4\n",
    "#Trial 1996 - 3980 - subject 1\n",
    "#Trial 3981 - 5976 - subject 6\n",
    "#Trial 5977 - 7972 - subject 3\n",
    "#Trial 7973 - 9968 - subject 2\n",
    "#Trial 9969 - 11964 - subject 5"
   ]
  },
  {
   "cell_type": "code",
   "execution_count": 46,
   "id": "461d53c5-8e48-45c3-b6f0-f658c6c5bbd5",
   "metadata": {},
   "outputs": [
    {
     "name": "stderr",
     "output_type": "stream",
     "text": [
      "/tmp/ipykernel_10779/2903703738.py:17: UserWarning: To copy construct from a tensor, it is recommended to use sourceTensor.clone().detach() or sourceTensor.clone().detach().requires_grad_(True), rather than torch.tensor(sourceTensor).\n",
      "  resized_images = torch.tensor(resized_images, dtype=torch.float32)\n"
     ]
    }
   ],
   "source": [
    "import torch\n",
    "import torch.nn.functional as F\n",
    "import cv2\n",
    "output_directory = '/media/mountHDD1/LanxHuyen/CVPR2017'\n",
    "# Define constants\n",
    "# input_shape = (512, 440, 3)  # Original EEG image shape\n",
    "output_shape = (512, 440)  # Resized image shape\n",
    "\n",
    "# Method 1: Creating grayscale heatmaps for each trial\n",
    "def process_method_1(eeg_data,time_low=20, time_high=460, output_shape=(512, 440)):\n",
    "    eeg_data = eeg_data[:, time_low:time_high]\n",
    "    normalized_data = (eeg_data - eeg_data.min()) / (eeg_data.max() - eeg_data.min())\n",
    "    grayscale_images = (normalized_data * 255).to(torch.uint8)\n",
    "    grayscale_images = grayscale_images.unsqueeze(0).unsqueeze(0) # (1, 1, h, w)\n",
    "    resized_images = F.interpolate(grayscale_images, size=(512, 440), mode='bilinear', align_corners=True)\n",
    "    resized_images = resized_images.squeeze(0).squeeze(0)\n",
    "    resized_images = torch.tensor(resized_images, dtype=torch.float32)\n",
    "    return resized_images\n",
    "# for i, eeg_data in enumerate(dataset):\n",
    "#     if i==0:\n",
    "#         eeg_data = eeg_data['eeg']\n",
    "#         h, w = eeg_data.size()\n",
    "#         normalized_data = (eeg_data - eeg_data.min()) / (eeg_data.max() - eeg_data.min())\n",
    "#         grayscale_images = (normalized_data * 255).to(torch.uint8)\n",
    "#         # print(grayscale_images.size()) \n",
    "#         grayscale_images = grayscale_images.unsqueeze(0).unsqueeze(0) # (1, 1, h, w)\n",
    "#         # print(grayscale_images.size()) \n",
    "#         resized_images = F.interpolate(grayscale_images, size=(512, 440), mode='bilinear', align_corners=True)\n",
    "#         resized_images = torch.tensor(resized_images, dtype=torch.float32)\n",
    "#         print(resized_images)\n",
    "# Apply method 1 to each tensor in eeg_tensors\n",
    "for sample in dataset:\n",
    "    sample['eeg'] = process_method_1(sample['eeg'])\n"
   ]
  },
  {
   "cell_type": "code",
   "execution_count": 47,
   "id": "6b00f44b-9497-4cc3-a27b-eeea099e37b6",
   "metadata": {},
   "outputs": [
    {
     "name": "stdout",
     "output_type": "stream",
     "text": [
      "[[136. 135. 133. ... 124. 123. 123.]\n",
      " [135. 134. 132. ... 123. 122. 123.]\n",
      " [133. 133. 131. ... 122. 122. 122.]\n",
      " ...\n",
      " [125. 125. 125. ... 126. 126. 126.]\n",
      " [125. 125. 125. ... 125. 125. 126.]\n",
      " [124. 124. 124. ... 125. 125. 126.]]\n"
     ]
    },
    {
     "data": {
      "image/png": "[encoded data removed]",
      "text/plain": [
       "<Figure size 640x480 with 1 Axes>"
      ]
     },
     "metadata": {},
     "output_type": "display_data"
    }
   ],
   "source": [
    "import matplotlib.pyplot as plt\n",
    "import numpy as np\n",
    "\n",
    "# Assuming you have already processed the images using the process_method_1 function\n",
    "# processed_images = [process_method_1(eeg_tensor) for eeg_tensor in eeg_tensors]\n",
    "\n",
    "# Choose the index of the image you want to plot (e.g., index 0)\n",
    "image_index = 1100\n",
    "\n",
    "# Convert the processed image to a numpy array and transpose dimensions\n",
    "# numpy_image = processed_images[image_index].numpy().transpose(1, 2, 0)\n",
    "numpy_image = dataset[image_index]['eeg'].numpy()\n",
    "print(numpy_image)\n",
    "\n",
    "# Plot the processed image\n",
    "plt.imshow(numpy_image, cmap='gray')  # Display as grayscale\n",
    "plt.title(f\"Processed Image {image_index + 1}\")\n",
    "plt.axis('off')\n",
    "plt.show()"
   ]
  },
  {
   "cell_type": "code",
   "execution_count": null,
   "id": "d0622bed-e601-403e-9922-1092184143c9",
   "metadata": {},
   "outputs": [],
   "source": [
    "import numpy as np\n",
    "eeg_length = np.zeros(len(dataset))\n",
    "for i in range(len(dataset)):\n",
    "    eeg_length[i] = list(dataset[i]['eeg'].size())[1]"
   ]
  },
  {
   "cell_type": "code",
   "execution_count": null,
   "id": "705efb3d-d698-45e5-81c8-d229508e0573",
   "metadata": {},
   "outputs": [],
   "source": [
    "sub_length = np.empty(len(dataset))\n",
    "for i in range(len(dataset)):\n",
    "    sub_length[i] = dataset[i]['subject']"
   ]
  },
  {
   "cell_type": "code",
   "execution_count": null,
   "id": "e350273b-bd0f-474b-b6af-d1972259d51c",
   "metadata": {},
   "outputs": [],
   "source": [
    "# print(dataset['eeg'].size())\n",
    "import torch.nn.functional as F\n",
    "desired_size = 500\n",
    "\n",
    "new_dataset = torch.zeros(len(dataset), 128, desired_size)\n",
    "\n",
    "for i in range(len(dataset)):\n",
    "    eeg_data = dataset[i]['eeg']\n",
    "\n",
    "    # Convert the tensor to torch.float32\n",
    "    eeg_data_float = eeg_data.to(torch.float32)\n",
    "\n",
    "    # Resize using linear interpolation\n",
    "    resized_eeg = F.interpolate(eeg_data_float.unsqueeze(0), size=desired_size, mode='linear')\n",
    "\n",
    "    # Convert the resized tensor back to the original data type (if needed)\n",
    "    resized_eeg = resized_eeg.to(eeg_data.dtype)\n",
    "\n",
    "    new_dataset[i, :, :] = resized_eeg.squeeze(0)"
   ]
  },
  {
   "cell_type": "code",
   "execution_count": null,
   "id": "650d2983-8c0d-4a12-ad79-969b98d1ed76",
   "metadata": {},
   "outputs": [],
   "source": [
    "new_dataset.size()"
   ]
  },
  {
   "cell_type": "code",
   "execution_count": null,
   "id": "b009fd9f-ba08-4581-ae9b-938c086c768e",
   "metadata": {},
   "outputs": [],
   "source": [
    "for j in range(1996):\n",
    "    filtered_dataset_4 = new_dataset[j]\n",
    "for k in range(1996,3980):\n",
    "    filtered_dataset_1 = new_dataset[k]\n",
    "for l in range(3981,5976):\n",
    "    filtered_dataset_6 = new_dataset[l]\n",
    "for m in range(5977,7972):\n",
    "    filtered_dataset_3 = new_dataset[m]\n",
    "for n in range(7973,9968):\n",
    "    filtered_dataset_2 = new_dataset[n]\n",
    "for o in range(9969,11964):\n",
    "    filtered_dataset_5 = new_dataset[o]"
   ]
  },
  {
   "cell_type": "code",
   "execution_count": null,
   "id": "63b2abf4-51f5-4dc6-98ad-227fc3b43cb3",
   "metadata": {},
   "outputs": [],
   "source": [
    "print(filtered_dataset_4.size())\n",
    "print(filtered_dataset_1.size())\n",
    "print(filtered_dataset_6.size())\n",
    "print(filtered_dataset_3.size())\n",
    "print(filtered_dataset_2.size())\n",
    "print(filtered_dataset_5.size())"
   ]
  },
  {
   "cell_type": "code",
   "execution_count": null,
   "id": "c4256b0a-5eb5-4452-b4be-8f4b7c012e94",
   "metadata": {},
   "outputs": [],
   "source": [
    "filtered_dataset = torch.stack((filtered_dataset_4,filtered_dataset_1,filtered_dataset_6,filtered_dataset_3,filtered_dataset_2,filtered_dataset_5),dim = 0)"
   ]
  },
  {
   "cell_type": "code",
   "execution_count": null,
   "id": "42477c02-c6f5-44d6-9556-91334be23c77",
   "metadata": {},
   "outputs": [],
   "source": [
    "filtered_dataset.size()"
   ]
  },
  {
   "cell_type": "code",
   "execution_count": null,
   "id": "c0c5e498-f99e-4245-83d6-04ac9d2cff74",
   "metadata": {},
   "outputs": [],
   "source": [
    "print(filtered_dataset)"
   ]
  },
  {
   "cell_type": "code",
   "execution_count": null,
   "id": "9b9f0c3e-342d-42ba-87d3-bf9c35da8972",
   "metadata": {},
   "outputs": [],
   "source": [
    "# for i in range(len(new_dataset)):\n",
    "#     image_index = dataset[i]['image']\n",
    "#     subject_index = dataset[i]['subject']\n",
    "#     filtered_dataset[subject_index-1, :, :] = new_dataset[image_index]"
   ]
  },
  {
   "cell_type": "code",
   "execution_count": null,
   "id": "cfe17546-be01-4652-9af9-47d2f82cf01f",
   "metadata": {},
   "outputs": [],
   "source": [
    "keys = ('eeg', 'images', 'label')\n",
    "for i in range(len(new_dataset)):\n",
    "    value = (filtered_dataset, dataset"
   ]
  },
  {
   "cell_type": "code",
   "execution_count": null,
   "id": "bb6ddbd4-df0d-4941-b3fb-6cdd7191e60e",
   "metadata": {},
   "outputs": [],
   "source": [
    "# for i in range(len(dataset)):\n",
    "#     # Normalize each component using mean and stddev\n",
    "#    new_dataset[i, :, :] = (new_dataset[i, :, :] - means) / stddevs"
   ]
  },
  {
   "cell_type": "code",
   "execution_count": null,
   "id": "bc92fafe-e82a-4827-8a57-4a3905888615",
   "metadata": {},
   "outputs": [],
   "source": [
    "# print(new_dataset.size())\n",
    "# print(new_dataset[0])\n",
    "\n",
    "# import matplotlib.pyplot as plt\n",
    "# plt.plot(new_dataset[0][0])"
   ]
  },
  {
   "cell_type": "code",
   "execution_count": null,
   "id": "0ce51342-58ba-4b1f-abf0-3b1f7a03b6f6",
   "metadata": {},
   "outputs": [],
   "source": [
    "heatmap_image = filtered_dataset"
   ]
  },
  {
   "cell_type": "code",
   "execution_count": null,
   "id": "a206fe67-0e8c-4c0e-9736-9e7c14170d7e",
   "metadata": {},
   "outputs": [],
   "source": [
    "heatmap_image.size()"
   ]
  },
  {
   "cell_type": "code",
   "execution_count": null,
   "id": "58b42a42-ddb9-4b10-9b0a-cf806c1e4385",
   "metadata": {},
   "outputs": [],
   "source": [
    "# Normalize the heatmap image to [0, 255]\n",
    "heatmap_image_normalized = ((heatmap_image - heatmap_image.min()) /\n",
    "                            (heatmap_image.max() - heatmap_image.min()) * 255).byte()"
   ]
  },
  {
   "cell_type": "code",
   "execution_count": null,
   "id": "b43f4c49-a079-4a26-aff1-9eef91cd9a1d",
   "metadata": {},
   "outputs": [],
   "source": [
    "# Convert the tensor to a NumPy array for plotting\n",
    "heatmap_image_np = heatmap_image_normalized.numpy()\n",
    "\n",
    "# Display the heatmap image\n",
    "plt.imshow(heatmap_image_np, cmap='gray')\n",
    "plt.title(\"EEG Grayscale Heatmap Image\")\n",
    "plt.colorbar()\n",
    "plt.show()"
   ]
  },
  {
   "cell_type": "code",
   "execution_count": null,
   "id": "9edabc6c-65bb-4df7-948c-43498f1facc1",
   "metadata": {},
   "outputs": [],
   "source": [
    "print(heatmap_image_np)\n",
    "print(heatmap_image_np.shape)"
   ]
  },
  {
   "cell_type": "code",
   "execution_count": null,
   "id": "eba1ceab-c031-454b-aebf-828e4e6da59f",
   "metadata": {},
   "outputs": [],
   "source": [
    "for i in range(len(dataset)):\n",
    "    dataset[i]['eeg'] = new_dataset[i]"
   ]
  },
  {
   "cell_type": "code",
   "execution_count": null,
   "id": "8bc8c2eb-dbd3-4339-b997-ca31448896dc",
   "metadata": {},
   "outputs": [],
   "source": [
    "print(dataset[2])"
   ]
  },
  {
   "cell_type": "code",
   "execution_count": null,
   "id": "d20c958c",
   "metadata": {},
   "outputs": [],
   "source": [
    "opt = {\n",
    "    # Dataset options\n",
    "#     \"iv\": \"image\",\n",
    "#     \"offset\": None,\n",
    "    \"results_file\": \"results.pkl\",\n",
    "    \"subject\": 0,\n",
    "    \"time_low\": 20,\n",
    "    \"time_high\": 460,\n",
    "#     \"run\": \"none\",\n",
    "    \"eeg_dataset\": eeg_dataset,\n",
    "    \"model_type\": \"model10\",\n",
    "    \"splits_path\": splits_all_path,\n",
    "    \"split_num\": 0,\n",
    "    \"split_name\": \"train\",\n",
    "#     \"fold\": 5,\n",
    "    #Training options\n",
    "    \"batch_size\": 16,\n",
    "    \"optim\": \"Adam\",\n",
    "    \"learning_rate\": 0.001,\n",
    "    \"learning_rate_decay_by\": 0.5,\n",
    "    \"learning_rate_decay_every\": 10,\n",
    "    \"epochs\": 100,\n",
    "    \"GPUindex\": 0,\n",
    "    \"kind\":\"from-scratch\",\n",
    "    #Backend options\n",
    "    \"no_cuda\": False,\n",
    "    \"classifier\": None\n",
    "}\n",
    "opt = argparse.Namespace(**opt)\n",
    "print(opt)"
   ]
  },
  {
   "cell_type": "code",
   "execution_count": null,
   "id": "ce8d6e2b",
   "metadata": {},
   "outputs": [],
   "source": [
    "%load_ext autoreload\n",
    "%autoreload 2\n",
    "from torch.utils.data import DataLoader\n",
    "# from data_loader import EEGDataset, Splitter, SplitterWithData\n",
    "from data_loader_CVPR2017 import EEGDataset, Splitter\n",
    "from EEG_Encoder.LSTM import classifier_LSTM\n",
    "from EEG_Encoder.CNN import classifier_CNN\n",
    "from EEG_Encoder.EEGNet import classifier_EEGNet\n",
    "from EEG_Encoder.SyncNet import classifier_SyncNet\n",
    "from EEG_Encoder.EEGChannelNet import classifier_EEGChannelNet\n",
    "from EEG_Encoder.net_generator import Classifier\n",
    "from EEG_Encoder.net_trainer import net_trainer\n",
    "from p_values import *\n",
    "from torchinfo import summary"
   ]
  },
  {
   "cell_type": "code",
   "execution_count": null,
   "id": "0a5b475c",
   "metadata": {},
   "outputs": [],
   "source": [
    "def load_dataset(\n",
    "#              offset,\n",
    "             eeg_dataset,\n",
    "             splits_path,\n",
    "             split_num, # (0-5) - 6 fold cross validation\n",
    "#              total, \n",
    "#              classes,\n",
    "#              classifier,\n",
    "             batch_size,\n",
    "#              GPUindex,\n",
    "#              length, # 500\n",
    "#              channel, # 128\n",
    "#              min_CNN,\n",
    "             opt,\n",
    "             kind=\"from-scratch\"):        \n",
    "    # Load dataset\n",
    "    dataset = EEGDataset(opt, eeg_dataset)\n",
    "    print(\"DONE: LOAD DATASET\")\n",
    "#     # Create loaders for LSTM/MLP/CNN/SCNN/EEGNet/SyncNet/EEGChannelNet\n",
    "#     if kind==\"from-scratch\":\n",
    "#         relabel = False\n",
    "#     if kind==\"incremental\":\n",
    "#         relabel = False\n",
    "#     if kind==\"no-model-file\":\n",
    "#         relabel = True\n",
    "    splitter = {split: Splitter(dataset,\n",
    "                    splits_path,\n",
    "                    split_num,\n",
    "                    split_name=split) for split in [\"train\", \"val\", \"test\"]}\n",
    "    loaders = {split: DataLoader(\n",
    "                        splitter[split],\n",
    "                        batch_size = batch_size,\n",
    "                        drop_last = False,\n",
    "                        shuffle = True)\n",
    "                    for split in [\"train\", \"val\", \"test\"]}\n",
    "    channel_idx = None    \n",
    "    print(\"DONE: Create loaders for model\")            \n",
    "    return dataset, loaders, splitter"
   ]
  },
  {
   "cell_type": "code",
   "execution_count": null,
   "id": "a242cae5",
   "metadata": {},
   "outputs": [],
   "source": [
    "# Options\n",
    "opt.classifier = \"LSTM4\"\n",
    "opt.batch_size = 16\n",
    "# opt.kind = \"from-scratch\"\n",
    "# opt.run = \"imagenet40-1000\"\n",
    "# opt.fold = 5"
   ]
  },
  {
   "cell_type": "code",
   "execution_count": null,
   "id": "633488a6",
   "metadata": {},
   "outputs": [],
   "source": [
    "dataset, loaders, splitter = load_dataset(\n",
    "#              offset,\n",
    "             opt.eeg_dataset,\n",
    "             opt.splits_path,\n",
    "             opt.split_num, # (0-5) - 6 fold cross validation\n",
    "#              total, \n",
    "#              classes,\n",
    "#              classifier,\n",
    "             opt.batch_size,\n",
    "#              GPUindex,\n",
    "#              length, # 500\n",
    "#              channel, # 128\n",
    "#              min_CNN,\n",
    "             opt,\n",
    "             opt.kind)"
   ]
  },
  {
   "cell_type": "code",
   "execution_count": null,
   "id": "e99fc973",
   "metadata": {
    "scrolled": true
   },
   "outputs": [],
   "source": [
    "# loaders: divide the splits data in each fold with batch_size\n",
    "# Each fold has {train: 8000 idx, val: 2000 idx, test: 2000 idx}\n",
    "# Each loader batch has {train: 2000 idx, val: 250 idx, test: 250 idx}\n",
    "print(type(dataset))\n",
    "print(type(loaders))\n",
    "print(len(loaders), [len(loaders[name]) for name in [\"train\", \"val\", \"test\"] ])\n",
    "# for i, (input, target) in enumerate(loaders[\"train\"]):\n",
    "#     if i<20:\n",
    "#         print(f\"{i+1}: Target size: {target.size()}; input size: {input.size()}\")\n",
    "for i in range(0, 40):\n",
    "    eeg, label_val = splitter[\"val\"][i]\n",
    "    eeg, label_train = splitter[\"train\"][i]\n",
    "    print(f\"{i+1}: Label val: {label_val}; label train: {label_train}\")\n"
   ]
  },
  {
   "cell_type": "code",
   "execution_count": null,
   "id": "39a07cc7",
   "metadata": {},
   "outputs": [],
   "source": [
    "net, nonclasses = Classifier(\n",
    "                 n_classes,\n",
    "                 classes,\n",
    "                 opt.classifier,\n",
    "                 opt.GPUindex,\n",
    "                 length,\n",
    "                 channel,\n",
    "                 min_CNN,\n",
    "                 opt.kind)\n",
    "# print(len(nonclasses))\n",
    "summary(net, input_size=(1,128, 440))"
   ]
  },
  {
   "cell_type": "code",
   "execution_count": null,
   "id": "8a8d6995",
   "metadata": {},
   "outputs": [],
   "source": [
    "model_path = (   \"CVPR2017-\" +\n",
    "                  opt.classifier+\n",
    "                  \"-\"+\n",
    "                  str(length)+\n",
    "                  \"-\"+\n",
    "                  str(channel)+\n",
    "                  \"-\"+\n",
    "                  'Retest' )\n",
    "print(model_path)"
   ]
  },
  {
   "cell_type": "code",
   "execution_count": null,
   "id": "4b753db4",
   "metadata": {},
   "outputs": [],
   "source": [
    "print(opt)"
   ]
  },
  {
   "cell_type": "code",
   "execution_count": null,
   "id": "5334cb84",
   "metadata": {},
   "outputs": [
    {
     "name": "stdout",
     "output_type": "stream",
     "text": [
      "Train Batch 100 (every 100 batch): Loss=0.1550; accuracy=0.9006\n",
      "Train Batch 200 (every 100 batch): Loss=0.3906; accuracy=0.9047\n",
      "Train Batch 300 (every 100 batch): Loss=0.3261; accuracy=0.9083\n",
      "Train Batch 400 (every 100 batch): Loss=0.6428; accuracy=0.9066\n",
      "Epoch 47 summary: train_loss: 0.3177 | train_acc: 0.9004 | val_loss: 4.7394 | val_acc: 0.2010\n",
      "Epoch 48\n",
      "Train Batch 100 (every 100 batch): Loss=0.1733; accuracy=0.9169\n",
      "Train Batch 200 (every 100 batch): Loss=0.3384; accuracy=0.9178\n",
      "Train Batch 300 (every 100 batch): Loss=0.1867; accuracy=0.9167\n",
      "Train Batch 400 (every 100 batch): Loss=0.6507; accuracy=0.9172\n",
      "Epoch 48 summary: train_loss: 0.2767 | train_acc: 0.9110 | val_loss: 4.8376 | val_acc: 0.2001\n",
      "Epoch 49\n",
      "Train Batch 100 (every 100 batch): Loss=0.4388; accuracy=0.9013\n",
      "Train Batch 200 (every 100 batch): Loss=0.1834; accuracy=0.8944\n",
      "Train Batch 300 (every 100 batch): Loss=0.8391; accuracy=0.8906\n",
      "Train Batch 400 (every 100 batch): Loss=0.2250; accuracy=0.8869\n",
      "Epoch 49 summary: train_loss: 0.3888 | train_acc: 0.8752 | val_loss: 4.9309 | val_acc: 0.2019\n",
      "Epoch 50\n",
      "Train Batch 100 (every 100 batch): Loss=0.1337; accuracy=0.8975\n",
      "Train Batch 200 (every 100 batch): Loss=0.4363; accuracy=0.9013\n",
      "Train Batch 300 (every 100 batch): Loss=0.5030; accuracy=0.9023\n",
      "Train Batch 400 (every 100 batch): Loss=0.5883; accuracy=0.9013\n",
      "Epoch 50 summary: train_loss: 0.3148 | train_acc: 0.8998 | val_loss: 4.9465 | val_acc: 0.2006\n",
      "Epoch 51\n",
      "Train Batch 100 (every 100 batch): Loss=0.1978; accuracy=0.9231\n",
      "Train Batch 200 (every 100 batch): Loss=0.0430; accuracy=0.9291\n",
      "Train Batch 300 (every 100 batch): Loss=0.0582; accuracy=0.9317\n",
      "Train Batch 400 (every 100 batch): Loss=0.4233; accuracy=0.9286\n",
      "Epoch 51 summary: train_loss: 0.2407 | train_acc: 0.9242 | val_loss: 4.9428 | val_acc: 0.2081\n",
      "Epoch 52\n",
      "Train Batch 100 (every 100 batch): Loss=0.1504; accuracy=0.9425\n",
      "Train Batch 200 (every 100 batch): Loss=0.2866; accuracy=0.9297\n",
      "Train Batch 300 (every 100 batch): Loss=0.0887; accuracy=0.9294\n",
      "Train Batch 400 (every 100 batch): Loss=0.0660; accuracy=0.9312\n",
      "Epoch 52 summary: train_loss: 0.2393 | train_acc: 0.9255 | val_loss: 5.0147 | val_acc: 0.2049\n",
      "Epoch 53\n",
      "Train Batch 100 (every 100 batch): Loss=0.2879; accuracy=0.9244\n",
      "Train Batch 200 (every 100 batch): Loss=0.1202; accuracy=0.9187\n",
      "Train Batch 300 (every 100 batch): Loss=0.4162; accuracy=0.9123\n",
      "Train Batch 400 (every 100 batch): Loss=1.2476; accuracy=0.8992\n",
      "Epoch 53 summary: train_loss: 0.3607 | train_acc: 0.8874 | val_loss: 5.3071 | val_acc: 0.2016\n",
      "Epoch 54\n",
      "Train Batch 100 (every 100 batch): Loss=0.1943; accuracy=0.8587\n",
      "Train Batch 200 (every 100 batch): Loss=0.1112; accuracy=0.8647\n",
      "Train Batch 300 (every 100 batch): Loss=0.0625; accuracy=0.8735\n",
      "Train Batch 400 (every 100 batch): Loss=0.3071; accuracy=0.8839\n",
      "Epoch 54 summary: train_loss: 0.3415 | train_acc: 0.8924 | val_loss: 5.0915 | val_acc: 0.2124\n",
      "Epoch 55\n",
      "Train Batch 100 (every 100 batch): Loss=0.0525; accuracy=0.9506\n",
      "Train Batch 200 (every 100 batch): Loss=0.1586; accuracy=0.9503\n",
      "Train Batch 300 (every 100 batch): Loss=0.2374; accuracy=0.9560\n",
      "Train Batch 400 (every 100 batch): Loss=0.0974; accuracy=0.9592\n",
      "Epoch 55 summary: train_loss: 0.1598 | train_acc: 0.9556 | val_loss: 5.2177 | val_acc: 0.2241\n",
      "Epoch 56\n",
      "Train Batch 100 (every 100 batch): Loss=0.0389; accuracy=0.9638\n",
      "Train Batch 200 (every 100 batch): Loss=0.2657; accuracy=0.9634\n",
      "Train Batch 300 (every 100 batch): Loss=0.2880; accuracy=0.9610\n",
      "Train Batch 400 (every 100 batch): Loss=0.5823; accuracy=0.9591\n",
      "Epoch 56 summary: train_loss: 0.1505 | train_acc: 0.9547 | val_loss: 5.4042 | val_acc: 0.2109\n",
      "Epoch 57\n",
      "Train Batch 100 (every 100 batch): Loss=0.0998; accuracy=0.9594\n",
      "Train Batch 200 (every 100 batch): Loss=0.0907; accuracy=0.9631\n",
      "Train Batch 300 (every 100 batch): Loss=0.0443; accuracy=0.9596\n",
      "Train Batch 400 (every 100 batch): Loss=0.1017; accuracy=0.9548\n",
      "Epoch 57 summary: train_loss: 0.2515 | train_acc: 0.9309 | val_loss: 6.2120 | val_acc: 0.1801\n",
      "Epoch 58\n",
      "Train Batch 100 (every 100 batch): Loss=0.2491; accuracy=0.8044\n",
      "Train Batch 200 (every 100 batch): Loss=0.0940; accuracy=0.8181\n",
      "Train Batch 300 (every 100 batch): Loss=0.4204; accuracy=0.8238\n",
      "Train Batch 400 (every 100 batch): Loss=0.2622; accuracy=0.8370\n",
      "Epoch 58 summary: train_loss: 0.4887 | train_acc: 0.8439 | val_loss: 5.2874 | val_acc: 0.2152\n",
      "Epoch 59\n",
      "Train Batch 100 (every 100 batch): Loss=0.3242; accuracy=0.9456\n",
      "Train Batch 200 (every 100 batch): Loss=0.2852; accuracy=0.9356\n",
      "Train Batch 300 (every 100 batch): Loss=0.1490; accuracy=0.9413\n",
      "Train Batch 400 (every 100 batch): Loss=0.0514; accuracy=0.9437\n",
      "Epoch 59 summary: train_loss: 0.1884 | train_acc: 0.9462 | val_loss: 5.4681 | val_acc: 0.2185\n",
      "Epoch 60\n",
      "Train Batch 100 (every 100 batch): Loss=0.2433; accuracy=0.9544\n",
      "Train Batch 200 (every 100 batch): Loss=0.0472; accuracy=0.9641\n",
      "Train Batch 300 (every 100 batch): Loss=0.0616; accuracy=0.9679\n",
      "Train Batch 400 (every 100 batch): Loss=0.0585; accuracy=0.9691\n",
      "Epoch 60 summary: train_loss: 0.1277 | train_acc: 0.9665 | val_loss: 5.4863 | val_acc: 0.2191\n",
      "Epoch 61\n",
      "Train Batch 100 (every 100 batch): Loss=0.0442; accuracy=0.9669\n",
      "Train Batch 200 (every 100 batch): Loss=0.0795; accuracy=0.9587\n",
      "Train Batch 300 (every 100 batch): Loss=0.1007; accuracy=0.9519\n",
      "Train Batch 400 (every 100 batch): Loss=0.2571; accuracy=0.9408\n",
      "Epoch 61 summary: train_loss: 0.2318 | train_acc: 0.9307 | val_loss: 5.7579 | val_acc: 0.2001\n",
      "Epoch 62\n",
      "Train Batch 100 (every 100 batch): Loss=0.1829; accuracy=0.9069\n",
      "Train Batch 200 (every 100 batch): Loss=0.0326; accuracy=0.9144\n",
      "Train Batch 300 (every 100 batch): Loss=0.2130; accuracy=0.9173\n",
      "Train Batch 400 (every 100 batch): Loss=0.1894; accuracy=0.9181\n",
      "Epoch 62 summary: train_loss: 0.2537 | train_acc: 0.9185 | val_loss: 5.7035 | val_acc: 0.2156\n",
      "Epoch 63\n",
      "Train Batch 100 (every 100 batch): Loss=0.0778; accuracy=0.9500\n",
      "Train Batch 200 (every 100 batch): Loss=0.1334; accuracy=0.9481\n",
      "Train Batch 300 (every 100 batch): Loss=0.2114; accuracy=0.9477\n",
      "Train Batch 400 (every 100 batch): Loss=0.0604; accuracy=0.9433\n",
      "Epoch 63 summary: train_loss: 0.1874 | train_acc: 0.9435 | val_loss: 5.5723 | val_acc: 0.2063\n",
      "Epoch 64\n",
      "Train Batch 100 (every 100 batch): Loss=0.0453; accuracy=0.9575\n",
      "Train Batch 200 (every 100 batch): Loss=0.5496; accuracy=0.9541\n",
      "Train Batch 300 (every 100 batch): Loss=0.0766; accuracy=0.9513\n",
      "Train Batch 400 (every 100 batch): Loss=0.1496; accuracy=0.9520\n",
      "Epoch 64 summary: train_loss: 0.1848 | train_acc: 0.9459 | val_loss: 5.8417 | val_acc: 0.2074\n",
      "Epoch 65\n",
      "Train Batch 100 (every 100 batch): Loss=0.2295; accuracy=0.9431\n",
      "Train Batch 200 (every 100 batch): Loss=0.2198; accuracy=0.9428\n",
      "Train Batch 300 (every 100 batch): Loss=0.1864; accuracy=0.9408\n",
      "Train Batch 400 (every 100 batch): Loss=0.1913; accuracy=0.9325\n",
      "Epoch 65 summary: train_loss: 0.2575 | train_acc: 0.9230 | val_loss: 6.0446 | val_acc: 0.1896\n",
      "Epoch 66\n",
      "Train Batch 100 (every 100 batch): Loss=0.1527; accuracy=0.9119\n",
      "Train Batch 200 (every 100 batch): Loss=0.5072; accuracy=0.9150\n",
      "Train Batch 300 (every 100 batch): Loss=0.2642; accuracy=0.9135\n",
      "Train Batch 400 (every 100 batch): Loss=0.0985; accuracy=0.9131\n",
      "Epoch 66 summary: train_loss: 0.2670 | train_acc: 0.9183 | val_loss: 5.7841 | val_acc: 0.2139\n",
      "Epoch 67\n",
      "Train Batch 100 (every 100 batch): Loss=0.1639; accuracy=0.9613\n",
      "Train Batch 200 (every 100 batch): Loss=0.5966; accuracy=0.9594\n",
      "Train Batch 300 (every 100 batch): Loss=0.1091; accuracy=0.9594\n",
      "Train Batch 400 (every 100 batch): Loss=0.0847; accuracy=0.9616\n",
      "Epoch 67 summary: train_loss: 0.1271 | train_acc: 0.9637 | val_loss: 5.7379 | val_acc: 0.2184\n",
      "Epoch 68\n",
      "Train Batch 100 (every 100 batch): Loss=0.0601; accuracy=0.9812\n",
      "Train Batch 200 (every 100 batch): Loss=0.1060; accuracy=0.9800\n",
      "Train Batch 300 (every 100 batch): Loss=0.0315; accuracy=0.9813\n",
      "Train Batch 400 (every 100 batch): Loss=0.1219; accuracy=0.9831\n",
      "Epoch 68 summary: train_loss: 0.0725 | train_acc: 0.9842 | val_loss: 5.7870 | val_acc: 0.2183\n",
      "Epoch 69\n",
      "Train Batch 100 (every 100 batch): Loss=0.0420; accuracy=0.9837\n",
      "Train Batch 200 (every 100 batch): Loss=0.0474; accuracy=0.9850\n",
      "Train Batch 300 (every 100 batch): Loss=0.0378; accuracy=0.9854\n",
      "Train Batch 400 (every 100 batch): Loss=0.0454; accuracy=0.9844\n",
      "Epoch 69 summary: train_loss: 0.1000 | train_acc: 0.9758 | val_loss: 6.6519 | val_acc: 0.1958\n",
      "Epoch 70\n"
     ]
    },
    {
     "name": "stdout",
     "output_type": "stream",
     "text": [
      "Train Batch 100 (every 100 batch): Loss=0.4704; accuracy=0.8187\n",
      "Train Batch 200 (every 100 batch): Loss=0.2372; accuracy=0.8181\n",
      "Train Batch 300 (every 100 batch): Loss=0.2904; accuracy=0.8152\n",
      "Train Batch 400 (every 100 batch): Loss=0.2112; accuracy=0.8194\n",
      "Epoch 70 summary: train_loss: 0.5636 | train_acc: 0.8289 | val_loss: 5.8814 | val_acc: 0.2016\n",
      "Epoch 71\n",
      "Train Batch 100 (every 100 batch): Loss=0.3092; accuracy=0.9256\n",
      "Train Batch 200 (every 100 batch): Loss=0.3137; accuracy=0.9300\n",
      "Train Batch 300 (every 100 batch): Loss=0.0731; accuracy=0.9383\n",
      "Train Batch 400 (every 100 batch): Loss=0.2065; accuracy=0.9442\n",
      "Epoch 71 summary: train_loss: 0.1714 | train_acc: 0.9450 | val_loss: 5.7815 | val_acc: 0.2046\n",
      "Epoch 72\n",
      "Train Batch 100 (every 100 batch): Loss=0.0299; accuracy=0.9656\n",
      "Train Batch 200 (every 100 batch): Loss=0.0485; accuracy=0.9716\n",
      "Train Batch 300 (every 100 batch): Loss=0.0297; accuracy=0.9727\n",
      "Train Batch 400 (every 100 batch): Loss=0.0633; accuracy=0.9722\n",
      "Epoch 72 summary: train_loss: 0.1059 | train_acc: 0.9728 | val_loss: 5.8607 | val_acc: 0.2068\n",
      "Epoch 73\n",
      "Train Batch 100 (every 100 batch): Loss=0.1674; accuracy=0.9856\n",
      "Train Batch 200 (every 100 batch): Loss=0.0576; accuracy=0.9822\n",
      "Train Batch 300 (every 100 batch): Loss=0.1496; accuracy=0.9740\n",
      "Train Batch 400 (every 100 batch): Loss=0.1042; accuracy=0.9613\n",
      "Epoch 73 summary: train_loss: 0.1769 | train_acc: 0.9513 | val_loss: 6.1453 | val_acc: 0.1968\n",
      "Epoch 74\n",
      "Train Batch 100 (every 100 batch): Loss=0.1332; accuracy=0.9369\n",
      "Train Batch 200 (every 100 batch): Loss=0.0408; accuracy=0.9441\n",
      "Train Batch 300 (every 100 batch): Loss=0.1920; accuracy=0.9454\n",
      "Train Batch 400 (every 100 batch): Loss=0.0821; accuracy=0.9428\n",
      "Epoch 74 summary: train_loss: 0.2238 | train_acc: 0.9345 | val_loss: 6.4008 | val_acc: 0.2032\n",
      "Epoch 75\n",
      "Train Batch 100 (every 100 batch): Loss=0.0670; accuracy=0.9013\n",
      "Train Batch 200 (every 100 batch): Loss=0.0943; accuracy=0.9122\n",
      "Train Batch 300 (every 100 batch): Loss=0.5064; accuracy=0.9160\n",
      "Train Batch 400 (every 100 batch): Loss=0.4433; accuracy=0.9169\n",
      "Epoch 75 summary: train_loss: 0.2601 | train_acc: 0.9174 | val_loss: 6.1680 | val_acc: 0.2108\n",
      "Epoch 76\n",
      "Train Batch 100 (every 100 batch): Loss=0.5522; accuracy=0.9406\n",
      "Train Batch 200 (every 100 batch): Loss=0.0830; accuracy=0.9422\n",
      "Train Batch 300 (every 100 batch): Loss=0.2059; accuracy=0.9456\n",
      "Train Batch 400 (every 100 batch): Loss=0.1494; accuracy=0.9481\n",
      "Epoch 76 summary: train_loss: 0.1725 | train_acc: 0.9490 | val_loss: 6.2391 | val_acc: 0.2104\n",
      "Epoch 77\n",
      "Train Batch 100 (every 100 batch): Loss=0.0123; accuracy=0.9775\n",
      "Train Batch 200 (every 100 batch): Loss=0.1031; accuracy=0.9787\n",
      "Train Batch 300 (every 100 batch): Loss=0.1087; accuracy=0.9804\n",
      "Train Batch 400 (every 100 batch): Loss=0.0051; accuracy=0.9822\n",
      "Epoch 77 summary: train_loss: 0.0727 | train_acc: 0.9827 | val_loss: 6.1805 | val_acc: 0.2136\n",
      "Epoch 78\n",
      "Train Batch 100 (every 100 batch): Loss=0.0259; accuracy=0.9962\n",
      "Train Batch 200 (every 100 batch): Loss=0.0048; accuracy=0.9941\n",
      "Train Batch 300 (every 100 batch): Loss=0.1042; accuracy=0.9898\n",
      "Train Batch 400 (every 100 batch): Loss=0.3761; accuracy=0.9839\n",
      "Epoch 78 summary: train_loss: 0.0957 | train_acc: 0.9765 | val_loss: 6.3829 | val_acc: 0.2166\n",
      "Epoch 79\n",
      "Train Batch 100 (every 100 batch): Loss=0.0476; accuracy=0.9494\n",
      "Train Batch 200 (every 100 batch): Loss=0.0863; accuracy=0.9406\n",
      "Train Batch 300 (every 100 batch): Loss=0.5194; accuracy=0.9265\n",
      "Train Batch 400 (every 100 batch): Loss=0.2511; accuracy=0.9161\n",
      "Epoch 79 summary: train_loss: 0.2952 | train_acc: 0.9086 | val_loss: 6.4372 | val_acc: 0.1929\n",
      "Epoch 80\n",
      "Train Batch 100 (every 100 batch): Loss=0.3009; accuracy=0.9231\n",
      "Train Batch 200 (every 100 batch): Loss=0.8426; accuracy=0.9297\n",
      "Train Batch 300 (every 100 batch): Loss=0.0989; accuracy=0.9350\n",
      "Train Batch 400 (every 100 batch): Loss=0.1911; accuracy=0.9431\n",
      "Epoch 80 summary: train_loss: 0.1667 | train_acc: 0.9470 | val_loss: 6.1436 | val_acc: 0.2205\n",
      "Epoch 81\n",
      "Train Batch 100 (every 100 batch): Loss=0.1189; accuracy=0.9762\n",
      "Train Batch 200 (every 100 batch): Loss=0.0650; accuracy=0.9731\n",
      "Train Batch 300 (every 100 batch): Loss=0.5903; accuracy=0.9704\n",
      "Train Batch 400 (every 100 batch): Loss=0.0171; accuracy=0.9716\n",
      "Epoch 81 summary: train_loss: 0.0958 | train_acc: 0.9728 | val_loss: 6.3541 | val_acc: 0.2189\n",
      "Epoch 82\n",
      "Train Batch 100 (every 100 batch): Loss=0.0107; accuracy=0.9912\n",
      "Train Batch 200 (every 100 batch): Loss=0.0069; accuracy=0.9909\n",
      "Train Batch 300 (every 100 batch): Loss=0.1075; accuracy=0.9894\n",
      "Train Batch 400 (every 100 batch): Loss=0.0393; accuracy=0.9898\n",
      "Epoch 82 summary: train_loss: 0.0501 | train_acc: 0.9900 | val_loss: 6.4340 | val_acc: 0.2126\n",
      "Epoch 83\n",
      "Train Batch 100 (every 100 batch): Loss=0.4039; accuracy=0.9688\n",
      "Train Batch 200 (every 100 batch): Loss=0.4312; accuracy=0.9562\n",
      "Train Batch 300 (every 100 batch): Loss=0.8420; accuracy=0.9467\n",
      "Train Batch 400 (every 100 batch): Loss=0.0620; accuracy=0.9392\n",
      "Epoch 83 summary: train_loss: 0.2241 | train_acc: 0.9345 | val_loss: 6.5672 | val_acc: 0.2089\n",
      "Epoch 84\n",
      "Train Batch 100 (every 100 batch): Loss=0.0556; accuracy=0.9437\n",
      "Train Batch 200 (every 100 batch): Loss=0.5811; accuracy=0.9459\n",
      "Train Batch 300 (every 100 batch): Loss=0.0830; accuracy=0.9431\n",
      "Train Batch 400 (every 100 batch): Loss=0.5820; accuracy=0.9425\n",
      "Epoch 84 summary: train_loss: 0.2122 | train_acc: 0.9410 | val_loss: 6.7640 | val_acc: 0.2051\n",
      "Epoch 85\n",
      "Train Batch 100 (every 100 batch): Loss=0.0090; accuracy=0.9450\n",
      "Train Batch 200 (every 100 batch): Loss=0.0513; accuracy=0.9481\n",
      "Train Batch 300 (every 100 batch): Loss=0.6732; accuracy=0.9473\n",
      "Train Batch 400 (every 100 batch): Loss=0.1261; accuracy=0.9458\n",
      "Epoch 85 summary: train_loss: 0.1820 | train_acc: 0.9472 | val_loss: 6.4420 | val_acc: 0.2113\n",
      "Epoch 86\n",
      "Train Batch 100 (every 100 batch): Loss=0.1977; accuracy=0.9675\n",
      "Train Batch 200 (every 100 batch): Loss=0.1729; accuracy=0.9734\n",
      "Train Batch 300 (every 100 batch): Loss=0.1911; accuracy=0.9740\n",
      "Train Batch 400 (every 100 batch): Loss=0.0706; accuracy=0.9711\n",
      "Epoch 86 summary: train_loss: 0.1143 | train_acc: 0.9666 | val_loss: 6.6352 | val_acc: 0.2068\n",
      "Epoch 87\n",
      "Train Batch 100 (every 100 batch): Loss=0.0083; accuracy=0.9462\n",
      "Train Batch 200 (every 100 batch): Loss=0.0944; accuracy=0.9428\n",
      "Train Batch 300 (every 100 batch): Loss=0.0730; accuracy=0.9433\n",
      "Train Batch 400 (every 100 batch): Loss=0.1450; accuracy=0.9442\n",
      "Epoch 87 summary: train_loss: 0.2343 | train_acc: 0.9340 | val_loss: 6.8772 | val_acc: 0.1967\n",
      "Epoch 88\n",
      "Train Batch 100 (every 100 batch): Loss=0.9291; accuracy=0.9156\n",
      "Train Batch 200 (every 100 batch): Loss=0.2178; accuracy=0.9269\n",
      "Train Batch 300 (every 100 batch): Loss=0.2513; accuracy=0.9306\n",
      "Train Batch 400 (every 100 batch): Loss=0.1489; accuracy=0.9330\n",
      "Epoch 88 summary: train_loss: 0.2173 | train_acc: 0.9339 | val_loss: 6.5242 | val_acc: 0.2088\n",
      "Epoch 89\n",
      "Train Batch 100 (every 100 batch): Loss=0.0903; accuracy=0.9525\n",
      "Train Batch 200 (every 100 batch): Loss=0.0224; accuracy=0.9572\n",
      "Train Batch 300 (every 100 batch): Loss=0.0232; accuracy=0.9617\n",
      "Train Batch 400 (every 100 batch): Loss=0.0123; accuracy=0.9647\n",
      "Epoch 89 summary: train_loss: 0.1196 | train_acc: 0.9647 | val_loss: 6.6734 | val_acc: 0.2048\n",
      "Epoch 90\n",
      "Train Batch 100 (every 100 batch): Loss=0.0483; accuracy=0.9837\n",
      "Train Batch 200 (every 100 batch): Loss=0.4387; accuracy=0.9797\n",
      "Train Batch 300 (every 100 batch): Loss=0.0913; accuracy=0.9750\n",
      "Train Batch 400 (every 100 batch): Loss=0.1115; accuracy=0.9745\n",
      "Epoch 90 summary: train_loss: 0.0939 | train_acc: 0.9757 | val_loss: 6.5623 | val_acc: 0.2161\n",
      "Epoch 91\n",
      "Train Batch 100 (every 100 batch): Loss=0.0096; accuracy=0.9875\n",
      "Train Batch 200 (every 100 batch): Loss=0.0181; accuracy=0.9812\n",
      "Train Batch 300 (every 100 batch): Loss=0.0100; accuracy=0.9771\n",
      "Train Batch 400 (every 100 batch): Loss=0.5675; accuracy=0.9680\n",
      "Epoch 91 summary: train_loss: 0.1254 | train_acc: 0.9632 | val_loss: 6.8066 | val_acc: 0.1958\n",
      "Epoch 92\n",
      "Train Batch 100 (every 100 batch): Loss=0.0471; accuracy=0.9556\n",
      "Train Batch 200 (every 100 batch): Loss=0.2074; accuracy=0.9584\n",
      "Train Batch 300 (every 100 batch): Loss=0.0609; accuracy=0.9604\n",
      "Train Batch 400 (every 100 batch): Loss=0.0365; accuracy=0.9627\n",
      "Epoch 92 summary: train_loss: 0.1159 | train_acc: 0.9657 | val_loss: 6.7797 | val_acc: 0.1991\n",
      "Epoch 93\n"
     ]
    },
    {
     "name": "stdout",
     "output_type": "stream",
     "text": [
      "Train Batch 100 (every 100 batch): Loss=0.0293; accuracy=0.9712\n",
      "Train Batch 200 (every 100 batch): Loss=0.0162; accuracy=0.9678\n",
      "Train Batch 300 (every 100 batch): Loss=0.1756; accuracy=0.9677\n",
      "Train Batch 400 (every 100 batch): Loss=0.0787; accuracy=0.9627\n",
      "Epoch 93 summary: train_loss: 0.1430 | train_acc: 0.9585 | val_loss: 6.7716 | val_acc: 0.2149\n",
      "Epoch 94\n",
      "Train Batch 100 (every 100 batch): Loss=0.0577; accuracy=0.9700\n",
      "Train Batch 200 (every 100 batch): Loss=0.1885; accuracy=0.9656\n",
      "Train Batch 300 (every 100 batch): Loss=0.1342; accuracy=0.9652\n",
      "Train Batch 400 (every 100 batch): Loss=0.3027; accuracy=0.9586\n",
      "Epoch 94 summary: train_loss: 0.1505 | train_acc: 0.9534 | val_loss: 7.1981 | val_acc: 0.1959\n",
      "Epoch 95\n",
      "Train Batch 100 (every 100 batch): Loss=0.1803; accuracy=0.9500\n",
      "Train Batch 200 (every 100 batch): Loss=0.0802; accuracy=0.9528\n",
      "Train Batch 300 (every 100 batch): Loss=0.0852; accuracy=0.9508\n",
      "Train Batch 400 (every 100 batch): Loss=0.0628; accuracy=0.9506\n",
      "Epoch 95 summary: train_loss: 0.1587 | train_acc: 0.9488 | val_loss: 7.1388 | val_acc: 0.1926\n",
      "Epoch 96\n",
      "Train Batch 100 (every 100 batch): Loss=0.1918; accuracy=0.9544\n",
      "Train Batch 200 (every 100 batch): Loss=0.1283; accuracy=0.9578\n",
      "Train Batch 300 (every 100 batch): Loss=0.2446; accuracy=0.9588\n",
      "Train Batch 400 (every 100 batch): Loss=0.0393; accuracy=0.9608\n",
      "Epoch 96 summary: train_loss: 0.1340 | train_acc: 0.9603 | val_loss: 7.0312 | val_acc: 0.2090\n",
      "Epoch 97\n",
      "Train Batch 100 (every 100 batch): Loss=0.0522; accuracy=0.9731\n",
      "Train Batch 200 (every 100 batch): Loss=0.0236; accuracy=0.9706\n",
      "Train Batch 300 (every 100 batch): Loss=0.0979; accuracy=0.9679\n",
      "Train Batch 400 (every 100 batch): Loss=0.7926; accuracy=0.9623\n",
      "Epoch 97 summary: train_loss: 0.1438 | train_acc: 0.9568 | val_loss: 7.1946 | val_acc: 0.1921\n",
      "Epoch 98\n",
      "Train Batch 100 (every 100 batch): Loss=0.4918; accuracy=0.9519\n",
      "Train Batch 200 (every 100 batch): Loss=0.0569; accuracy=0.9387\n",
      "Train Batch 300 (every 100 batch): Loss=0.0466; accuracy=0.9367\n",
      "Train Batch 400 (every 100 batch): Loss=0.0864; accuracy=0.9406\n",
      "Epoch 98 summary: train_loss: 0.2108 | train_acc: 0.9428 | val_loss: 7.0276 | val_acc: 0.1993\n",
      "Epoch 99\n",
      "Train Batch 100 (every 100 batch): Loss=0.0502; accuracy=0.9688\n",
      "Train Batch 200 (every 100 batch): Loss=0.0421; accuracy=0.9728\n",
      "Train Batch 300 (every 100 batch): Loss=0.0701; accuracy=0.9750\n",
      "Train Batch 400 (every 100 batch): Loss=0.0578; accuracy=0.9773\n",
      "Epoch 99 summary: train_loss: 0.0749 | train_acc: 0.9798 | val_loss: 6.8324 | val_acc: 0.2206\n",
      "Epoch 100\n",
      "Train Batch 100 (every 100 batch): Loss=0.0073; accuracy=0.9981\n",
      "Train Batch 200 (every 100 batch): Loss=0.0032; accuracy=0.9987\n",
      "Train Batch 300 (every 100 batch): Loss=0.0147; accuracy=0.9979\n",
      "Train Batch 400 (every 100 batch): Loss=0.0330; accuracy=0.9970\n",
      "Epoch 100 summary: train_loss: 0.0286 | train_acc: 0.9951 | val_loss: 7.0001 | val_acc: 0.2003\n"
     ]
    }
   ],
   "source": [
    "channel_idx=None\n",
    "non_classes=None\n",
    "if opt.kind==\"from-scratch\":\n",
    "    results = net_trainer(\n",
    "            net,\n",
    "            loaders,\n",
    "            opt,\n",
    "            channel_idx,\n",
    "            nonclasses,\n",
    "            None,\n",
    "            True,\n",
    "            model_path,\n",
    "            print_every_train = 100,\n",
    "            print_every_val = 125)"
   ]
  },
  {
   "cell_type": "code",
   "execution_count": null,
   "id": "c0199dcf",
   "metadata": {},
   "outputs": [],
   "source": [
    "# val = results[\"val_acc\"]\n",
    "# # test = results[\"test_acc\"]\n",
    "\n",
    "# print(\"Validation accuracy: \", val)\n",
    "# # print(\"Test accuracy: \", test)"
   ]
  },
  {
   "cell_type": "code",
   "execution_count": null,
   "id": "0c56b086",
   "metadata": {},
   "outputs": [],
   "source": [
    "print(accuracy_val)"
   ]
  },
  {
   "cell_type": "code",
   "execution_count": null,
   "id": "913f370e",
   "metadata": {},
   "outputs": [],
   "source": []
  },
  {
   "cell_type": "code",
   "execution_count": null,
   "id": "4a9a7d31",
   "metadata": {},
   "outputs": [],
   "source": []
  },
  {
   "cell_type": "code",
   "execution_count": null,
   "id": "e2334ae6",
   "metadata": {},
   "outputs": [],
   "source": []
  },
  {
   "cell_type": "code",
   "execution_count": null,
   "id": "47b77fc8",
   "metadata": {},
   "outputs": [],
   "source": []
  },
  {
   "cell_type": "code",
   "execution_count": null,
   "id": "3080e706",
   "metadata": {},
   "outputs": [],
   "source": []
  },
  {
   "cell_type": "code",
   "execution_count": null,
   "id": "17823cb7",
   "metadata": {},
   "outputs": [],
   "source": []
  },
  {
   "cell_type": "code",
   "execution_count": null,
   "id": "ad8b650c",
   "metadata": {},
   "outputs": [],
   "source": []
  },
  {
   "cell_type": "code",
   "execution_count": null,
   "id": "2fdb911b",
   "metadata": {},
   "outputs": [],
   "source": []
  },
  {
   "cell_type": "code",
   "execution_count": null,
   "id": "09b43930",
   "metadata": {},
   "outputs": [],
   "source": []
  },
  {
   "cell_type": "code",
   "execution_count": null,
   "id": "28237288",
   "metadata": {},
   "outputs": [],
   "source": []
  },
  {
   "cell_type": "code",
   "execution_count": null,
   "id": "48ded073",
   "metadata": {},
   "outputs": [],
   "source": []
  },
  {
   "cell_type": "code",
   "execution_count": null,
   "id": "7dfcbdda",
   "metadata": {},
   "outputs": [],
   "source": []
  },
  {
   "cell_type": "code",
   "execution_count": null,
   "id": "2f1fb11a",
   "metadata": {},
   "outputs": [],
   "source": []
  },
  {
   "cell_type": "code",
   "execution_count": null,
   "id": "b5b75470",
   "metadata": {},
   "outputs": [],
   "source": []
  },
  {
   "cell_type": "code",
   "execution_count": null,
   "id": "c8939417",
   "metadata": {},
   "outputs": [],
   "source": []
  },
  {
   "cell_type": "code",
   "execution_count": null,
   "id": "42a5c258",
   "metadata": {},
   "outputs": [],
   "source": []
  },
  {
   "cell_type": "code",
   "execution_count": null,
   "id": "56e7de01",
   "metadata": {},
   "outputs": [],
   "source": []
  },
  {
   "cell_type": "code",
   "execution_count": null,
   "id": "597563e3",
   "metadata": {},
   "outputs": [],
   "source": []
  },
  {
   "cell_type": "code",
   "execution_count": null,
   "id": "b1d74a8d",
   "metadata": {},
   "outputs": [],
   "source": []
  },
  {
   "cell_type": "code",
   "execution_count": null,
   "id": "4db30ed4",
   "metadata": {},
   "outputs": [],
   "source": []
  },
  {
   "cell_type": "code",
   "execution_count": null,
   "id": "ab1544e3",
   "metadata": {},
   "outputs": [],
   "source": []
  }
 ],
 "metadata": {
  "kernelspec": {
   "display_name": "Python 3 (ipykernel)",
   "language": "python",
   "name": "python3"
  },
  "language_info": {
   "codemirror_mode": {
    "name": "ipython",
    "version": 3
   },
   "file_extension": ".py",
   "mimetype": "text/x-python",
   "name": "python",
   "nbconvert_exporter": "python",
   "pygments_lexer": "ipython3",
   "version": "3.10.7"
  }
 },
 "nbformat": 4,
 "nbformat_minor": 5
}
