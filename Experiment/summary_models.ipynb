{
 "cells": [
  {
   "cell_type": "code",
   "execution_count": 1,
   "metadata": {},
   "outputs": [],
   "source": [
    "import torch\n",
    "from torch.autograd import Variable\n",
    "import torch.nn as nn\n",
    "import torch.nn.functional as F\n",
    "import torch.optim\n",
    "from LSTM import *\n",
    "from CNN import *\n",
    "from torchinfo import summary"
   ]
  },
  {
   "cell_type": "code",
   "execution_count": 4,
   "metadata": {},
   "outputs": [],
   "source": [
    "model=classifier_LSTM(relup=True,\n",
    "                    input_size = 96,\n",
    "                    lstm_layers = 1,\n",
    "                    lstm_size = 128,\n",
    "                    output1_size = 128,\n",
    "                    output2_size = 100,\n",
    "                    GPUindex = 1)\n"
   ]
  },
  {
   "cell_type": "code",
   "execution_count": 7,
   "metadata": {},
   "outputs": [],
   "source": [
    "cnn = classifier_CNN(in_channel = 96,\n",
    "                    num_points = 512,\n",
    "                    output_size = 100)"
   ]
  },
  {
   "cell_type": "code",
   "execution_count": 5,
   "metadata": {
    "scrolled": true
   },
   "outputs": [
    {
     "name": "stdout",
     "output_type": "stream",
     "text": [
      "torch.Size([1, 512, 96])\n",
      "==========================================================================================\n",
      "Layer (type:depth-idx)                   Output Shape              Param #\n",
      "==========================================================================================\n",
      "classifier_LSTM                          [1, 100]                  --\n",
      "├─LSTM: 1-1                              [1, 512, 128]             115,712\n",
      "├─Linear: 1-2                            [1, 128]                  16,512\n",
      "├─ReLU: 1-3                              [1, 128]                  --\n",
      "├─Linear: 1-4                            [1, 100]                  12,900\n",
      "==========================================================================================\n",
      "Total params: 145,124\n",
      "Trainable params: 145,124\n",
      "Non-trainable params: 0\n",
      "Total mult-adds (M): 59.27\n",
      "==========================================================================================\n",
      "Input size (MB): 0.20\n",
      "Forward/backward pass size (MB): 0.53\n",
      "Params size (MB): 0.58\n",
      "Estimated Total Size (MB): 1.30\n",
      "==========================================================================================\n"
     ]
    }
   ],
   "source": [
    "print(summary(model,input_size=(1, 512, 96)))"
   ]
  },
  {
   "cell_type": "code",
   "execution_count": 9,
   "metadata": {},
   "outputs": [
    {
     "name": "stdout",
     "output_type": "stream",
     "text": [
      "==========================================================================================\n",
      "Layer (type:depth-idx)                   Output Shape              Param #\n",
      "==========================================================================================\n",
      "classifier_CNN                           [1, 100]                  --\n",
      "├─Conv1d: 1-1                            [96, 8, 481]              264\n",
      "├─ELU: 1-2                               [96, 8, 481]              --\n",
      "├─Dropout: 1-3                           [1, 481, 768]             --\n",
      "├─Linear: 1-4                            [1, 481, 40]              30,760\n",
      "├─Dropout: 1-5                           [1, 481, 40]              --\n",
      "├─AvgPool1d: 1-6                         [1, 40, 6]                --\n",
      "├─Linear: 1-7                            [1, 100]                  24,100\n",
      "==========================================================================================\n",
      "Total params: 55,124\n",
      "Trainable params: 55,124\n",
      "Non-trainable params: 0\n",
      "Total mult-adds (M): 12.25\n",
      "==========================================================================================\n",
      "Input size (MB): 0.20\n",
      "Forward/backward pass size (MB): 3.11\n",
      "Params size (MB): 0.22\n",
      "Estimated Total Size (MB): 3.53\n",
      "==========================================================================================\n"
     ]
    }
   ],
   "source": [
    "print(summary(cnn,input_size=(1, 512, 96)))"
   ]
  },
  {
   "cell_type": "code",
   "execution_count": null,
   "metadata": {},
   "outputs": [],
   "source": []
  }
 ],
 "metadata": {
  "kernelspec": {
   "display_name": "Python 3 (ipykernel)",
   "language": "python",
   "name": "python3"
  },
  "language_info": {
   "codemirror_mode": {
    "name": "ipython",
    "version": 3
   },
   "file_extension": ".py",
   "mimetype": "text/x-python",
   "name": "python",
   "nbconvert_exporter": "python",
   "pygments_lexer": "ipython3",
   "version": "3.9.5"
  },
  "vscode": {
   "interpreter": {
    "hash": "7e8d1d2aa4d33a8e6fda18ff645941842f9f35d76bafc6be3dc9741da9b12cb4"
   }
  }
 },
 "nbformat": 4,
 "nbformat_minor": 2
}
