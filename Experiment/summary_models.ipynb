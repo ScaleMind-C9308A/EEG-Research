{
 "cells": [
  {
   "cell_type": "code",
   "execution_count": 1,
   "metadata": {},
   "outputs": [],
   "source": [
    "%load_ext autoreload\n",
    "%autoreload 2\n",
    "import torch\n",
    "from torch.autograd import Variable\n",
    "import torch.nn as nn\n",
    "import torch.nn.functional as F\n",
    "import torch.optim\n",
    "from EEG_Encoder.net_generator import Classifier\n",
    "from torchinfo import summary"
   ]
  },
  {
   "cell_type": "code",
   "execution_count": 2,
   "metadata": {},
   "outputs": [],
   "source": [
    "# Default Options\n",
    "length = 512\n",
    "channel = 96\n",
    "min_CNN = 200\n",
    "n_classes = 40\n",
    "classes = range(n_classes)\n",
    "classifier= \"\"\n",
    "GPUindex=0\n",
    "kind=\"from-scratch\""
   ]
  },
  {
   "cell_type": "code",
   "execution_count": 3,
   "metadata": {},
   "outputs": [
    {
     "name": "stdout",
     "output_type": "stream",
     "text": [
      "DONE: CREATE TORCH CLASSIFIER\n",
      "classifier_EEGNet(\n",
      "  (network): Sequential(\n",
      "    (0): ZeroPad2d((128, 127, 0, 0))\n",
      "    (1): Conv2d(1, 8, kernel_size=(1, 256), stride=(1, 1))\n",
      "    (2): BatchNorm2d(8, eps=1e-05, momentum=0.1, affine=True, track_running_stats=True)\n",
      "    (3): Conv2d(8, 16, kernel_size=(96, 1), stride=(1, 1), groups=8)\n",
      "    (4): BatchNorm2d(16, eps=1e-05, momentum=0.1, affine=True, track_running_stats=True)\n",
      "    (5): ELU(alpha=1.0)\n",
      "    (6): AvgPool2d(kernel_size=(1, 4), stride=(1, 4), padding=0)\n",
      "    (7): Dropout(p=0.5, inplace=False)\n",
      "    (8): ZeroPad2d((8, 7, 0, 0))\n",
      "    (9): Conv2d(16, 16, kernel_size=(1, 16), stride=(1, 1), groups=8)\n",
      "    (10): Conv2d(16, 16, kernel_size=(1, 1), stride=(1, 1))\n",
      "    (11): BatchNorm2d(16, eps=1e-05, momentum=0.1, affine=True, track_running_stats=True)\n",
      "    (12): ELU(alpha=1.0)\n",
      "    (13): AvgPool2d(kernel_size=(1, 8), stride=(1, 8), padding=0)\n",
      "    (14): Dropout(p=0.5, inplace=False)\n",
      "  )\n",
      "  (fc): Linear(in_features=256, out_features=40, bias=True)\n",
      ")\n",
      "Input size:  torch.Size([1, 96, 512])\n",
      "After permute:  torch.Size([1, 1, 96, 512])\n",
      "After network:  torch.Size([1, 16, 1, 16])\n",
      "After view:  torch.Size([1, 256])\n"
     ]
    },
    {
     "data": {
      "text/plain": [
       "==========================================================================================\n",
       "Layer (type:depth-idx)                   Output Shape              Param #\n",
       "==========================================================================================\n",
       "classifier_EEGNet                        [1, 40]                   --\n",
       "├─Sequential: 1-1                        [1, 16, 1, 16]            --\n",
       "│    └─ZeroPad2d: 2-1                    [1, 1, 96, 767]           --\n",
       "│    └─Conv2d: 2-2                       [1, 8, 96, 512]           2,056\n",
       "│    └─BatchNorm2d: 2-3                  [1, 8, 96, 512]           16\n",
       "│    └─Conv2d: 2-4                       [1, 16, 1, 512]           1,552\n",
       "│    └─BatchNorm2d: 2-5                  [1, 16, 1, 512]           32\n",
       "│    └─ELU: 2-6                          [1, 16, 1, 512]           --\n",
       "│    └─AvgPool2d: 2-7                    [1, 16, 1, 128]           --\n",
       "│    └─Dropout: 2-8                      [1, 16, 1, 128]           --\n",
       "│    └─ZeroPad2d: 2-9                    [1, 16, 1, 143]           --\n",
       "│    └─Conv2d: 2-10                      [1, 16, 1, 128]           528\n",
       "│    └─Conv2d: 2-11                      [1, 16, 1, 128]           272\n",
       "│    └─BatchNorm2d: 2-12                 [1, 16, 1, 128]           32\n",
       "│    └─ELU: 2-13                         [1, 16, 1, 128]           --\n",
       "│    └─AvgPool2d: 2-14                   [1, 16, 1, 16]            --\n",
       "│    └─Dropout: 2-15                     [1, 16, 1, 16]            --\n",
       "├─Linear: 1-2                            [1, 40]                   10,280\n",
       "==========================================================================================\n",
       "Total params: 14,768\n",
       "Trainable params: 14,768\n",
       "Non-trainable params: 0\n",
       "Total mult-adds (M): 101.96\n",
       "==========================================================================================\n",
       "Input size (MB): 0.20\n",
       "Forward/backward pass size (MB): 6.47\n",
       "Params size (MB): 0.06\n",
       "Estimated Total Size (MB): 6.73\n",
       "=========================================================================================="
      ]
     },
     "execution_count": 3,
     "metadata": {},
     "output_type": "execute_result"
    }
   ],
   "source": [
    "# Options for EEGNet\n",
    "classifier=\"EEGNet\"\n",
    "net, nonclasses = Classifier(\n",
    "                    n_classes,\n",
    "                    classes,\n",
    "                    classifier,\n",
    "                    GPUindex,\n",
    "                    length,\n",
    "                    channel,\n",
    "                    min_CNN,\n",
    "                    kind)\n",
    "summary(net, input_size=(1, 96, 512))"
   ]
  },
  {
   "cell_type": "code",
   "execution_count": 12,
   "metadata": {},
   "outputs": [
    {
     "name": "stdout",
     "output_type": "stream",
     "text": [
      "DONE: CREATE TORCH CLASSIFIER\n",
      "classifier_Stacked_BiLSTM(\n",
      "  (stacked_bilstm): LSTM(96, 128, num_layers=2, batch_first=True, bidirectional=True)\n",
      "  (output1): Linear(in_features=256, out_features=128, bias=True)\n",
      "  (relu): ReLU()\n",
      "  (output2): Linear(in_features=128, out_features=40, bias=True)\n",
      ")\n"
     ]
    },
    {
     "data": {
      "text/plain": [
       "==========================================================================================\n",
       "Layer (type:depth-idx)                   Output Shape              Param #\n",
       "==========================================================================================\n",
       "classifier_Stacked_BiLSTM                [1, 40]                   --\n",
       "├─LSTM: 1-1                              [1, 512, 256]             626,688\n",
       "├─Linear: 1-2                            [1, 128]                  32,896\n",
       "├─ReLU: 1-3                              [1, 128]                  --\n",
       "├─Linear: 1-4                            [1, 40]                   5,160\n",
       "==========================================================================================\n",
       "Total params: 664,744\n",
       "Trainable params: 664,744\n",
       "Non-trainable params: 0\n",
       "Total mult-adds (M): 320.90\n",
       "==========================================================================================\n",
       "Input size (MB): 0.20\n",
       "Forward/backward pass size (MB): 1.05\n",
       "Params size (MB): 2.66\n",
       "Estimated Total Size (MB): 3.91\n",
       "=========================================================================================="
      ]
     },
     "execution_count": 12,
     "metadata": {},
     "output_type": "execute_result"
    }
   ],
   "source": [
    "# Options for Stacked_BiLSTM\n",
    "classifier=\"Stacked_BiLSTM\"\n",
    "net, nonclasses = Classifier(\n",
    "                    n_classes,\n",
    "                    classes,\n",
    "                    classifier,\n",
    "                    GPUindex,\n",
    "                    length,\n",
    "                    channel,\n",
    "                    min_CNN,\n",
    "                    kind)\n",
    "summary(net, input_size=(1, 96, 512))"
   ]
  },
  {
   "cell_type": "code",
   "execution_count": 3,
   "metadata": {
    "scrolled": true
   },
   "outputs": [
    {
     "name": "stdout",
     "output_type": "stream",
     "text": [
      "DONE: CREATE TORCH CLASSIFIER\n",
      "classifier_CNN(\n",
      "  (conv1): Conv1d(1, 8, kernel_size=(32,), stride=(1,))\n",
      "  (fc1): Linear(in_features=768, out_features=40, bias=True)\n",
      "  (pool1): AvgPool1d(kernel_size=(128,), stride=(64,), padding=(0,))\n",
      "  (activation): ELU(alpha=1.0)\n",
      "  (dropout): Dropout(p=0.5, inplace=False)\n",
      "  (fc2): Linear(in_features=240, out_features=40, bias=True)\n",
      ")\n",
      "Input size:  torch.Size([1, 96, 512])\n",
      "After unsquueze:  torch.Size([1, 96, 1, 512])\n",
      "After view:  torch.Size([96, 1, 512])\n",
      "After conv1:  torch.Size([96, 8, 481])\n",
      "After view 2:  torch.Size([1, 96, 8, 481])\n",
      "After permute 2:  torch.Size([1, 481, 96, 8])\n",
      "After view 3:  torch.Size([1, 481, 768])\n",
      "After fc1:  torch.Size([1, 481, 40])\n",
      "After permute 3:  torch.Size([1, 40, 481])\n",
      "After pool1:  torch.Size([1, 40, 6])\n",
      "After view 4:  torch.Size([1, 240])\n",
      "After fc2:  torch.Size([1, 40])\n"
     ]
    },
    {
     "data": {
      "text/plain": [
       "==========================================================================================\n",
       "Layer (type:depth-idx)                   Output Shape              Param #\n",
       "==========================================================================================\n",
       "classifier_CNN                           [1, 40]                   --\n",
       "├─Conv1d: 1-1                            [96, 8, 481]              264\n",
       "├─ELU: 1-2                               [96, 8, 481]              --\n",
       "├─Dropout: 1-3                           [1, 481, 768]             --\n",
       "├─Linear: 1-4                            [1, 481, 40]              30,760\n",
       "├─Dropout: 1-5                           [1, 481, 40]              --\n",
       "├─AvgPool1d: 1-6                         [1, 40, 6]                --\n",
       "├─Linear: 1-7                            [1, 40]                   9,640\n",
       "==========================================================================================\n",
       "Total params: 40,664\n",
       "Trainable params: 40,664\n",
       "Non-trainable params: 0\n",
       "Total mult-adds (M): 12.23\n",
       "==========================================================================================\n",
       "Input size (MB): 0.20\n",
       "Forward/backward pass size (MB): 3.11\n",
       "Params size (MB): 0.16\n",
       "Estimated Total Size (MB): 3.47\n",
       "=========================================================================================="
      ]
     },
     "execution_count": 3,
     "metadata": {},
     "output_type": "execute_result"
    }
   ],
   "source": [
    "# Options for CNN\n",
    "classifier=\"CNN\"\n",
    "net, nonclasses = Classifier(\n",
    "                    n_classes,\n",
    "                    classes,\n",
    "                    classifier,\n",
    "                    GPUindex,\n",
    "                    length,\n",
    "                    channel,\n",
    "                    min_CNN,\n",
    "                    kind)\n",
    "summary(net, input_size=(1, 96, 512))"
   ]
  },
  {
   "cell_type": "code",
   "execution_count": null,
   "metadata": {},
   "outputs": [],
   "source": []
  }
 ],
 "metadata": {
  "kernelspec": {
   "display_name": "Python 3 (ipykernel)",
   "language": "python",
   "name": "python3"
  },
  "language_info": {
   "codemirror_mode": {
    "name": "ipython",
    "version": 3
   },
   "file_extension": ".py",
   "mimetype": "text/x-python",
   "name": "python",
   "nbconvert_exporter": "python",
   "pygments_lexer": "ipython3",
   "version": "3.9.5"
  },
  "vscode": {
   "interpreter": {
    "hash": "7e8d1d2aa4d33a8e6fda18ff645941842f9f35d76bafc6be3dc9741da9b12cb4"
   }
  }
 },
 "nbformat": 4,
 "nbformat_minor": 2
}
