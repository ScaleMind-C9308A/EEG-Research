{
 "cells": [
  {
   "cell_type": "code",
   "execution_count": 1,
   "id": "3675927f",
   "metadata": {},
   "outputs": [],
   "source": [
    "import os\n",
    "import random\n",
    "import torch\n",
    "import numpy as np\n",
    "import pickle as pkl\n",
    "from analysis import *\n",
    "import argparse"
   ]
  },
  {
   "cell_type": "code",
   "execution_count": 2,
   "id": "5e2301c9",
   "metadata": {},
   "outputs": [],
   "source": [
    "torch.manual_seed(12)\n",
    "torch.cuda.manual_seed(12)\n",
    "np.random.seed(12)\n",
    "torch.backends.cudnn.deterministics = True\n",
    "torch.set_num_threads(1)"
   ]
  },
  {
   "cell_type": "code",
   "execution_count": 3,
   "id": "7454d60c",
   "metadata": {},
   "outputs": [
    {
     "name": "stdout",
     "output_type": "stream",
     "text": [
      "True\n",
      "1\n",
      "0\n",
      "<torch.cuda.device object at 0x000001C907704CA0>\n",
      "NVIDIA TITAN V\n"
     ]
    }
   ],
   "source": [
    "print(torch.cuda.is_available())\n",
    "print(torch.cuda.device_count())\n",
    "print(torch.cuda.current_device())\n",
    "\n",
    "print(torch.cuda.device(0))\n",
    "print(torch.cuda.get_device_name(0))"
   ]
  },
  {
   "cell_type": "code",
   "execution_count": 4,
   "id": "499dbec8",
   "metadata": {},
   "outputs": [],
   "source": [
    "# iv: image option\n",
    "length = 512\n",
    "channel = 96\n",
    "min_CNN = 200\n",
    "n_classes = 40\n",
    "classes = range(n_classes)\n"
   ]
  },
  {
   "cell_type": "code",
   "execution_count": 5,
   "id": "cef3bc14",
   "metadata": {},
   "outputs": [],
   "source": [
    "torch_models_dir = r\"D:\\Data\\CVPR2021-02785\\CVPR2021-02785\\preprocessed\\torch_models\"\n",
    "eeg_dataset, splits_path = os.listdir(torch_models_dir)"
   ]
  },
  {
   "cell_type": "code",
   "execution_count": 6,
   "id": "37e239e0",
   "metadata": {},
   "outputs": [
    {
     "name": "stdout",
     "output_type": "stream",
     "text": [
      "D:\\Data\\CVPR2021-02785\\CVPR2021-02785\\preprocessed\\torch_models\\imagenet40-1000-1.pth \n",
      " D:\\Data\\CVPR2021-02785\\CVPR2021-02785\\preprocessed\\torch_models\\imagenet40-1000-1_splits.pth\n"
     ]
    }
   ],
   "source": [
    "eeg_dataset = os.path.join(torch_models_dir, eeg_dataset)\n",
    "splits_path = os.path.join(torch_models_dir, splits_path)\n",
    "print(eeg_dataset,'\\n', splits_path)"
   ]
  },
  {
   "cell_type": "code",
   "execution_count": 7,
   "id": "009ff0e5",
   "metadata": {},
   "outputs": [
    {
     "name": "stdout",
     "output_type": "stream",
     "text": [
      "image\n"
     ]
    }
   ],
   "source": [
    "opt = {\n",
    "    # Dataset options\n",
    "    \"iv\": \"image\",\n",
    "    \"offset\": None,\n",
    "    \"results_file\": \"results.pkl\",\n",
    "    \"subject\": 0,\n",
    "    \"run\": \"none\",\n",
    "    \"eeg_dataset\": eeg_dataset,\n",
    "    \"splits_path\": splits_path,\n",
    "    \"fold\": 5,\n",
    "    #Training options\n",
    "    \"batch_size\": 16,\n",
    "    \"optim\": \"Adam\",\n",
    "    \"learning_rate\": 0.001,\n",
    "    \"learning_rate_decay_by\": 0.5,\n",
    "    \"learning_rate_decay_every\": 10,\n",
    "    \"epochs\": 100,\n",
    "    \"GPUindex\": 0,\n",
    "    \"kind\":\"incremental\",\n",
    "    #Backend options\n",
    "    \"no_cuda\": False,\n",
    "    \"classifier\": None\n",
    "}\n",
    "opt = argparse.Namespace(**opt)\n",
    "print(opt.iv)"
   ]
  },
  {
   "cell_type": "code",
   "execution_count": 8,
   "id": "50ac784a",
   "metadata": {},
   "outputs": [],
   "source": [
    "%load_ext autoreload\n",
    "%autoreload 2\n",
    "from torch.utils.data import DataLoader\n",
    "from data_loader import EEGDataset, Splitter, SplitterWithData\n",
    "from EEG_Encoder.LSTM import classifier_LSTM\n",
    "from EEG_Encoder.CNN import classifier_CNN\n",
    "from EEG_Encoder.EEGNet import classifier_EEGNet\n",
    "from EEG_Encoder.SyncNet import classifier_SyncNet\n",
    "from EEG_Encoder.EEGChannelNet import classifier_EEGChannelNet\n",
    "from EEG_Encoder.net_trainer import net_trainer\n",
    "from p_values import *\n",
    "from torchinfo import summary"
   ]
  },
  {
   "cell_type": "code",
   "execution_count": 9,
   "id": "fb2672a1",
   "metadata": {},
   "outputs": [],
   "source": [
    "def load_dataset(iv,\n",
    "             offset,\n",
    "             fold,\n",
    "             eeg_dataset,\n",
    "             splits_path,\n",
    "             total,\n",
    "             classes,\n",
    "             classifier,\n",
    "             batch_size,\n",
    "             GPUindex,\n",
    "             length, # 512\n",
    "             channel, # 96\n",
    "             min_CNN,\n",
    "             opt,\n",
    "             kind):\n",
    "    for split_num in range(fold):\n",
    "        \n",
    "        # Load dataset\n",
    "        dataset = EEGDataset(iv, eeg_dataset, classifier, map_idx = None)\n",
    "        print(\"DONE: LOAD DATASET\")\n",
    "        # Create loaders for LSTM/MLP/CNN/SCNN/EEGNet/SyncNet/EEGChannelNet\n",
    "        if kind==\"from-scratch\":\n",
    "            relabel = True\n",
    "        if kind==\"incremental\":\n",
    "            relabel = False\n",
    "        if kind==\"no-model-file\":\n",
    "            relabel = True\n",
    "        loaders = {split: DataLoader(\n",
    "            SplitterWithData(iv,\n",
    "                        dataset,\n",
    "                        splits_path,\n",
    "                        classes,\n",
    "                        split_num,\n",
    "                        split,\n",
    "                        relabel),\n",
    "            batch_size = batch_size,\n",
    "            drop_last = False,\n",
    "            shuffle = True)\n",
    "                for split in [\"train\", \"val\", \"test\"]}\n",
    "        channel_idx = None    \n",
    "        print(\"DONE: Create loaders for model\")            \n",
    "        return dataset, loaders"
   ]
  },
  {
   "cell_type": "code",
   "execution_count": 10,
   "id": "23aabff7",
   "metadata": {},
   "outputs": [],
   "source": [
    "def Classifier(iv,\n",
    "             offset,\n",
    "             fold,\n",
    "             eeg_dataset,\n",
    "             splits_path,\n",
    "             total,\n",
    "             classes,\n",
    "             classifier,\n",
    "             batch_size,\n",
    "             GPUindex,\n",
    "             length, # 512\n",
    "             channel, # 96\n",
    "             min_CNN,\n",
    "             opt,\n",
    "             kind):\n",
    "    if classifier==\"LSTM\":\n",
    "        if kind==\"from-scratch\":\n",
    "            output_size = 128\n",
    "        if kind==\"incremental\":\n",
    "            output_size = 128\n",
    "        if kind==\"no-model-file\":\n",
    "            output_size = 128\n",
    "        net = classifier_LSTM(\n",
    "            True,\n",
    "            input_size = channel,\n",
    "            lstm_layers = 1,\n",
    "            lstm_size = 128,\n",
    "            output1_size = 128,\n",
    "            output2_size = None,\n",
    "            GPUindex = GPUindex)\n",
    "    elif classifier==\"LSTM1\":\n",
    "        if kind==\"from-scratch\":\n",
    "            output_size = 128\n",
    "        if kind==\"incremental\":\n",
    "            output_size = 128\n",
    "        if kind==\"no-model-file\":\n",
    "            output_size = 128\n",
    "        net = classifier_LSTM(\n",
    "            False,\n",
    "            input_size = channel,\n",
    "            lstm_layers = 1,\n",
    "            lstm_size = 128,\n",
    "            output1_size = 128,\n",
    "            output2_size = None,\n",
    "            GPUindex = GPUindex)\n",
    "    elif classifier==\"LSTM2\":\n",
    "        if kind==\"from-scratch\":\n",
    "            output_size = len(classes)\n",
    "        if kind==\"incremental\":\n",
    "            output_size = total\n",
    "        if kind==\"no-model-file\":\n",
    "            output_size = len(classes)\n",
    "        net = classifier_LSTM(\n",
    "            False,\n",
    "            input_size = channel,\n",
    "            lstm_layers = 1,\n",
    "            lstm_size = 128,\n",
    "            output1_size = output_size,\n",
    "            output2_size = None,\n",
    "            GPUindex = GPUindex)\n",
    "    elif classifier==\"LSTM3\":\n",
    "        if kind==\"from-scratch\":\n",
    "            output_size = len(classes)\n",
    "        if kind==\"incremental\":\n",
    "            output_size = total\n",
    "        if kind==\"no-model-file\":\n",
    "            output_size = len(classes)\n",
    "        net = classifier_LSTM(\n",
    "            True,\n",
    "            input_size = channel,\n",
    "            lstm_layers = 1,\n",
    "            lstm_size = 128,\n",
    "            output1_size = output_size,\n",
    "            output2_size = None,\n",
    "            GPUindex = GPUindex)\n",
    "    elif classifier==\"LSTM4\":\n",
    "        if kind==\"from-scratch\":\n",
    "            output_size = len(classes)\n",
    "        if kind==\"incremental\":\n",
    "            output_size = total\n",
    "        if kind==\"no-model-file\":\n",
    "            output_size = len(classes)\n",
    "        net = classifier_LSTM(\n",
    "            True,\n",
    "            input_size = channel,\n",
    "            lstm_layers = 1,\n",
    "            lstm_size = 128,\n",
    "            output1_size = 128,\n",
    "            output2_size = output_size,\n",
    "            GPUindex = GPUindex)        \n",
    "    elif classifier==\"CNN\":\n",
    "        if length<min_CNN:\n",
    "            return\n",
    "        if kind==\"from-scratch\":\n",
    "            output_size = len(classes)\n",
    "        if kind==\"incremental\":\n",
    "            output_size = total\n",
    "        if kind==\"no-model-file\":\n",
    "            output_size = len(classes)\n",
    "        net = classifier_CNN(\n",
    "            in_channel = channel,\n",
    "            num_points = length,\n",
    "                output_size = output_size)\n",
    "    elif classifier==\"EEGNet\":\n",
    "        if length<min_CNN:\n",
    "            return\n",
    "        if kind==\"from-scratch\":\n",
    "            output_size = len(classes)\n",
    "        if kind==\"incremental\":\n",
    "            output_size = total\n",
    "        if kind==\"no-model-file\":\n",
    "            output_size = len(classes)\n",
    "        net = classifier_EEGNet(channel, length)\n",
    "    elif classifier==\"SyncNet\":\n",
    "        if length<min_CNN:\n",
    "            return \n",
    "        if kind==\"from-scratch\":\n",
    "            output_size = len(classes)\n",
    "        if kind==\"incremental\":\n",
    "            output_size = total\n",
    "        if kind==\"no-model-file\":\n",
    "            output_size = len(classes)\n",
    "        net = classifier_SyncNet(channel, length)\n",
    "    elif classifier==\"EEGChannelNet\":\n",
    "        if length<min_CNN:\n",
    "            return\n",
    "        if kind==\"from-scratch\":\n",
    "            output_size = len(classes)\n",
    "        if kind==\"incremental\":\n",
    "            output_size = total\n",
    "        if kind==\"no-model-file\":\n",
    "            output_size = len(classes)\n",
    "        net = classifier_EEGChannelNet(channel, length)\n",
    "    print(\"DONE: CREATE TORCH CLASSIFIER\")\n",
    "    print(net)\n",
    "    nonclasses = [i for i in range(output_size) if i not in classes]\n",
    "    return net, nonclasses"
   ]
  },
  {
   "cell_type": "code",
   "execution_count": 11,
   "id": "aae9c3e3",
   "metadata": {},
   "outputs": [],
   "source": [
    "# LSTM network\n",
    "opt.classifier = \"LSTM4\"\n",
    "opt.batch_size = 16\n",
    "opt.kind = \"from-scratch\"\n",
    "opt.run = \"imagenet40-1000\"\n",
    "opt.fold = 1"
   ]
  },
  {
   "cell_type": "code",
   "execution_count": 12,
   "id": "a40c36ef",
   "metadata": {},
   "outputs": [
    {
     "name": "stdout",
     "output_type": "stream",
     "text": [
      "DONE: LOAD DATASET\n",
      "DONE: Create loaders for model\n"
     ]
    }
   ],
   "source": [
    "dataset, loaders = load_dataset(opt.iv,\n",
    "                             opt.offset,\n",
    "                             opt.fold,\n",
    "                             opt.eeg_dataset,\n",
    "                             opt.splits_path,\n",
    "                             n_classes,\n",
    "                             classes,\n",
    "                             opt.classifier,\n",
    "                             opt.batch_size,\n",
    "                             opt.GPUindex,\n",
    "                             length,\n",
    "                             channel,\n",
    "                             min_CNN,\n",
    "                             opt,\n",
    "                             opt.kind)"
   ]
  },
  {
   "cell_type": "code",
   "execution_count": 13,
   "id": "8191cbe4",
   "metadata": {},
   "outputs": [
    {
     "name": "stdout",
     "output_type": "stream",
     "text": [
      "<class 'data_loader.EEGDataset'>\n",
      "<class 'dict'>\n",
      "3 [2000, 250, 250]\n",
      "40000\n"
     ]
    }
   ],
   "source": [
    "print(type(dataset))\n",
    "print(type(loaders))\n",
    "print(len(loaders), [len(loaders[name]) for name in [\"train\", \"val\", \"test\"] ])\n",
    "print(len(dataset))"
   ]
  },
  {
   "cell_type": "code",
   "execution_count": 14,
   "id": "cac28ce6",
   "metadata": {},
   "outputs": [
    {
     "name": "stdout",
     "output_type": "stream",
     "text": [
      "DONE: CREATE TORCH CLASSIFIER\n",
      "classifier_LSTM(\n",
      "  (lstm): LSTM(96, 128, batch_first=True)\n",
      "  (output1): Linear(in_features=128, out_features=128, bias=True)\n",
      "  (relu): ReLU()\n",
      "  (output2): Linear(in_features=128, out_features=40, bias=True)\n",
      ")\n",
      "0\n"
     ]
    },
    {
     "data": {
      "text/plain": [
       "==========================================================================================\n",
       "Layer (type:depth-idx)                   Output Shape              Param #\n",
       "==========================================================================================\n",
       "classifier_LSTM                          [1, 40]                   --\n",
       "├─LSTM: 1-1                              [1, 512, 128]             115,712\n",
       "├─Linear: 1-2                            [1, 128]                  16,512\n",
       "├─ReLU: 1-3                              [1, 128]                  --\n",
       "├─Linear: 1-4                            [1, 40]                   5,160\n",
       "==========================================================================================\n",
       "Total params: 137,384\n",
       "Trainable params: 137,384\n",
       "Non-trainable params: 0\n",
       "Total mult-adds (M): 59.27\n",
       "==========================================================================================\n",
       "Input size (MB): 0.20\n",
       "Forward/backward pass size (MB): 0.53\n",
       "Params size (MB): 0.55\n",
       "Estimated Total Size (MB): 1.27\n",
       "=========================================================================================="
      ]
     },
     "execution_count": 14,
     "metadata": {},
     "output_type": "execute_result"
    }
   ],
   "source": [
    "net, nonclasses = Classifier(opt.iv,\n",
    "                 opt.offset,\n",
    "                 opt.fold,\n",
    "                 opt.eeg_dataset,\n",
    "                 opt.splits_path,\n",
    "                 n_classes,\n",
    "                 classes,\n",
    "                 opt.classifier,\n",
    "                 opt.batch_size,\n",
    "                 opt.GPUindex,\n",
    "                 length,\n",
    "                 channel,\n",
    "                 min_CNN,\n",
    "                 opt,\n",
    "                 opt.kind)\n",
    "print(len(nonclasses))\n",
    "summary(net, input_size=(1, 96, 512))"
   ]
  },
  {
   "cell_type": "code",
   "execution_count": 15,
   "id": "1f456201",
   "metadata": {},
   "outputs": [
    {
     "name": "stdout",
     "output_type": "stream",
     "text": [
      "image-LSTM4-512-96-0\n"
     ]
    }
   ],
   "source": [
    "model_path = (opt.iv+\n",
    "                  \"-\"+\n",
    "                  opt.classifier+\n",
    "                  \"-\"+\n",
    "                  str(length)+\n",
    "                  \"-\"+\n",
    "                  str(channel)+\n",
    "                  \"-\"+\n",
    "                  str(0))\n",
    "channel_idx=None\n",
    "print(model_path)"
   ]
  },
  {
   "cell_type": "code",
   "execution_count": 16,
   "id": "a1826601",
   "metadata": {},
   "outputs": [
    {
     "name": "stdout",
     "output_type": "stream",
     "text": [
      "epoch 1\n",
      "epoch 2\n",
      "epoch 3\n",
      "epoch 4\n",
      "epoch 5\n",
      "epoch 6\n",
      "epoch 7\n",
      "epoch 8\n",
      "epoch 9\n",
      "epoch 10\n",
      "epoch 11\n",
      "epoch 12\n",
      "epoch 13\n",
      "epoch 14\n",
      "epoch 15\n",
      "epoch 16\n",
      "epoch 17\n",
      "epoch 18\n",
      "epoch 19\n",
      "epoch 20\n",
      "epoch 21\n",
      "epoch 22\n",
      "epoch 23\n",
      "epoch 24\n",
      "epoch 25\n",
      "epoch 26\n",
      "epoch 27\n",
      "epoch 28\n",
      "epoch 29\n",
      "epoch 30\n",
      "epoch 31\n",
      "epoch 32\n",
      "epoch 33\n",
      "epoch 34\n",
      "epoch 35\n",
      "epoch 36\n",
      "epoch 37\n",
      "epoch 38\n",
      "epoch 39\n",
      "epoch 40\n",
      "epoch 41\n",
      "epoch 42\n",
      "epoch 43\n",
      "epoch 44\n",
      "epoch 45\n",
      "epoch 46\n",
      "epoch 47\n",
      "epoch 48\n",
      "epoch 49\n",
      "epoch 50\n",
      "epoch 51\n",
      "epoch 52\n",
      "epoch 53\n",
      "epoch 54\n",
      "epoch 55\n",
      "epoch 56\n",
      "epoch 57\n",
      "epoch 58\n",
      "epoch 59\n",
      "epoch 60\n",
      "epoch 61\n",
      "epoch 62\n",
      "epoch 63\n",
      "epoch 64\n",
      "epoch 65\n",
      "epoch 66\n",
      "epoch 67\n",
      "epoch 68\n",
      "epoch 69\n",
      "epoch 70\n",
      "epoch 71\n",
      "epoch 72\n",
      "epoch 73\n",
      "epoch 74\n",
      "epoch 75\n",
      "epoch 76\n",
      "epoch 77\n",
      "epoch 78\n",
      "epoch 79\n",
      "epoch 80\n",
      "epoch 81\n",
      "epoch 82\n",
      "epoch 83\n",
      "epoch 84\n",
      "epoch 85\n",
      "epoch 86\n",
      "epoch 87\n",
      "epoch 88\n",
      "epoch 89\n",
      "epoch 90\n",
      "epoch 91\n",
      "epoch 92\n",
      "epoch 93\n",
      "epoch 94\n",
      "epoch 95\n",
      "epoch 96\n",
      "epoch 97\n",
      "epoch 98\n",
      "epoch 99\n",
      "epoch 100\n"
     ]
    }
   ],
   "source": [
    "if opt.kind==\"from-scratch\":\n",
    "    accuracy_val, accuracy_test, counts_val, counts_test = net_trainer(\n",
    "            net,\n",
    "            loaders,\n",
    "            opt,\n",
    "            channel_idx,\n",
    "            nonclasses,\n",
    "            None,\n",
    "            True,\n",
    "            model_path)"
   ]
  },
  {
   "cell_type": "code",
   "execution_count": 19,
   "id": "5b6ef6f0",
   "metadata": {},
   "outputs": [
    {
     "name": "stdout",
     "output_type": "stream",
     "text": [
      "Validation accuracy:  1.0\n",
      "Test accuracy:  1.0\n",
      "Accuracy:  1.0\n"
     ]
    }
   ],
   "source": [
    "val =accuracy_val\n",
    "test = accuracy_test\n",
    "samples = counts_val+counts_test\n",
    "accuracy = (val+test)/(1*2)\n",
    "print(\"Validation accuracy: \", val)\n",
    "print(\"Test accuracy: \", test)\n",
    "print(\"Accuracy: \", accuracy) #????"
   ]
  },
  {
   "cell_type": "code",
   "execution_count": 18,
   "id": "fbd038e1",
   "metadata": {},
   "outputs": [
    {
     "name": "stdout",
     "output_type": "stream",
     "text": [
      "1.0\n"
     ]
    }
   ],
   "source": [
    "print(accuracy_val)"
   ]
  },
  {
   "cell_type": "code",
   "execution_count": null,
   "id": "0c2b2b67",
   "metadata": {},
   "outputs": [],
   "source": []
  }
 ],
 "metadata": {
  "kernelspec": {
   "display_name": "Python 3 (ipykernel)",
   "language": "python",
   "name": "python3"
  },
  "language_info": {
   "codemirror_mode": {
    "name": "ipython",
    "version": 3
   },
   "file_extension": ".py",
   "mimetype": "text/x-python",
   "name": "python",
   "nbconvert_exporter": "python",
   "pygments_lexer": "ipython3",
   "version": "3.9.5"
  }
 },
 "nbformat": 4,
 "nbformat_minor": 5
}
