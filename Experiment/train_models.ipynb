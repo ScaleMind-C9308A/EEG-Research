{
 "cells": [
  {
   "cell_type": "code",
   "execution_count": 1,
   "id": "3675927f",
   "metadata": {},
   "outputs": [],
   "source": [
    "import os\n",
    "import random\n",
    "import torch\n",
    "import numpy as np\n",
    "import pickle as pkl\n",
    "from analysis import *\n",
    "import argparse\n",
    "from sys import platform"
   ]
  },
  {
   "cell_type": "code",
   "execution_count": 2,
   "id": "5e2301c9",
   "metadata": {},
   "outputs": [],
   "source": [
    "torch.manual_seed(12)\n",
    "torch.cuda.manual_seed(12)\n",
    "np.random.seed(12)\n",
    "torch.backends.cudnn.deterministics = True\n",
    "torch.set_num_threads(1)"
   ]
  },
  {
   "cell_type": "code",
   "execution_count": 3,
   "id": "7454d60c",
   "metadata": {},
   "outputs": [
    {
     "name": "stdout",
     "output_type": "stream",
     "text": [
      "True\n",
      "1\n",
      "0\n",
      "<torch.cuda.device object at 0x7f5836334c10>\n",
      "NVIDIA TITAN V\n"
     ]
    }
   ],
   "source": [
    "print(torch.cuda.is_available())\n",
    "print(torch.cuda.device_count())\n",
    "print(torch.cuda.current_device())\n",
    "\n",
    "print(torch.cuda.device(0))\n",
    "print(torch.cuda.get_device_name(0))"
   ]
  },
  {
   "cell_type": "code",
   "execution_count": 4,
   "id": "499dbec8",
   "metadata": {},
   "outputs": [],
   "source": [
    "# iv: image option\n",
    "length = 512\n",
    "channel = 96\n",
    "min_CNN = 200\n",
    "n_classes = 40\n",
    "classes = range(n_classes)\n"
   ]
  },
  {
   "cell_type": "code",
   "execution_count": 18,
   "id": "cef3bc14",
   "metadata": {},
   "outputs": [],
   "source": [
    "if platform == \"linux\" or platform == \"linux2\":\n",
    "    torch_models_dir = r\"/media/titan/AI Research/Data/CVPR2021-02785/CVPR2021-02785/preprocessed/torch_models\"\n",
    "elif platform == \"win32\":\n",
    "    torch_models_dir = r\"D:\\Data\\CVPR2021-02785\\CVPR2021-02785\\preprocessed\\torch_models\"\n",
    "eeg_dataset, splits_path, splits_shuffled_path = os.listdir(torch_models_dir)"
   ]
  },
  {
   "cell_type": "code",
   "execution_count": 19,
   "id": "37e239e0",
   "metadata": {},
   "outputs": [
    {
     "name": "stdout",
     "output_type": "stream",
     "text": [
      "/media/titan/AI Research/Data/CVPR2021-02785/CVPR2021-02785/preprocessed/torch_models/imagenet40-1000-1.pth \n",
      " /media/titan/AI Research/Data/CVPR2021-02785/CVPR2021-02785/preprocessed/torch_models/imagenet40-1000-1_splits_shuffled.pth\n"
     ]
    }
   ],
   "source": [
    "eeg_dataset = os.path.join(torch_models_dir, eeg_dataset)\n",
    "# splits_path = os.path.join(torch_models_dir, splits_path)\n",
    "splits_path = os.path.join(torch_models_dir, splits_shuffled_path)\n",
    "print(eeg_dataset,'\\n', splits_path)"
   ]
  },
  {
   "cell_type": "code",
   "execution_count": 20,
   "id": "009ff0e5",
   "metadata": {},
   "outputs": [
    {
     "name": "stdout",
     "output_type": "stream",
     "text": [
      "image\n"
     ]
    }
   ],
   "source": [
    "opt = {\n",
    "    # Dataset options\n",
    "    \"iv\": \"image\",\n",
    "    \"offset\": None,\n",
    "    \"results_file\": \"results.pkl\",\n",
    "    \"subject\": 0,\n",
    "    \"run\": \"none\",\n",
    "    \"eeg_dataset\": eeg_dataset,\n",
    "    \"splits_path\": splits_path,\n",
    "    \"fold\": 5,\n",
    "    #Training options\n",
    "    \"batch_size\": 16,\n",
    "    \"optim\": \"Adam\",\n",
    "    \"learning_rate\": 0.001,\n",
    "    \"learning_rate_decay_by\": 0.5,\n",
    "    \"learning_rate_decay_every\": 10,\n",
    "    \"epochs\": 100,\n",
    "    \"GPUindex\": 0,\n",
    "    \"kind\":\"incremental\",\n",
    "    #Backend options\n",
    "    \"no_cuda\": False,\n",
    "    \"classifier\": None\n",
    "}\n",
    "opt = argparse.Namespace(**opt)\n",
    "print(opt.iv)"
   ]
  },
  {
   "cell_type": "code",
   "execution_count": 37,
   "id": "4c8df9cd",
   "metadata": {},
   "outputs": [
    {
     "name": "stdout",
     "output_type": "stream",
     "text": [
      "The autoreload extension is already loaded. To reload it, use:\n",
      "  %reload_ext autoreload\n"
     ]
    }
   ],
   "source": [
    "%load_ext autoreload\n",
    "%autoreload 2\n",
    "from torch.utils.data import DataLoader\n",
    "from data_loader import EEGDataset, Splitter, SplitterWithData\n",
    "from EEG_Encoder.LSTM import classifier_LSTM\n",
    "from EEG_Encoder.CNN import classifier_CNN\n",
    "from EEG_Encoder.EEGNet import classifier_EEGNet\n",
    "from EEG_Encoder.SyncNet import classifier_SyncNet\n",
    "from EEG_Encoder.EEGChannelNet import classifier_EEGChannelNet\n",
    "from EEG_Encoder.net_generator import Classifier\n",
    "from EEG_Encoder.net_trainer import net_trainer\n",
    "from p_values import *\n",
    "from torchinfo import summary"
   ]
  },
  {
   "cell_type": "code",
   "execution_count": 28,
   "id": "30bd6700",
   "metadata": {},
   "outputs": [],
   "source": [
    "def load_dataset(iv,\n",
    "             offset,\n",
    "             eeg_dataset,\n",
    "             splits_path,\n",
    "             split_num, # (0-4) - 5 fold cross validation\n",
    "             total,\n",
    "             classes,\n",
    "             classifier,\n",
    "             batch_size,\n",
    "             GPUindex,\n",
    "             length, # 512\n",
    "             channel, # 96\n",
    "             min_CNN,\n",
    "             opt,\n",
    "             kind):        \n",
    "    # Load dataset\n",
    "    dataset = EEGDataset(iv, eeg_dataset, classifier, map_idx = None)\n",
    "    print(\"DONE: LOAD DATASET\")\n",
    "    # Create loaders for LSTM/MLP/CNN/SCNN/EEGNet/SyncNet/EEGChannelNet\n",
    "    if kind==\"from-scratch\":\n",
    "        relabel = False\n",
    "    if kind==\"incremental\":\n",
    "        relabel = False\n",
    "    if kind==\"no-model-file\":\n",
    "        relabel = True\n",
    "    splitter = {split: SplitterWithData(iv,\n",
    "                    dataset,\n",
    "                    splits_path,\n",
    "                    classes,\n",
    "                    split_num,\n",
    "                    split,\n",
    "                    relabel) for split in [\"train\", \"val\", \"test\"]}\n",
    "    loaders = {split: DataLoader(\n",
    "                        splitter[split],\n",
    "                        batch_size = batch_size,\n",
    "                        drop_last = False,\n",
    "                        shuffle = True)\n",
    "                    for split in [\"train\", \"val\", \"test\"]}\n",
    "    channel_idx = None    \n",
    "    print(\"DONE: Create loaders for model\")            \n",
    "    return dataset, loaders, splitter"
   ]
  },
  {
   "cell_type": "code",
   "execution_count": 30,
   "id": "aae9c3e3",
   "metadata": {},
   "outputs": [],
   "source": [
    "# LSTM network\n",
    "opt.classifier = \"LSTM4\"\n",
    "opt.batch_size = 16\n",
    "opt.kind = \"from-scratch\"\n",
    "opt.run = \"imagenet40-1000\"\n",
    "opt.fold = 5"
   ]
  },
  {
   "cell_type": "code",
   "execution_count": 22,
   "id": "8455f252",
   "metadata": {},
   "outputs": [
    {
     "name": "stdout",
     "output_type": "stream",
     "text": [
      "DONE: LOAD DATASET\n",
      "Splitter with data\n",
      "Splitter with data\n",
      "Splitter with data\n",
      "DONE: Create loaders for model\n"
     ]
    }
   ],
   "source": [
    "dataset, loaders, splitter = load_dataset(opt.iv,\n",
    "                             opt.offset,\n",
    "                             opt.eeg_dataset,\n",
    "                             opt.splits_path,\n",
    "                             0, #split_num\n",
    "                             n_classes,\n",
    "                             classes,\n",
    "                             opt.classifier,\n",
    "                             opt.batch_size,\n",
    "                             opt.GPUindex,\n",
    "                             length,\n",
    "                             channel,\n",
    "                             min_CNN,\n",
    "                             opt,\n",
    "                             opt.kind)"
   ]
  },
  {
   "cell_type": "code",
   "execution_count": 31,
   "id": "8191cbe4",
   "metadata": {},
   "outputs": [
    {
     "name": "stdout",
     "output_type": "stream",
     "text": [
      "<class 'data_loader.EEGDataset'>\n",
      "<class 'dict'>\n",
      "3 [2000, 250, 250]\n",
      "8\n",
      "12\n",
      "20\n",
      "18\n",
      "28\n",
      "21\n",
      "33\n",
      "13\n",
      "12\n",
      "22\n",
      "[9971, 26793, 14723, 24157, 19240, 30062, 24252, 5439, 19520, 23823]\n"
     ]
    }
   ],
   "source": [
    "# loaders: divide the splits data in each fold with batch_size\n",
    "# Each fold has {train: 32000 idx, val: 4000 idx, test: 4000 idx}\n",
    "# Each loader batch has {train: 2000 idx, val: 250idx, test: 250 idx}\n",
    "print(type(dataset))\n",
    "print(type(loaders))\n",
    "print(len(loaders), [len(loaders[name]) for name in [\"train\", \"val\", \"test\"] ])\n",
    "for i in range(10):\n",
    "    eeg, label = splitter[\"val\"][i]\n",
    "    print(label)\n",
    "print(splitter[\"val\"].split_idx[:10])"
   ]
  },
  {
   "cell_type": "code",
   "execution_count": 40,
   "id": "e95cc78d",
   "metadata": {},
   "outputs": [
    {
     "name": "stdout",
     "output_type": "stream",
     "text": [
      "DONE: CREATE TORCH CLASSIFIER\n",
      "classifier_LSTM(\n",
      "  (lstm): LSTM(96, 128, batch_first=True)\n",
      "  (output1): Linear(in_features=128, out_features=128, bias=True)\n",
      "  (relu): ReLU()\n",
      "  (output2): Linear(in_features=128, out_features=40, bias=True)\n",
      ")\n"
     ]
    },
    {
     "data": {
      "text/plain": [
       "==========================================================================================\n",
       "Layer (type:depth-idx)                   Output Shape              Param #\n",
       "==========================================================================================\n",
       "classifier_LSTM                          [1, 40]                   --\n",
       "├─LSTM: 1-1                              [1, 512, 128]             115,712\n",
       "├─Linear: 1-2                            [1, 128]                  16,512\n",
       "├─ReLU: 1-3                              [1, 128]                  --\n",
       "├─Linear: 1-4                            [1, 40]                   5,160\n",
       "==========================================================================================\n",
       "Total params: 137,384\n",
       "Trainable params: 137,384\n",
       "Non-trainable params: 0\n",
       "Total mult-adds (M): 59.27\n",
       "==========================================================================================\n",
       "Input size (MB): 0.20\n",
       "Forward/backward pass size (MB): 0.53\n",
       "Params size (MB): 0.55\n",
       "Estimated Total Size (MB): 1.27\n",
       "=========================================================================================="
      ]
     },
     "execution_count": 40,
     "metadata": {},
     "output_type": "execute_result"
    }
   ],
   "source": [
    "net, nonclasses = Classifier(\n",
    "                 n_classes,\n",
    "                 classes,\n",
    "                 opt.classifier,\n",
    "                 opt.GPUindex,\n",
    "                 length,\n",
    "                 channel,\n",
    "                 min_CNN,\n",
    "                 opt.kind)\n",
    "# print(len(nonclasses))\n",
    "summary(net, input_size=(1, 96, 512))"
   ]
  },
  {
   "cell_type": "code",
   "execution_count": 33,
   "id": "9527792e",
   "metadata": {},
   "outputs": [
    {
     "name": "stdout",
     "output_type": "stream",
     "text": [
      "image-LSTM4-512-96-0\n"
     ]
    }
   ],
   "source": [
    "model_path = (opt.iv+\n",
    "                  \"-\"+\n",
    "                  opt.classifier+\n",
    "                  \"-\"+\n",
    "                  str(length)+\n",
    "                  \"-\"+\n",
    "                  str(channel)+\n",
    "                  \"-\"+\n",
    "                  str(0))\n",
    "channel_idx=None\n",
    "print(model_path)"
   ]
  },
  {
   "cell_type": "code",
   "execution_count": 34,
   "id": "789e1be5",
   "metadata": {},
   "outputs": [
    {
     "name": "stdout",
     "output_type": "stream",
     "text": [
      "Namespace(iv='image', offset=None, results_file='results.pkl', subject=0, run='imagenet40-1000', eeg_dataset='/media/titan/AI Research/Data/CVPR2021-02785/CVPR2021-02785/preprocessed/torch_models/imagenet40-1000-1.pth', splits_path='/media/titan/AI Research/Data/CVPR2021-02785/CVPR2021-02785/preprocessed/torch_models/imagenet40-1000-1_splits_shuffled.pth', fold=5, batch_size=16, optim='Adam', learning_rate=0.001, learning_rate_decay_by=0.5, learning_rate_decay_every=10, epochs=100, GPUindex=0, kind='from-scratch', no_cuda=False, classifier='LSTM4')\n"
     ]
    }
   ],
   "source": [
    "print(opt)"
   ]
  },
  {
   "cell_type": "code",
   "execution_count": 35,
   "id": "2d6a7ecd",
   "metadata": {},
   "outputs": [
    {
     "name": "stdout",
     "output_type": "stream",
     "text": [
      "epoch 1\n",
      "Batch 1000: Loss=3.7001452445983887; accuracy=0.024812500923871994\n",
      "Batch 2000: Loss=3.6856589317321777; accuracy=0.024187501519918442\n",
      "epoch 2\n",
      "Batch 1000: Loss=3.6822993755340576; accuracy=0.025812501087784767\n",
      "Batch 2000: Loss=3.692124366760254; accuracy=0.025718750432133675\n",
      "epoch 3\n",
      "Batch 1000: Loss=3.673802137374878; accuracy=0.029187500476837158\n",
      "Batch 2000: Loss=3.669016122817993; accuracy=0.027156250551342964\n",
      "epoch 4\n",
      "Batch 1000: Loss=3.662348985671997; accuracy=0.02825000137090683\n",
      "Batch 2000: Loss=3.711448907852173; accuracy=0.02878125198185444\n",
      "epoch 5\n",
      "Batch 1000: Loss=3.698808193206787; accuracy=0.03856250271201134\n",
      "Batch 2000: Loss=3.667999267578125; accuracy=0.03593750298023224\n",
      "epoch 6\n",
      "Batch 1000: Loss=3.584733724594116; accuracy=0.044187501072883606\n",
      "Batch 2000: Loss=3.558256149291992; accuracy=0.04281250387430191\n",
      "epoch 7\n",
      "Batch 1000: Loss=3.699162483215332; accuracy=0.0573125034570694\n",
      "Batch 2000: Loss=3.73032283782959; accuracy=0.05665625259280205\n",
      "epoch 8\n",
      "Batch 1000: Loss=3.5862276554107666; accuracy=0.0754375010728836\n",
      "Batch 2000: Loss=3.677565574645996; accuracy=0.07206249982118607\n",
      "epoch 9\n",
      "Batch 1000: Loss=3.3316256999969482; accuracy=0.09681250154972076\n",
      "Batch 2000: Loss=3.504143238067627; accuracy=0.09312500804662704\n",
      "epoch 10\n",
      "Batch 1000: Loss=3.2004098892211914; accuracy=0.12343750894069672\n",
      "Batch 2000: Loss=3.234114170074463; accuracy=0.11753125488758087\n",
      "epoch 11\n",
      "Batch 1000: Loss=2.945537567138672; accuracy=0.15137501060962677\n",
      "Batch 2000: Loss=3.128065586090088; accuracy=0.14109376072883606\n",
      "epoch 12\n",
      "Batch 1000: Loss=3.1064772605895996; accuracy=0.18006250262260437\n",
      "Batch 2000: Loss=3.4844791889190674; accuracy=0.16871875524520874\n",
      "epoch 13\n",
      "Batch 1000: Loss=3.5049996376037598; accuracy=0.20462501049041748\n",
      "Batch 2000: Loss=2.8684191703796387; accuracy=0.19600000977516174\n",
      "epoch 14\n",
      "Batch 1000: Loss=3.0074195861816406; accuracy=0.23262500762939453\n",
      "Batch 2000: Loss=2.429340362548828; accuracy=0.22056251764297485\n",
      "epoch 15\n",
      "Batch 1000: Loss=2.9133286476135254; accuracy=0.2591875195503235\n",
      "Batch 2000: Loss=2.8434793949127197; accuracy=0.2462187558412552\n",
      "epoch 16\n",
      "Batch 1000: Loss=3.1107397079467773; accuracy=0.2862500250339508\n",
      "Batch 2000: Loss=2.5981948375701904; accuracy=0.2706562578678131\n",
      "epoch 17\n",
      "Batch 1000: Loss=2.3559114933013916; accuracy=0.31075000762939453\n",
      "Batch 2000: Loss=2.4618594646453857; accuracy=0.2941562533378601\n",
      "epoch 18\n",
      "Batch 1000: Loss=2.6456410884857178; accuracy=0.33531251549720764\n",
      "Batch 2000: Loss=2.607809543609619; accuracy=0.31806251406669617\n",
      "epoch 19\n",
      "Batch 1000: Loss=2.535787343978882; accuracy=0.3543750047683716\n",
      "Batch 2000: Loss=2.35805344581604; accuracy=0.3383750021457672\n",
      "epoch 20\n",
      "Batch 1000: Loss=2.365798234939575; accuracy=0.3698750138282776\n",
      "Batch 2000: Loss=1.678318738937378; accuracy=0.355156272649765\n",
      "epoch 21\n",
      "Batch 1000: Loss=2.6034653186798096; accuracy=0.3955625295639038\n",
      "Batch 2000: Loss=2.0684728622436523; accuracy=0.378843754529953\n",
      "epoch 22\n",
      "Batch 1000: Loss=2.1436312198638916; accuracy=0.40925002098083496\n",
      "Batch 2000: Loss=2.662527084350586; accuracy=0.39131250977516174\n",
      "epoch 23\n",
      "Batch 1000: Loss=2.7281181812286377; accuracy=0.4256875216960907\n",
      "Batch 2000: Loss=2.235440492630005; accuracy=0.4089375138282776\n",
      "epoch 24\n",
      "Batch 1000: Loss=2.6139886379241943; accuracy=0.44056251645088196\n",
      "Batch 2000: Loss=1.7115558385849; accuracy=0.42209377884864807\n",
      "epoch 25\n",
      "Batch 1000: Loss=2.945075035095215; accuracy=0.46168753504753113\n",
      "Batch 2000: Loss=2.7554001808166504; accuracy=0.44040626287460327\n",
      "epoch 26\n",
      "Batch 1000: Loss=1.980879783630371; accuracy=0.4686875343322754\n",
      "Batch 2000: Loss=1.5857996940612793; accuracy=0.4504687786102295\n",
      "epoch 27\n",
      "Batch 1000: Loss=2.5994930267333984; accuracy=0.4892500340938568\n",
      "Batch 2000: Loss=2.20186448097229; accuracy=0.46012502908706665\n",
      "epoch 28\n",
      "Batch 1000: Loss=2.192927837371826; accuracy=0.49256253242492676\n",
      "Batch 2000: Loss=1.643348217010498; accuracy=0.47600001096725464\n",
      "epoch 29\n",
      "Batch 1000: Loss=1.8685733079910278; accuracy=0.5083125233650208\n",
      "Batch 2000: Loss=2.157022714614868; accuracy=0.4868125319480896\n",
      "epoch 30\n",
      "Batch 1000: Loss=2.2728240489959717; accuracy=0.5198125243186951\n",
      "Batch 2000: Loss=2.308549165725708; accuracy=0.4947500228881836\n",
      "epoch 31\n",
      "Batch 1000: Loss=1.663041591644287; accuracy=0.5235000252723694\n",
      "Batch 2000: Loss=1.6818405389785767; accuracy=0.503656268119812\n",
      "epoch 32\n",
      "Batch 1000: Loss=1.1626477241516113; accuracy=0.5348750352859497\n",
      "Batch 2000: Loss=2.135943651199341; accuracy=0.5168437957763672\n",
      "epoch 33\n",
      "Batch 1000: Loss=1.4389740228652954; accuracy=0.5409375429153442\n",
      "Batch 2000: Loss=1.6517837047576904; accuracy=0.5219687819480896\n",
      "epoch 34\n",
      "Batch 1000: Loss=1.4970555305480957; accuracy=0.5529375076293945\n",
      "Batch 2000: Loss=1.9005682468414307; accuracy=0.5295000076293945\n",
      "epoch 35\n",
      "Batch 1000: Loss=1.1288890838623047; accuracy=0.5504375100135803\n",
      "Batch 2000: Loss=2.051687717437744; accuracy=0.5287812948226929\n",
      "epoch 36\n",
      "Batch 1000: Loss=1.5984076261520386; accuracy=0.5661875009536743\n",
      "Batch 2000: Loss=2.113717555999756; accuracy=0.5434062480926514\n",
      "epoch 37\n",
      "Batch 1000: Loss=1.7437846660614014; accuracy=0.5679375529289246\n",
      "Batch 2000: Loss=1.612471342086792; accuracy=0.5512500405311584\n",
      "epoch 38\n",
      "Batch 1000: Loss=1.5478489398956299; accuracy=0.5753750205039978\n",
      "Batch 2000: Loss=1.6903908252716064; accuracy=0.5581250190734863\n",
      "epoch 39\n",
      "Batch 1000: Loss=0.8500377535820007; accuracy=0.5800625085830688\n",
      "Batch 2000: Loss=1.482571005821228; accuracy=0.5601875185966492\n",
      "epoch 40\n",
      "Batch 1000: Loss=1.3602858781814575; accuracy=0.5815625190734863\n",
      "Batch 2000: Loss=1.4862711429595947; accuracy=0.5640937685966492\n",
      "epoch 41\n",
      "Batch 1000: Loss=1.1820060014724731; accuracy=0.593375027179718\n",
      "Batch 2000: Loss=1.307969570159912; accuracy=0.5721875429153442\n",
      "epoch 42\n",
      "Batch 1000: Loss=1.6809390783309937; accuracy=0.5895625352859497\n",
      "Batch 2000: Loss=1.0554944276809692; accuracy=0.5725937485694885\n",
      "epoch 43\n",
      "Batch 1000: Loss=1.6867437362670898; accuracy=0.6035000085830688\n",
      "Batch 2000: Loss=1.3408331871032715; accuracy=0.5783750414848328\n",
      "epoch 44\n",
      "Batch 1000: Loss=1.7006549835205078; accuracy=0.6055000424385071\n",
      "Batch 2000: Loss=2.022139310836792; accuracy=0.5775938034057617\n",
      "epoch 45\n",
      "Batch 1000: Loss=1.4587615728378296; accuracy=0.6197500228881836\n",
      "Batch 2000: Loss=1.5280795097351074; accuracy=0.5903125405311584\n",
      "epoch 46\n",
      "Batch 1000: Loss=0.8516627550125122; accuracy=0.617062509059906\n",
      "Batch 2000: Loss=1.7075809240341187; accuracy=0.5912500023841858\n",
      "epoch 47\n",
      "Batch 1000: Loss=1.5379328727722168; accuracy=0.6221875548362732\n",
      "Batch 2000: Loss=1.4089010953903198; accuracy=0.5964062809944153\n",
      "epoch 48\n",
      "Batch 1000: Loss=1.6169639825820923; accuracy=0.612375020980835\n",
      "Batch 2000: Loss=1.5466060638427734; accuracy=0.5938125252723694\n",
      "epoch 49\n",
      "Batch 1000: Loss=1.5256762504577637; accuracy=0.6176250576972961\n",
      "Batch 2000: Loss=1.5209505558013916; accuracy=0.5983437895774841\n",
      "epoch 50\n",
      "Batch 1000: Loss=2.0409419536590576; accuracy=0.6310000419616699\n",
      "Batch 2000: Loss=1.893964409828186; accuracy=0.609250009059906\n",
      "epoch 51\n",
      "Batch 1000: Loss=1.8568243980407715; accuracy=0.6296875476837158\n",
      "Batch 2000: Loss=1.6417078971862793; accuracy=0.6093125343322754\n",
      "epoch 52\n",
      "Batch 1000: Loss=1.002083420753479; accuracy=0.627500057220459\n",
      "Batch 2000: Loss=1.7980599403381348; accuracy=0.6096562743186951\n",
      "epoch 53\n",
      "Batch 1000: Loss=1.414607048034668; accuracy=0.6296875476837158\n",
      "Batch 2000: Loss=1.4032163619995117; accuracy=0.6149062514305115\n",
      "epoch 54\n",
      "Batch 1000: Loss=1.551418423652649; accuracy=0.6388750076293945\n",
      "Batch 2000: Loss=1.2995400428771973; accuracy=0.6106875538825989\n",
      "epoch 55\n",
      "Batch 1000: Loss=1.669224500656128; accuracy=0.6341250538825989\n",
      "Batch 2000: Loss=1.7599983215332031; accuracy=0.6184375286102295\n",
      "epoch 56\n",
      "Batch 1000: Loss=1.304258942604065; accuracy=0.6492500305175781\n",
      "Batch 2000: Loss=0.9719110727310181; accuracy=0.6225937604904175\n",
      "epoch 57\n",
      "Batch 1000: Loss=2.239210367202759; accuracy=0.6467500329017639\n",
      "Batch 2000: Loss=0.9793885946273804; accuracy=0.624250054359436\n",
      "epoch 58\n",
      "Batch 1000: Loss=0.7082712054252625; accuracy=0.6455625295639038\n",
      "Batch 2000: Loss=3.1859214305877686; accuracy=0.4622812867164612\n",
      "epoch 59\n",
      "Batch 1000: Loss=1.89192533493042; accuracy=0.2926875054836273\n",
      "Batch 2000: Loss=2.6820619106292725; accuracy=0.28850001096725464\n",
      "epoch 60\n",
      "Batch 1000: Loss=2.3619606494903564; accuracy=0.3109375238418579\n"
     ]
    },
    {
     "name": "stdout",
     "output_type": "stream",
     "text": [
      "Batch 2000: Loss=2.3703253269195557; accuracy=0.30381250381469727\n",
      "epoch 61\n",
      "Batch 1000: Loss=3.340330123901367; accuracy=0.335875004529953\n",
      "Batch 2000: Loss=2.6535744667053223; accuracy=0.32484376430511475\n",
      "epoch 62\n",
      "Batch 1000: Loss=2.48386549949646; accuracy=0.3476875126361847\n",
      "Batch 2000: Loss=2.0299627780914307; accuracy=0.34159377217292786\n",
      "epoch 63\n",
      "Batch 1000: Loss=2.528679370880127; accuracy=0.3763750195503235\n",
      "Batch 2000: Loss=2.265131711959839; accuracy=0.362843781709671\n",
      "epoch 64\n",
      "Batch 1000: Loss=2.4133787155151367; accuracy=0.3999375104904175\n",
      "Batch 2000: Loss=2.1102027893066406; accuracy=0.3928437829017639\n",
      "epoch 65\n",
      "Batch 1000: Loss=1.3778313398361206; accuracy=0.4426250159740448\n",
      "Batch 2000: Loss=1.9425626993179321; accuracy=0.43303126096725464\n",
      "epoch 66\n",
      "Batch 1000: Loss=1.7669821977615356; accuracy=0.49556252360343933\n",
      "Batch 2000: Loss=1.2806756496429443; accuracy=0.4882187843322754\n",
      "epoch 67\n",
      "Batch 1000: Loss=1.2309484481811523; accuracy=0.5531250238418579\n",
      "Batch 2000: Loss=0.9519203305244446; accuracy=0.5467187762260437\n",
      "epoch 68\n",
      "Batch 1000: Loss=1.5103565454483032; accuracy=0.6025625467300415\n",
      "Batch 2000: Loss=1.9047925472259521; accuracy=0.5942187905311584\n",
      "epoch 69\n",
      "Batch 1000: Loss=1.4558405876159668; accuracy=0.6376250386238098\n",
      "Batch 2000: Loss=1.3004004955291748; accuracy=0.6209375262260437\n",
      "epoch 70\n",
      "Batch 1000: Loss=0.9140569567680359; accuracy=0.6491250395774841\n",
      "Batch 2000: Loss=1.3847159147262573; accuracy=0.63218754529953\n",
      "epoch 71\n",
      "Batch 1000: Loss=1.2381136417388916; accuracy=0.6635000109672546\n",
      "Batch 2000: Loss=1.6422104835510254; accuracy=0.6398125290870667\n",
      "epoch 72\n",
      "Batch 1000: Loss=1.2475265264511108; accuracy=0.6588125228881836\n",
      "Batch 2000: Loss=1.0507936477661133; accuracy=0.6448437571525574\n",
      "epoch 73\n",
      "Batch 1000: Loss=0.9452841281890869; accuracy=0.6594375371932983\n",
      "Batch 2000: Loss=2.125032424926758; accuracy=0.6393125057220459\n",
      "epoch 74\n",
      "Batch 1000: Loss=0.9763063192367554; accuracy=0.648312509059906\n",
      "Batch 2000: Loss=1.2578067779541016; accuracy=0.6351875066757202\n",
      "epoch 75\n",
      "Batch 1000: Loss=1.6458808183670044; accuracy=0.6588125228881836\n",
      "Batch 2000: Loss=1.7000126838684082; accuracy=0.6343750357627869\n",
      "epoch 76\n",
      "Batch 1000: Loss=1.0324782133102417; accuracy=0.6656875610351562\n",
      "Batch 2000: Loss=1.791447401046753; accuracy=0.6378125548362732\n",
      "epoch 77\n",
      "Batch 1000: Loss=2.053386688232422; accuracy=0.6496250033378601\n",
      "Batch 2000: Loss=2.0692827701568604; accuracy=0.6345937848091125\n",
      "epoch 78\n",
      "Batch 1000: Loss=1.9247727394104004; accuracy=0.6731250286102295\n",
      "Batch 2000: Loss=0.941167414188385; accuracy=0.6522500514984131\n",
      "epoch 79\n",
      "Batch 1000: Loss=1.3734787702560425; accuracy=0.6628750562667847\n",
      "Batch 2000: Loss=0.5863038897514343; accuracy=0.6375312805175781\n",
      "epoch 80\n",
      "Batch 1000: Loss=1.169798731803894; accuracy=0.6530625224113464\n",
      "Batch 2000: Loss=0.9304344058036804; accuracy=0.6335312724113464\n",
      "epoch 81\n",
      "Batch 1000: Loss=1.5155888795852661; accuracy=0.671625018119812\n",
      "Batch 2000: Loss=1.406980037689209; accuracy=0.6562812924385071\n",
      "epoch 82\n",
      "Batch 1000: Loss=0.7222589254379272; accuracy=0.6706250309944153\n",
      "Batch 2000: Loss=1.8614134788513184; accuracy=0.6530312895774841\n",
      "epoch 83\n",
      "Batch 1000: Loss=1.2016798257827759; accuracy=0.6777500510215759\n",
      "Batch 2000: Loss=0.9298240542411804; accuracy=0.6508437991142273\n",
      "epoch 84\n",
      "Batch 1000: Loss=1.5664973258972168; accuracy=0.6697500348091125\n",
      "Batch 2000: Loss=0.6870467066764832; accuracy=0.6553125381469727\n",
      "epoch 85\n",
      "Batch 1000: Loss=1.0219625234603882; accuracy=0.6648750305175781\n",
      "Batch 2000: Loss=1.6293301582336426; accuracy=0.6510312557220459\n",
      "epoch 86\n",
      "Batch 1000: Loss=1.103932499885559; accuracy=0.6658125519752502\n",
      "Batch 2000: Loss=0.8899701833724976; accuracy=0.6473750472068787\n",
      "epoch 87\n",
      "Batch 1000: Loss=0.9061553478240967; accuracy=0.6798750162124634\n",
      "Batch 2000: Loss=2.0943374633789062; accuracy=0.6587187647819519\n",
      "epoch 88\n",
      "Batch 1000: Loss=0.9221762418746948; accuracy=0.671625018119812\n",
      "Batch 2000: Loss=1.1754965782165527; accuracy=0.6501562595367432\n",
      "epoch 89\n",
      "Batch 1000: Loss=1.752579689025879; accuracy=0.6806250214576721\n",
      "Batch 2000: Loss=1.088467001914978; accuracy=0.660031259059906\n",
      "epoch 90\n",
      "Batch 1000: Loss=0.8149382472038269; accuracy=0.6783750057220459\n",
      "Batch 2000: Loss=1.1757481098175049; accuracy=0.6586250066757202\n",
      "epoch 91\n",
      "Batch 1000: Loss=0.2599761486053467; accuracy=0.6916875243186951\n",
      "Batch 2000: Loss=0.8351119160652161; accuracy=0.6598125100135803\n",
      "epoch 92\n",
      "Batch 1000: Loss=0.4790719747543335; accuracy=0.6766250133514404\n",
      "Batch 2000: Loss=0.8510257601737976; accuracy=0.6640000343322754\n",
      "epoch 93\n",
      "Batch 1000: Loss=1.0771304368972778; accuracy=0.6888750195503235\n",
      "Batch 2000: Loss=1.296052098274231; accuracy=0.660031259059906\n",
      "epoch 94\n",
      "Batch 1000: Loss=1.5512338876724243; accuracy=0.6821250319480896\n",
      "Batch 2000: Loss=0.9326170682907104; accuracy=0.6598438024520874\n",
      "epoch 95\n",
      "Batch 1000: Loss=1.155554175376892; accuracy=0.6818750500679016\n",
      "Batch 2000: Loss=1.0763142108917236; accuracy=0.6679688096046448\n",
      "epoch 96\n",
      "Batch 1000: Loss=1.058610200881958; accuracy=0.6838750243186951\n",
      "Batch 2000: Loss=1.9148180484771729; accuracy=0.6698750257492065\n",
      "epoch 97\n",
      "Batch 1000: Loss=0.499704509973526; accuracy=0.682437539100647\n",
      "Batch 2000: Loss=1.2084540128707886; accuracy=0.6640625596046448\n",
      "epoch 98\n",
      "Batch 1000: Loss=1.2328606843948364; accuracy=0.690625011920929\n",
      "Batch 2000: Loss=1.4134304523468018; accuracy=0.6689062714576721\n",
      "epoch 99\n",
      "Batch 1000: Loss=0.41748201847076416; accuracy=0.6884375214576721\n",
      "Batch 2000: Loss=1.276662826538086; accuracy=0.6692500114440918\n",
      "epoch 100\n",
      "Batch 1000: Loss=1.5824549198150635; accuracy=0.6877500414848328\n",
      "Batch 2000: Loss=1.1820499897003174; accuracy=0.6725313067436218\n"
     ]
    }
   ],
   "source": [
    "if opt.kind==\"from-scratch\":\n",
    "    accuracy_val, accuracy_test, counts_val, counts_test = net_trainer(\n",
    "            net,\n",
    "            loaders,\n",
    "            opt,\n",
    "            channel_idx,\n",
    "            nonclasses,\n",
    "            None,\n",
    "            True,\n",
    "            model_path)"
   ]
  },
  {
   "cell_type": "code",
   "execution_count": 41,
   "id": "52ac79d0",
   "metadata": {},
   "outputs": [
    {
     "name": "stdout",
     "output_type": "stream",
     "text": [
      "Validation accuracy:  0.02500000037252903\n",
      "Test accuracy:  0.026000000536441803\n",
      "Accuracy:  0.025500000454485416\n"
     ]
    }
   ],
   "source": [
    "val =accuracy_val\n",
    "test = accuracy_test\n",
    "samples = counts_val+counts_test\n",
    "accuracy = (val+test)/(1*2)\n",
    "print(\"Validation accuracy: \", val)\n",
    "print(\"Test accuracy: \", test)\n",
    "print(\"Accuracy: \", accuracy) #????"
   ]
  },
  {
   "cell_type": "code",
   "execution_count": null,
   "id": "f0931fb1",
   "metadata": {},
   "outputs": [],
   "source": [
    "print(accuracy_val)"
   ]
  },
  {
   "cell_type": "code",
   "execution_count": null,
   "id": "2dfe0373",
   "metadata": {},
   "outputs": [],
   "source": []
  },
  {
   "cell_type": "code",
   "execution_count": null,
   "id": "a0c3beab",
   "metadata": {},
   "outputs": [],
   "source": []
  },
  {
   "cell_type": "code",
   "execution_count": null,
   "id": "0ab45327",
   "metadata": {},
   "outputs": [],
   "source": []
  },
  {
   "cell_type": "code",
   "execution_count": null,
   "id": "d2179d69",
   "metadata": {},
   "outputs": [],
   "source": []
  },
  {
   "cell_type": "code",
   "execution_count": null,
   "id": "d9ed6c4b",
   "metadata": {},
   "outputs": [],
   "source": []
  },
  {
   "cell_type": "code",
   "execution_count": null,
   "id": "2060d560",
   "metadata": {},
   "outputs": [],
   "source": []
  },
  {
   "cell_type": "code",
   "execution_count": null,
   "id": "3fb54c13",
   "metadata": {},
   "outputs": [],
   "source": []
  },
  {
   "cell_type": "code",
   "execution_count": null,
   "id": "6467f813",
   "metadata": {},
   "outputs": [],
   "source": []
  },
  {
   "cell_type": "code",
   "execution_count": null,
   "id": "01d16c15",
   "metadata": {},
   "outputs": [],
   "source": []
  },
  {
   "cell_type": "code",
   "execution_count": null,
   "id": "45955f5c",
   "metadata": {},
   "outputs": [],
   "source": []
  },
  {
   "cell_type": "code",
   "execution_count": null,
   "id": "52331151",
   "metadata": {},
   "outputs": [],
   "source": []
  },
  {
   "cell_type": "code",
   "execution_count": null,
   "id": "ca94e7f7",
   "metadata": {},
   "outputs": [],
   "source": []
  },
  {
   "cell_type": "code",
   "execution_count": null,
   "id": "ddfe619b",
   "metadata": {},
   "outputs": [],
   "source": []
  },
  {
   "cell_type": "code",
   "execution_count": null,
   "id": "3a58f0c6",
   "metadata": {},
   "outputs": [],
   "source": []
  },
  {
   "cell_type": "code",
   "execution_count": null,
   "id": "8236ccbd",
   "metadata": {},
   "outputs": [],
   "source": []
  },
  {
   "cell_type": "code",
   "execution_count": null,
   "id": "44249203",
   "metadata": {},
   "outputs": [],
   "source": []
  },
  {
   "cell_type": "code",
   "execution_count": null,
   "id": "9f168b18",
   "metadata": {},
   "outputs": [],
   "source": []
  },
  {
   "cell_type": "code",
   "execution_count": null,
   "id": "7edd8a18",
   "metadata": {},
   "outputs": [],
   "source": []
  },
  {
   "cell_type": "code",
   "execution_count": null,
   "id": "63556efb",
   "metadata": {},
   "outputs": [],
   "source": []
  },
  {
   "cell_type": "code",
   "execution_count": null,
   "id": "9b6b09c2",
   "metadata": {},
   "outputs": [],
   "source": []
  },
  {
   "cell_type": "code",
   "execution_count": null,
   "id": "6a9eb88b",
   "metadata": {},
   "outputs": [],
   "source": []
  }
 ],
 "metadata": {
  "kernelspec": {
   "display_name": "Python 3 (ipykernel)",
   "language": "python",
   "name": "python3"
  },
  "language_info": {
   "codemirror_mode": {
    "name": "ipython",
    "version": 3
   },
   "file_extension": ".py",
   "mimetype": "text/x-python",
   "name": "python",
   "nbconvert_exporter": "python",
   "pygments_lexer": "ipython3",
   "version": "3.9.12"
  }
 },
 "nbformat": 4,
 "nbformat_minor": 5
}
