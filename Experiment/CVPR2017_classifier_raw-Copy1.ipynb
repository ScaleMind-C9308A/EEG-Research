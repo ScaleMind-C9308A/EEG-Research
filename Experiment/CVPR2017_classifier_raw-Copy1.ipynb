{
 "cells": [
  {
   "cell_type": "code",
   "execution_count": 22,
   "id": "ea7f6401",
   "metadata": {},
   "outputs": [
    {
     "name": "stdout",
     "output_type": "stream",
     "text": [
      "The autoreload extension is already loaded. To reload it, use:\n",
      "  %reload_ext autoreload\n"
     ]
    }
   ],
   "source": [
    "import os\n",
    "import random\n",
    "import torch\n",
    "import numpy as np\n",
    "import pickle as pkl\n",
    "from analysis import *\n",
    "import argparse\n",
    "from sys import platform\n",
    "%load_ext autoreload\n",
    "%autoreload 2"
   ]
  },
  {
   "cell_type": "code",
   "execution_count": 23,
   "id": "c192d33d",
   "metadata": {},
   "outputs": [],
   "source": [
    "torch.manual_seed(12)\n",
    "torch.cuda.manual_seed(12)\n",
    "np.random.seed(12)\n",
    "torch.backends.cudnn.deterministics = True\n",
    "torch.set_num_threads(1)"
   ]
  },
  {
   "cell_type": "code",
   "execution_count": 24,
   "id": "daf1a8a1",
   "metadata": {},
   "outputs": [
    {
     "name": "stdout",
     "output_type": "stream",
     "text": [
      "True\n",
      "2\n",
      "0\n",
      "<torch.cuda.device object at 0x7f7fba4af280>\n",
      "NVIDIA GeForce RTX 3090\n"
     ]
    }
   ],
   "source": [
    "print(torch.cuda.is_available())\n",
    "print(torch.cuda.device_count())\n",
    "print(torch.cuda.current_device())\n",
    "\n",
    "\n",
    "print(torch.cuda.device(0))\n",
    "print(torch.cuda.get_device_name(0))"
   ]
  },
  {
   "cell_type": "code",
   "execution_count": 25,
   "id": "ff733115",
   "metadata": {},
   "outputs": [],
   "source": [
    "# iv: image option\n",
    "length = 440\n",
    "channel = 128\n",
    "min_CNN = 200\n",
    "n_classes = 40\n",
    "classes = range(n_classes)\n"
   ]
  },
  {
   "cell_type": "code",
   "execution_count": 56,
   "id": "3b68db2d",
   "metadata": {},
   "outputs": [],
   "source": [
    "if platform == \"linux\" or platform == \"linux2\":\n",
    "    torch_models_dir = r\"/media/mountHDD1/LanxHuyen/CVPR2017\"\n",
    "elif platform == \"win32\":\n",
    "    torch_models_dir = r\"D:\\Data\\CVPR2021-02785\\CVPR2021-02785\\preprocessed\\torch_models\"\n",
    "block_splits_all = '/media/mountHDD1/LanxHuyen/CVPR2017/block_splits_by_image_all.pth' \n",
    "eeg_raw = '/media/mountHDD1/LanxHuyen/CVPR2017/eeg_55_95_std.pth'\n",
    "eeg_128 = '/media/mountHDD1/LanxHuyen/CVPR2017/eeg_55_95_std_downsampled_128Hz.pth'\n",
    "eeg_128_re = '/media/mountHDD1/LanxHuyen/CVPR2017/eeg_55_95_std_downsampled_128Hz_resample.pth'\n",
    "# block_splits_all, block_splits_single, eeg_14_70, eeg_55_95, eeg_5_95, eeg_raw = os.listdir(torch_models_dir)\n",
    "# print(os.listdir(torch_models_dir))"
   ]
  },
  {
   "cell_type": "code",
   "execution_count": 58,
   "id": "bd3ad4ce",
   "metadata": {},
   "outputs": [
    {
     "name": "stdout",
     "output_type": "stream",
     "text": [
      "/media/mountHDD1/LanxHuyen/CVPR2017/eeg_55_95_std.pth \n",
      " /media/mountHDD1/LanxHuyen/CVPR2017/block_splits_by_image_all.pth\n"
     ]
    }
   ],
   "source": [
    "# eeg_dataset = os.path.join(torch_models_dir, eeg_5_95)\n",
    "# splits_all_path = os.path.join(torch_models_dir, block_splits_all)\n",
    "eeg_dataset = eeg_raw\n",
    "eeg_dataset_128 = eeg_128\n",
    "eeg_dataset_re = eeg_128_re\n",
    "splits_all_path = block_splits_all\n",
    "\n",
    "print(eeg_dataset,'\\n', splits_all_path)"
   ]
  },
  {
   "cell_type": "code",
   "execution_count": 59,
   "id": "659d4a6e",
   "metadata": {},
   "outputs": [],
   "source": [
    "splits_all = torch.load(splits_all_path)\n",
    "# splits_single = torch.load(splits_single_path)"
   ]
  },
  {
   "cell_type": "code",
   "execution_count": 60,
   "id": "8f3ef344",
   "metadata": {},
   "outputs": [
    {
     "name": "stdout",
     "output_type": "stream",
     "text": [
      "6\n",
      "3\n",
      "7984\n",
      "1996\n",
      "1985\n",
      "[0, 3, 4, 5, 6, 8, 9, 10, 11, 12, 13, 15, 16, 17, 18, 19, 21, 22, 23, 24, 25, 27, 29, 33, 35, 36, 37, 38, 39, 42, 43, 44, 45, 46, 47, 48, 51, 52, 54, 55]\n",
      "[1, 2, 3, 4, 6, 8, 9, 12, 13, 20, 25, 26, 27, 28, 30, 32, 33, 35, 37, 38, 39, 40, 44, 45, 46, 50, 52, 54, 56, 58, 59, 60, 62, 65, 68, 72, 73, 74, 76, 81]\n",
      "[2, 3, 4, 5, 6, 7, 8, 10, 11, 13]\n",
      "[1, 2, 4, 7, 9, 10, 12, 13, 14, 15]\n"
     ]
    }
   ],
   "source": [
    "print(len(splits_all['splits']))\n",
    "print(len(splits_all['splits'][0]))\n",
    "\n",
    "print(len(splits_all['splits'][5]['train']))\n",
    "print(len(splits_all['splits'][5]['val']))\n",
    "print(len(splits_all['splits'][5]['test']))\n",
    "print(splits_all['splits'][0]['train'][:40])\n",
    "print(splits_all['splits'][1]['train'][:40])\n",
    "print(splits_all['splits'][2]['train'][:10])\n",
    "print(splits_all['splits'][3]['train'][:10])\n"
   ]
  },
  {
   "cell_type": "code",
   "execution_count": 61,
   "id": "ed58c00c",
   "metadata": {},
   "outputs": [],
   "source": [
    "eeg_loaded = torch.load(eeg_dataset)\n",
    "eeg_down = torch.load(eeg_dataset_128)\n",
    "eeg_re = torch.load(eeg_dataset_re)"
   ]
  },
  {
   "cell_type": "code",
   "execution_count": 62,
   "id": "a6ddb6d8-dc5d-4855-b31a-620060bb9c9d",
   "metadata": {},
   "outputs": [],
   "source": [
    "dataset, labels, images = [eeg_loaded[k] for k in eeg_loaded.keys()]\n",
    "dataset1, labels1, images1 = [eeg_down[k] for k in eeg_down.keys()]\n",
    "dataset2, labels2, images2 = [eeg_re[k] for k in eeg_re.keys()]"
   ]
  },
  {
   "cell_type": "code",
   "execution_count": 63,
   "id": "14a32d9d-0172-4912-9e75-f865ffefd76a",
   "metadata": {},
   "outputs": [],
   "source": [
    "import matplotlib.pyplot as plt\n",
    "import numpy as np"
   ]
  },
  {
   "cell_type": "code",
   "execution_count": 64,
   "id": "f0367d1f-0030-404f-b008-3b71535bec99",
   "metadata": {},
   "outputs": [],
   "source": [
    "xnew_128 = np.linspace(0,440,128,endpoint=False)\n",
    "xnew_500 = np.linspace(0,440,440, endpoint = False)"
   ]
  },
  {
   "cell_type": "code",
   "execution_count": 65,
   "id": "22dd623c-1f4a-43b0-b7b7-854e4b7085c5",
   "metadata": {},
   "outputs": [
    {
     "data": {
      "text/plain": [
       "[<matplotlib.lines.Line2D at 0x7f7fc506fa30>]"
      ]
     },
     "execution_count": 65,
     "metadata": {},
     "output_type": "execute_result"
    },
    {
     "data": {
      "image/png": "[encoded data removed]",
      "text/plain": [
       "<Figure size 640x480 with 1 Axes>"
      ]
     },
     "metadata": {},
     "output_type": "display_data"
    }
   ],
   "source": [
    "plt.plot(xnew_500, dataset[0]['eeg'][:,20:460][0])\n",
    "plt.plot(xnew_128, dataset1[0]['eeg'][0])\n",
    "plt.plot(xnew_128, dataset2[0]['eeg'][0])"
   ]
  },
  {
   "cell_type": "code",
   "execution_count": 11,
   "id": "89460bfa",
   "metadata": {},
   "outputs": [],
   "source": [
    "# print(len(eeg_loaded))\n",
    "# print(eeg_loaded.keys())\n",
    "# dataset, labels, images = [eeg_loaded[k] for k in eeg_loaded.keys()]\n",
    "# print(len(labels))\n",
    "# print(len(images))\n",
    "# print(len(dataset))\n",
    "# print(*labels)\n",
    "# print(images[0])\n",
    "# print(dataset[0]['eeg'].shape)\n",
    "# print(dataset[1950])\n",
    "# #Trial 0-1995 - subject 4\n",
    "# #Trial 1996 - 3980 - subject 1\n",
    "# #Trial 3981 - 5976 - subject 6\n",
    "# #Trial 5977 - 7972 - subject 3\n",
    "# #Trial 7973 - 9968 - subject 2\n",
    "# #Trial 9969 - 11964 - subject 5"
   ]
  },
  {
   "cell_type": "code",
   "execution_count": 31,
   "id": "fa874677-c898-4829-b670-7bd84cee3f46",
   "metadata": {},
   "outputs": [
    {
     "ename": "RuntimeError",
     "evalue": "Expected all tensors to be on the same device, but found at least two devices, cuda:0 and cuda:1! (when checking argument for argument tensors in method wrapper_CUDA_cat)",
     "output_type": "error",
     "traceback": [
      "\u001b[0;31m---------------------------------------------------------------------------\u001b[0m",
      "\u001b[0;31mRuntimeError\u001b[0m                              Traceback (most recent call last)",
      "Cell \u001b[0;32mIn[31], line 39\u001b[0m\n\u001b[1;32m     37\u001b[0m \u001b[38;5;66;03m# Stack and resize the wavelet images\u001b[39;00m\n\u001b[1;32m     38\u001b[0m \u001b[38;5;28;01mfor\u001b[39;00m sample \u001b[38;5;129;01min\u001b[39;00m dataset:\n\u001b[0;32m---> 39\u001b[0m     stacked_wavelet_images \u001b[38;5;241m=\u001b[39m \u001b[43mtorch\u001b[49m\u001b[38;5;241;43m.\u001b[39;49m\u001b[43mstack\u001b[49m\u001b[43m(\u001b[49m\u001b[43msample\u001b[49m\u001b[43m[\u001b[49m\u001b[38;5;124;43m'\u001b[39;49m\u001b[38;5;124;43meeg\u001b[39;49m\u001b[38;5;124;43m'\u001b[39;49m\u001b[43m]\u001b[49m\u001b[43m,\u001b[49m\u001b[43m \u001b[49m\u001b[43mdim\u001b[49m\u001b[38;5;241;43m=\u001b[39;49m\u001b[38;5;241;43m0\u001b[39;49m\u001b[43m)\u001b[49m\n\u001b[1;32m     40\u001b[0m     resized_images \u001b[38;5;241m=\u001b[39m F\u001b[38;5;241m.\u001b[39minterpolate(stacked_wavelet_images\u001b[38;5;241m.\u001b[39munsqueeze(\u001b[38;5;241m0\u001b[39m), size\u001b[38;5;241m=\u001b[39moutput_shape, mode\u001b[38;5;241m=\u001b[39m\u001b[38;5;124m'\u001b[39m\u001b[38;5;124mbilinear\u001b[39m\u001b[38;5;124m'\u001b[39m, align_corners\u001b[38;5;241m=\u001b[39m\u001b[38;5;28;01mFalse\u001b[39;00m)\n\u001b[1;32m     41\u001b[0m     sample[\u001b[38;5;124m'\u001b[39m\u001b[38;5;124meeg\u001b[39m\u001b[38;5;124m'\u001b[39m] \u001b[38;5;241m=\u001b[39m resized_images\u001b[38;5;241m.\u001b[39msqueeze(\u001b[38;5;241m0\u001b[39m)\n",
      "\u001b[0;31mRuntimeError\u001b[0m: Expected all tensors to be on the same device, but found at least two devices, cuda:0 and cuda:1! (when checking argument for argument tensors in method wrapper_CUDA_cat)"
     ]
    }
   ],
   "source": [
    "import os\n",
    "import torch\n",
    "import pywt\n",
    "import numpy as np\n",
    "import cv2\n",
    "import torch.nn.functional as F\n",
    "\n",
    "output_directory = '/media/mountHDD1/LanxHuyen/CVPR2017'\n",
    "\n",
    "# Define constants\n",
    "output_shape = (512, 440)  # Resized image shape\n",
    "\n",
    "# Create output directory if it doesn't exist\n",
    "os.makedirs(output_directory, exist_ok=True)\n",
    "\n",
    "# Placeholder for your EEG-ImageNet dataset\n",
    "# Extract EEG data from the dictionary list\n",
    "# eeg_data_list = [sample['eeg'] for sample in new_dataset]\n",
    "\n",
    "# Method 2: Creating wavelet images for each trial\n",
    "def process_method_2(channel_data):\n",
    "    coeffs = pywt.dwt(channel_data.cpu().numpy(), 'haar')  # Convert tensor to numpy array\n",
    "    cA, cD = coeffs\n",
    "    wavelet_image = np.stack([cA, cD], axis=0)  # Stack approximation and detail\n",
    "    wavelet_image_tensor = torch.tensor(wavelet_image, dtype=torch.float32)\n",
    "    return wavelet_image_tensor\n",
    "\n",
    "# Choose available GPUs\n",
    "device_ids = [0, 1]  # List of GPU IDs you want to use\n",
    "\n",
    "# Apply method 2 to each sample in dataset using multiple GPUs\n",
    "for sample in dataset:\n",
    "    eeg_data_gpu = [channel_data.to(device_id) for device_id, channel_data in zip(device_ids, sample['eeg'])]\n",
    "    resized_images = [process_method_2(eeg).to(device_id) for eeg, device_id in zip(eeg_data_gpu, device_ids)]\n",
    "    sample['eeg'] = resized_images\n",
    "\n",
    "# Stack and resize the wavelet images\n",
    "for sample in dataset:\n",
    "    stacked_wavelet_images = torch.stack(sample['eeg'], dim=0)\n",
    "    resized_images = F.interpolate(stacked_wavelet_images.unsqueeze(0), size=output_shape, mode='bilinear', align_corners=False)\n",
    "    sample['eeg'] = resized_images.squeeze(0)\n",
    "\n",
    "# print(output_shape[:2])\n",
    "print(\"Processed Images Shape:\", dataset[0]['eeg'].size())"
   ]
  },
  {
   "cell_type": "code",
   "execution_count": null,
   "id": "461d53c5-8e48-45c3-b6f0-f658c6c5bbd5",
   "metadata": {},
   "outputs": [],
   "source": [
    "import torch\n",
    "import torch.nn.functional as F\n",
    "import cv2\n",
    "output_directory = '/media/mountHDD1/LanxHuyen/CVPR2017'\n",
    "# Define constants\n",
    "# input_shape = (512, 440, 3)  # Original EEG image shape\n",
    "output_shape = (512, 440)  # Resized image shape\n",
    "# Create output directory if it doesn't exist\n",
    "os.makedirs(output_directory, exist_ok=True)\n",
    "# Placeholder for your EEG-ImageNet dataset\n",
    "# Extract EEG data from the dictionary list\n",
    "# eeg_data_list = [sample['eeg'] for sample in new_dataset]\n",
    "\n",
    "# # Convert EEG data list to PyTorch tensors\n",
    "# eeg_tensors = [torch.tensor(data, dtype=torch.float32) for data in eeg_data_list]\n",
    "\n",
    "# Method 1: Creating grayscale heatmaps for each trial\n",
    "def process_method_1(eeg_data):\n",
    "    normalized_data = (eeg_data - eeg_data.min()) / (eeg_data.max() - eeg_data.min())\n",
    "    grayscale_images = (normalized_data * 255).to(torch.uint8)\n",
    "    stacked_images = grayscale_images.unsqueeze(0).repeat(1, 1, 1, 1)  # Stack 3 times along the channel axis\n",
    "    resized_images = F.interpolate(stacked_images, size=output_shape[:2], mode='bilinear', align_corners=False)\n",
    "    return resized_images[0].squeeze(0).float()\n",
    "# Apply method 1 to each tensor in eeg_tensors\n",
    "for sample in dataset:\n",
    "    sample['eeg'] = process_method_1(sample['eeg'])\n",
    "# print(output_shape[:2])\n",
    "print(\"Processed Images Shape:\", dataset[0]['eeg'].size())\n",
    "# # Apply method 1 to each tensor in eeg_tensors\n",
    "# processed_images = [process_method_1(eeg_tensor) for eeg_tensor in eeg_tensors]\n",
    "# # Concatenate processed images along a new dimension\n",
    "# concatenated_images = torch.stack(processed_images)\n",
    "# Save the concatenated tensor as a .pth file\n",
    "# output_filename = os.path.join(output_directory, \"eeg_heatmaps_55_95.pth\")\n",
    "# torch.save(dataset, output_filename)"
   ]
  },
  {
   "cell_type": "code",
   "execution_count": null,
   "id": "eb1c2fed-9322-4314-bea0-10a2f06b510c",
   "metadata": {},
   "outputs": [],
   "source": [
    "print(len(dataset))"
   ]
  },
  {
   "cell_type": "code",
   "execution_count": null,
   "id": "a5e7049e-8491-4dcf-a92a-13843e055635",
   "metadata": {},
   "outputs": [],
   "source": [
    "print(dataset[3])"
   ]
  },
  {
   "cell_type": "code",
   "execution_count": null,
   "id": "463e2836-6ca4-4862-b57b-113117476871",
   "metadata": {},
   "outputs": [],
   "source": [
    "import cv2\n",
    "import os\n",
    "import matplotlib.pyplot as plt\n",
    "# Choose an index for the image you want to visualize\n",
    "image_index = 2  # Change this to the index you want to visualize\n",
    "\n",
    "# Retrieve the processed image tensor from the dataset\n",
    "for image_index in range (5):\n",
    "    processed_image_tensor = dataset[image_index]['eeg']\n",
    "\n",
    "# Convert the processed image tensor to a NumPy array\n",
    "    processed_image_np = processed_image_tensor.cpu().numpy()\n",
    "\n",
    "# Convert the NumPy array to an image in the range [0, 255]\n",
    "# processed_image_np = processed_image_np.transpose(1, 2, 0)  # Channels-last format\n",
    "# processed_image_np = processed_image_np.squeeze()  # Remove singleton dimensions\n",
    "    processed_image_np = processed_image_np.astype('uint8')\n",
    "\n",
    "# Using Matplotlib\n",
    "    plt.imshow(processed_image_np, cmap='gray')  # Display as grayscale\n",
    "    plt.axis('off')\n",
    "    plt.show()\n"
   ]
  },
  {
   "cell_type": "code",
   "execution_count": null,
   "id": "6b00f44b-9497-4cc3-a27b-eeea099e37b6",
   "metadata": {},
   "outputs": [],
   "source": [
    "import matplotlib.pyplot as plt\n",
    "import numpy as np\n",
    "\n",
    "# Assuming you have already processed the images using the process_method_1 function\n",
    "# processed_images = [process_method_1(eeg_tensor) for eeg_tensor in eeg_tensors]\n",
    "\n",
    "# Choose the index of the image you want to plot (e.g., index 0)\n",
    "image_index = 1100\n",
    "\n",
    "# Convert the processed image to a numpy array and transpose dimensions\n",
    "# numpy_image = processed_images[image_index].numpy().transpose(1, 2, 0)\n",
    "numpy_image = processed_images[image_index].numpy()\n",
    "\n",
    "# Plot the processed image\n",
    "plt.imshow(numpy_image, cmap='gray')  # Display as grayscale\n",
    "plt.title(f\"Processed Image {image_index + 1}\")\n",
    "plt.axis('off')\n",
    "plt.show()"
   ]
  },
  {
   "cell_type": "code",
   "execution_count": null,
   "id": "d0622bed-e601-403e-9922-1092184143c9",
   "metadata": {},
   "outputs": [],
   "source": [
    "import numpy as np\n",
    "eeg_length = np.zeros(len(dataset))\n",
    "for i in range(len(dataset)):\n",
    "    eeg_length[i] = list(dataset[i]['eeg'].size())[1]"
   ]
  },
  {
   "cell_type": "code",
   "execution_count": null,
   "id": "705efb3d-d698-45e5-81c8-d229508e0573",
   "metadata": {},
   "outputs": [],
   "source": [
    "sub_length = np.empty(len(dataset))\n",
    "for i in range(len(dataset)):\n",
    "    sub_length[i] = dataset[i]['subject']"
   ]
  },
  {
   "cell_type": "code",
   "execution_count": null,
   "id": "e350273b-bd0f-474b-b6af-d1972259d51c",
   "metadata": {},
   "outputs": [],
   "source": [
    "# print(dataset['eeg'].size())\n",
    "import torch.nn.functional as F\n",
    "desired_size = 500\n",
    "\n",
    "new_dataset = torch.zeros(len(dataset), 128, desired_size)\n",
    "\n",
    "for i in range(len(dataset)):\n",
    "    eeg_data = dataset[i]['eeg']\n",
    "\n",
    "    # Convert the tensor to torch.float32\n",
    "    eeg_data_float = eeg_data.to(torch.float32)\n",
    "\n",
    "    # Resize using linear interpolation\n",
    "    resized_eeg = F.interpolate(eeg_data_float.unsqueeze(0), size=desired_size, mode='linear')\n",
    "\n",
    "    # Convert the resized tensor back to the original data type (if needed)\n",
    "    resized_eeg = resized_eeg.to(eeg_data.dtype)\n",
    "\n",
    "    new_dataset[i, :, :] = resized_eeg.squeeze(0)"
   ]
  },
  {
   "cell_type": "code",
   "execution_count": null,
   "id": "650d2983-8c0d-4a12-ad79-969b98d1ed76",
   "metadata": {},
   "outputs": [],
   "source": [
    "new_dataset.size()"
   ]
  },
  {
   "cell_type": "code",
   "execution_count": null,
   "id": "b009fd9f-ba08-4581-ae9b-938c086c768e",
   "metadata": {},
   "outputs": [],
   "source": [
    "for j in range(1996):\n",
    "    filtered_dataset_4 = new_dataset[j]\n",
    "for k in range(1996,3980):\n",
    "    filtered_dataset_1 = new_dataset[k]\n",
    "for l in range(3981,5976):\n",
    "    filtered_dataset_6 = new_dataset[l]\n",
    "for m in range(5977,7972):\n",
    "    filtered_dataset_3 = new_dataset[m]\n",
    "for n in range(7973,9968):\n",
    "    filtered_dataset_2 = new_dataset[n]\n",
    "for o in range(9969,11964):\n",
    "    filtered_dataset_5 = new_dataset[o]"
   ]
  },
  {
   "cell_type": "code",
   "execution_count": null,
   "id": "63b2abf4-51f5-4dc6-98ad-227fc3b43cb3",
   "metadata": {},
   "outputs": [],
   "source": [
    "print(filtered_dataset_4.size())\n",
    "print(filtered_dataset_1.size())\n",
    "print(filtered_dataset_6.size())\n",
    "print(filtered_dataset_3.size())\n",
    "print(filtered_dataset_2.size())\n",
    "print(filtered_dataset_5.size())"
   ]
  },
  {
   "cell_type": "code",
   "execution_count": null,
   "id": "c4256b0a-5eb5-4452-b4be-8f4b7c012e94",
   "metadata": {},
   "outputs": [],
   "source": [
    "filtered_dataset = torch.stack((filtered_dataset_4,filtered_dataset_1,filtered_dataset_6,filtered_dataset_3,filtered_dataset_2,filtered_dataset_5),dim = 0)"
   ]
  },
  {
   "cell_type": "code",
   "execution_count": null,
   "id": "42477c02-c6f5-44d6-9556-91334be23c77",
   "metadata": {},
   "outputs": [],
   "source": [
    "filtered_dataset.size()"
   ]
  },
  {
   "cell_type": "code",
   "execution_count": null,
   "id": "c0c5e498-f99e-4245-83d6-04ac9d2cff74",
   "metadata": {},
   "outputs": [],
   "source": [
    "print(filtered_dataset)"
   ]
  },
  {
   "cell_type": "code",
   "execution_count": null,
   "id": "9b9f0c3e-342d-42ba-87d3-bf9c35da8972",
   "metadata": {},
   "outputs": [],
   "source": [
    "# for i in range(len(new_dataset)):\n",
    "#     image_index = dataset[i]['image']\n",
    "#     subject_index = dataset[i]['subject']\n",
    "#     filtered_dataset[subject_index-1, :, :] = new_dataset[image_index]"
   ]
  },
  {
   "cell_type": "code",
   "execution_count": null,
   "id": "cfe17546-be01-4652-9af9-47d2f82cf01f",
   "metadata": {},
   "outputs": [],
   "source": [
    "keys = ('eeg', 'images', 'label')\n",
    "for i in range(len(new_dataset)):\n",
    "    value = (filtered_dataset, dataset"
   ]
  },
  {
   "cell_type": "code",
   "execution_count": null,
   "id": "bb6ddbd4-df0d-4941-b3fb-6cdd7191e60e",
   "metadata": {},
   "outputs": [],
   "source": [
    "# for i in range(len(dataset)):\n",
    "#     # Normalize each component using mean and stddev\n",
    "#    new_dataset[i, :, :] = (new_dataset[i, :, :] - means) / stddevs"
   ]
  },
  {
   "cell_type": "code",
   "execution_count": null,
   "id": "bc92fafe-e82a-4827-8a57-4a3905888615",
   "metadata": {},
   "outputs": [],
   "source": [
    "# print(new_dataset.size())\n",
    "# print(new_dataset[0])\n",
    "\n",
    "# import matplotlib.pyplot as plt\n",
    "# plt.plot(new_dataset[0][0])"
   ]
  },
  {
   "cell_type": "code",
   "execution_count": null,
   "id": "0ce51342-58ba-4b1f-abf0-3b1f7a03b6f6",
   "metadata": {},
   "outputs": [],
   "source": [
    "heatmap_image = filtered_dataset"
   ]
  },
  {
   "cell_type": "code",
   "execution_count": null,
   "id": "a206fe67-0e8c-4c0e-9736-9e7c14170d7e",
   "metadata": {},
   "outputs": [],
   "source": [
    "heatmap_image.size()"
   ]
  },
  {
   "cell_type": "code",
   "execution_count": null,
   "id": "58b42a42-ddb9-4b10-9b0a-cf806c1e4385",
   "metadata": {},
   "outputs": [],
   "source": [
    "# Normalize the heatmap image to [0, 255]\n",
    "heatmap_image_normalized = ((heatmap_image - heatmap_image.min()) /\n",
    "                            (heatmap_image.max() - heatmap_image.min()) * 255).byte()"
   ]
  },
  {
   "cell_type": "code",
   "execution_count": null,
   "id": "b43f4c49-a079-4a26-aff1-9eef91cd9a1d",
   "metadata": {},
   "outputs": [],
   "source": [
    "# Convert the tensor to a NumPy array for plotting\n",
    "heatmap_image_np = heatmap_image_normalized.numpy()\n",
    "\n",
    "# Display the heatmap image\n",
    "plt.imshow(heatmap_image_np, cmap='gray')\n",
    "plt.title(\"EEG Grayscale Heatmap Image\")\n",
    "plt.colorbar()\n",
    "plt.show()"
   ]
  },
  {
   "cell_type": "code",
   "execution_count": null,
   "id": "9edabc6c-65bb-4df7-948c-43498f1facc1",
   "metadata": {},
   "outputs": [],
   "source": [
    "print(heatmap_image_np)\n",
    "print(heatmap_image_np.shape)"
   ]
  },
  {
   "cell_type": "code",
   "execution_count": null,
   "id": "eba1ceab-c031-454b-aebf-828e4e6da59f",
   "metadata": {},
   "outputs": [],
   "source": [
    "for i in range(len(dataset)):\n",
    "    dataset[i]['eeg'] = new_dataset[i]"
   ]
  },
  {
   "cell_type": "code",
   "execution_count": null,
   "id": "8bc8c2eb-dbd3-4339-b997-ca31448896dc",
   "metadata": {},
   "outputs": [],
   "source": [
    "print(dataset[2])"
   ]
  },
  {
   "cell_type": "code",
   "execution_count": null,
   "id": "d20c958c",
   "metadata": {},
   "outputs": [],
   "source": [
    "opt = {\n",
    "    # Dataset options\n",
    "#     \"iv\": \"image\",\n",
    "#     \"offset\": None,\n",
    "    \"results_file\": \"results.pkl\",\n",
    "    \"subject\": 0,\n",
    "    \"time_low\": 20,\n",
    "    \"time_high\": 460,\n",
    "#     \"run\": \"none\",\n",
    "    \"eeg_dataset\": eeg_dataset,\n",
    "    \"model_type\": \"model10\",\n",
    "    \"splits_path\": splits_all_path,\n",
    "    \"split_num\": 0,\n",
    "    \"split_name\": \"train\",\n",
    "#     \"fold\": 5,\n",
    "    #Training options\n",
    "    \"batch_size\": 16,\n",
    "    \"optim\": \"Adam\",\n",
    "    \"learning_rate\": 0.001,\n",
    "    \"learning_rate_decay_by\": 0.5,\n",
    "    \"learning_rate_decay_every\": 10,\n",
    "    \"epochs\": 100,\n",
    "    \"GPUindex\": 0,\n",
    "    \"kind\":\"from-scratch\",\n",
    "    #Backend options\n",
    "    \"no_cuda\": False,\n",
    "    \"classifier\": None\n",
    "}\n",
    "opt = argparse.Namespace(**opt)\n",
    "print(opt)"
   ]
  },
  {
   "cell_type": "code",
   "execution_count": null,
   "id": "ce8d6e2b",
   "metadata": {},
   "outputs": [],
   "source": [
    "%load_ext autoreload\n",
    "%autoreload 2\n",
    "from torch.utils.data import DataLoader\n",
    "# from data_loader import EEGDataset, Splitter, SplitterWithData\n",
    "from data_loader_CVPR2017 import EEGDataset, Splitter\n",
    "from EEG_Encoder.LSTM import classifier_LSTM\n",
    "from EEG_Encoder.CNN import classifier_CNN\n",
    "from EEG_Encoder.EEGNet import classifier_EEGNet\n",
    "from EEG_Encoder.SyncNet import classifier_SyncNet\n",
    "from EEG_Encoder.EEGChannelNet import classifier_EEGChannelNet\n",
    "from EEG_Encoder.net_generator import Classifier\n",
    "from EEG_Encoder.net_trainer import net_trainer\n",
    "from p_values import *\n",
    "from torchinfo import summary"
   ]
  },
  {
   "cell_type": "code",
   "execution_count": null,
   "id": "0a5b475c",
   "metadata": {},
   "outputs": [],
   "source": [
    "def load_dataset(\n",
    "#              offset,\n",
    "             eeg_dataset,\n",
    "             splits_path,\n",
    "             split_num, # (0-5) - 6 fold cross validation\n",
    "#              total, \n",
    "#              classes,\n",
    "#              classifier,\n",
    "             batch_size,\n",
    "#              GPUindex,\n",
    "#              length, # 500\n",
    "#              channel, # 128\n",
    "#              min_CNN,\n",
    "             opt,\n",
    "             kind=\"from-scratch\"):        \n",
    "    # Load dataset\n",
    "    dataset = EEGDataset(opt, eeg_dataset)\n",
    "    print(\"DONE: LOAD DATASET\")\n",
    "#     # Create loaders for LSTM/MLP/CNN/SCNN/EEGNet/SyncNet/EEGChannelNet\n",
    "#     if kind==\"from-scratch\":\n",
    "#         relabel = False\n",
    "#     if kind==\"incremental\":\n",
    "#         relabel = False\n",
    "#     if kind==\"no-model-file\":\n",
    "#         relabel = True\n",
    "    splitter = {split: Splitter(dataset,\n",
    "                    splits_path,\n",
    "                    split_num,\n",
    "                    split_name=split) for split in [\"train\", \"val\", \"test\"]}\n",
    "    loaders = {split: DataLoader(\n",
    "                        splitter[split],\n",
    "                        batch_size = batch_size,\n",
    "                        drop_last = False,\n",
    "                        shuffle = True)\n",
    "                    for split in [\"train\", \"val\", \"test\"]}\n",
    "    channel_idx = None    \n",
    "    print(\"DONE: Create loaders for model\")            \n",
    "    return dataset, loaders, splitter"
   ]
  },
  {
   "cell_type": "code",
   "execution_count": null,
   "id": "a242cae5",
   "metadata": {},
   "outputs": [],
   "source": [
    "# Options\n",
    "opt.classifier = \"LSTM4\"\n",
    "opt.batch_size = 16\n",
    "# opt.kind = \"from-scratch\"\n",
    "# opt.run = \"imagenet40-1000\"\n",
    "# opt.fold = 5"
   ]
  },
  {
   "cell_type": "code",
   "execution_count": null,
   "id": "633488a6",
   "metadata": {},
   "outputs": [],
   "source": [
    "dataset, loaders, splitter = load_dataset(\n",
    "#              offset,\n",
    "             opt.eeg_dataset,\n",
    "             opt.splits_path,\n",
    "             opt.split_num, # (0-5) - 6 fold cross validation\n",
    "#              total, \n",
    "#              classes,\n",
    "#              classifier,\n",
    "             opt.batch_size,\n",
    "#              GPUindex,\n",
    "#              length, # 500\n",
    "#              channel, # 128\n",
    "#              min_CNN,\n",
    "             opt,\n",
    "             opt.kind)"
   ]
  },
  {
   "cell_type": "code",
   "execution_count": null,
   "id": "e99fc973",
   "metadata": {
    "scrolled": true
   },
   "outputs": [],
   "source": [
    "# loaders: divide the splits data in each fold with batch_size\n",
    "# Each fold has {train: 8000 idx, val: 2000 idx, test: 2000 idx}\n",
    "# Each loader batch has {train: 2000 idx, val: 250 idx, test: 250 idx}\n",
    "print(type(dataset))\n",
    "print(type(loaders))\n",
    "print(len(loaders), [len(loaders[name]) for name in [\"train\", \"val\", \"test\"] ])\n",
    "# for i, (input, target) in enumerate(loaders[\"train\"]):\n",
    "#     if i<20:\n",
    "#         print(f\"{i+1}: Target size: {target.size()}; input size: {input.size()}\")\n",
    "for i in range(0, 40):\n",
    "    eeg, label_val = splitter[\"val\"][i]\n",
    "    eeg, label_train = splitter[\"train\"][i]\n",
    "    print(f\"{i+1}: Label val: {label_val}; label train: {label_train}\")\n"
   ]
  },
  {
   "cell_type": "code",
   "execution_count": null,
   "id": "39a07cc7",
   "metadata": {},
   "outputs": [],
   "source": [
    "net, nonclasses = Classifier(\n",
    "                 n_classes,\n",
    "                 classes,\n",
    "                 opt.classifier,\n",
    "                 opt.GPUindex,\n",
    "                 length,\n",
    "                 channel,\n",
    "                 min_CNN,\n",
    "                 opt.kind)\n",
    "# print(len(nonclasses))\n",
    "summary(net, input_size=(1,128, 440))"
   ]
  },
  {
   "cell_type": "code",
   "execution_count": null,
   "id": "8a8d6995",
   "metadata": {},
   "outputs": [],
   "source": [
    "model_path = (   \"CVPR2017-\" +\n",
    "                  opt.classifier+\n",
    "                  \"-\"+\n",
    "                  str(length)+\n",
    "                  \"-\"+\n",
    "                  str(channel)+\n",
    "                  \"-\"+\n",
    "                  'Retest' )\n",
    "print(model_path)"
   ]
  },
  {
   "cell_type": "code",
   "execution_count": null,
   "id": "4b753db4",
   "metadata": {},
   "outputs": [],
   "source": [
    "print(opt)"
   ]
  },
  {
   "cell_type": "code",
   "execution_count": null,
   "id": "5334cb84",
   "metadata": {},
   "outputs": [],
   "source": [
    "channel_idx=None\n",
    "non_classes=None\n",
    "if opt.kind==\"from-scratch\":\n",
    "    results = net_trainer(\n",
    "            net,\n",
    "            loaders,\n",
    "            opt,\n",
    "            channel_idx,\n",
    "            nonclasses,\n",
    "            None,\n",
    "            True,\n",
    "            model_path,\n",
    "            print_every_train = 100,\n",
    "            print_every_val = 125)"
   ]
  },
  {
   "cell_type": "code",
   "execution_count": null,
   "id": "c0199dcf",
   "metadata": {},
   "outputs": [],
   "source": [
    "# val = results[\"val_acc\"]\n",
    "# # test = results[\"test_acc\"]\n",
    "\n",
    "# print(\"Validation accuracy: \", val)\n",
    "# # print(\"Test accuracy: \", test)"
   ]
  },
  {
   "cell_type": "code",
   "execution_count": null,
   "id": "0c56b086",
   "metadata": {},
   "outputs": [],
   "source": [
    "print(accuracy_val)"
   ]
  },
  {
   "cell_type": "code",
   "execution_count": null,
   "id": "913f370e",
   "metadata": {},
   "outputs": [],
   "source": []
  },
  {
   "cell_type": "code",
   "execution_count": null,
   "id": "4a9a7d31",
   "metadata": {},
   "outputs": [],
   "source": []
  },
  {
   "cell_type": "code",
   "execution_count": null,
   "id": "e2334ae6",
   "metadata": {},
   "outputs": [],
   "source": []
  },
  {
   "cell_type": "code",
   "execution_count": null,
   "id": "47b77fc8",
   "metadata": {},
   "outputs": [],
   "source": []
  },
  {
   "cell_type": "code",
   "execution_count": null,
   "id": "3080e706",
   "metadata": {},
   "outputs": [],
   "source": []
  },
  {
   "cell_type": "code",
   "execution_count": null,
   "id": "17823cb7",
   "metadata": {},
   "outputs": [],
   "source": []
  },
  {
   "cell_type": "code",
   "execution_count": null,
   "id": "ad8b650c",
   "metadata": {},
   "outputs": [],
   "source": []
  },
  {
   "cell_type": "code",
   "execution_count": null,
   "id": "2fdb911b",
   "metadata": {},
   "outputs": [],
   "source": []
  },
  {
   "cell_type": "code",
   "execution_count": null,
   "id": "09b43930",
   "metadata": {},
   "outputs": [],
   "source": []
  },
  {
   "cell_type": "code",
   "execution_count": null,
   "id": "28237288",
   "metadata": {},
   "outputs": [],
   "source": []
  },
  {
   "cell_type": "code",
   "execution_count": null,
   "id": "48ded073",
   "metadata": {},
   "outputs": [],
   "source": []
  },
  {
   "cell_type": "code",
   "execution_count": null,
   "id": "7dfcbdda",
   "metadata": {},
   "outputs": [],
   "source": []
  },
  {
   "cell_type": "code",
   "execution_count": null,
   "id": "2f1fb11a",
   "metadata": {},
   "outputs": [],
   "source": []
  },
  {
   "cell_type": "code",
   "execution_count": null,
   "id": "b5b75470",
   "metadata": {},
   "outputs": [],
   "source": []
  },
  {
   "cell_type": "code",
   "execution_count": null,
   "id": "c8939417",
   "metadata": {},
   "outputs": [],
   "source": []
  },
  {
   "cell_type": "code",
   "execution_count": null,
   "id": "42a5c258",
   "metadata": {},
   "outputs": [],
   "source": []
  },
  {
   "cell_type": "code",
   "execution_count": null,
   "id": "56e7de01",
   "metadata": {},
   "outputs": [],
   "source": []
  },
  {
   "cell_type": "code",
   "execution_count": null,
   "id": "597563e3",
   "metadata": {},
   "outputs": [],
   "source": []
  },
  {
   "cell_type": "code",
   "execution_count": null,
   "id": "b1d74a8d",
   "metadata": {},
   "outputs": [],
   "source": []
  },
  {
   "cell_type": "code",
   "execution_count": null,
   "id": "4db30ed4",
   "metadata": {},
   "outputs": [],
   "source": []
  },
  {
   "cell_type": "code",
   "execution_count": null,
   "id": "ab1544e3",
   "metadata": {},
   "outputs": [],
   "source": []
  }
 ],
 "metadata": {
  "kernelspec": {
   "display_name": "Python 3 (ipykernel)",
   "language": "python",
   "name": "python3"
  },
  "language_info": {
   "codemirror_mode": {
    "name": "ipython",
    "version": 3
   },
   "file_extension": ".py",
   "mimetype": "text/x-python",
   "name": "python",
   "nbconvert_exporter": "python",
   "pygments_lexer": "ipython3",
   "version": "3.10.7"
  }
 },
 "nbformat": 4,
 "nbformat_minor": 5
}
