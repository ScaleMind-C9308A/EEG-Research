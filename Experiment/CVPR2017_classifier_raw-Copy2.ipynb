{
 "cells": [
  {
   "cell_type": "code",
   "execution_count": 1,
   "id": "ea7f6401",
   "metadata": {},
   "outputs": [],
   "source": [
    "import os\n",
    "import random\n",
    "import torch\n",
    "import numpy as np\n",
    "import pickle as pkl\n",
    "from analysis import *\n",
    "import argparse\n",
    "from sys import platform\n",
    "# %load_ext autoreload\n",
    "# %autoreload 2"
   ]
  },
  {
   "cell_type": "code",
   "execution_count": 2,
   "id": "c192d33d",
   "metadata": {},
   "outputs": [],
   "source": [
    "torch.manual_seed(12)\n",
    "torch.cuda.manual_seed(12)\n",
    "np.random.seed(12)\n",
    "torch.backends.cudnn.deterministics = True\n",
    "torch.set_num_threads(1)"
   ]
  },
  {
   "cell_type": "code",
   "execution_count": 3,
   "id": "daf1a8a1",
   "metadata": {},
   "outputs": [
    {
     "name": "stdout",
     "output_type": "stream",
     "text": [
      "True\n",
      "2\n",
      "0\n",
      "<torch.cuda.device object at 0x7f18f6522350>\n",
      "NVIDIA GeForce RTX 3090\n"
     ]
    }
   ],
   "source": [
    "print(torch.cuda.is_available())\n",
    "print(torch.cuda.device_count())\n",
    "print(torch.cuda.current_device())\n",
    "\n",
    "\n",
    "print(torch.cuda.device(0))\n",
    "print(torch.cuda.get_device_name(0))"
   ]
  },
  {
   "cell_type": "code",
   "execution_count": 4,
   "id": "ff733115",
   "metadata": {},
   "outputs": [],
   "source": [
    "# iv: image option\n",
    "length = 440\n",
    "channel = 128\n",
    "min_CNN = 200\n",
    "n_classes = 40\n",
    "classes = range(n_classes)\n"
   ]
  },
  {
   "cell_type": "code",
   "execution_count": 5,
   "id": "3b68db2d",
   "metadata": {},
   "outputs": [],
   "source": [
    "if platform == \"linux\" or platform == \"linux2\":\n",
    "    torch_models_dir = r\"/media/mountHDD1/LanxHuyen/CVPR2017\"\n",
    "elif platform == \"win32\":\n",
    "    torch_models_dir = r\"D:\\Data\\CVPR2021-02785\\CVPR2021-02785\\preprocessed\\torch_models\"\n",
    "block_splits_all = '/media/mountHDD1/LanxHuyen/CVPR2017/block_splits_by_image_all.pth' \n",
    "eeg_raw = '/media/mountHDD1/LanxHuyen/CVPR2017/eeg_5_95_std.pth'\n",
    "# block_splits_all, block_splits_single, eeg_14_70, eeg_55_95, eeg_5_95, eeg_raw = os.listdir(torch_models_dir)\n",
    "# print(os.listdir(torch_models_dir))"
   ]
  },
  {
   "cell_type": "code",
   "execution_count": 6,
   "id": "bd3ad4ce",
   "metadata": {},
   "outputs": [
    {
     "name": "stdout",
     "output_type": "stream",
     "text": [
      "/media/mountHDD1/LanxHuyen/CVPR2017/eeg_5_95_std.pth \n",
      " /media/mountHDD1/LanxHuyen/CVPR2017/block_splits_by_image_all.pth\n"
     ]
    }
   ],
   "source": [
    "# eeg_dataset = os.path.join(torch_models_dir, eeg_5_95)\n",
    "# splits_all_path = os.path.join(torch_models_dir, block_splits_all)\n",
    "eeg_dataset = eeg_raw\n",
    "splits_all_path = block_splits_all\n",
    "\n",
    "print(eeg_dataset,'\\n', splits_all_path)"
   ]
  },
  {
   "cell_type": "code",
   "execution_count": 7,
   "id": "659d4a6e",
   "metadata": {},
   "outputs": [],
   "source": [
    "splits_all = torch.load(splits_all_path)\n",
    "# splits_single = torch.load(splits_single_path)"
   ]
  },
  {
   "cell_type": "code",
   "execution_count": 8,
   "id": "8f3ef344",
   "metadata": {},
   "outputs": [
    {
     "name": "stdout",
     "output_type": "stream",
     "text": [
      "6\n",
      "3\n",
      "7984\n",
      "1996\n",
      "1985\n",
      "[0, 3, 4, 5, 6, 8, 9, 10, 11, 12, 13, 15, 16, 17, 18, 19, 21, 22, 23, 24, 25, 27, 29, 33, 35, 36, 37, 38, 39, 42, 43, 44, 45, 46, 47, 48, 51, 52, 54, 55]\n",
      "[1, 2, 3, 4, 6, 8, 9, 12, 13, 20, 25, 26, 27, 28, 30, 32, 33, 35, 37, 38, 39, 40, 44, 45, 46, 50, 52, 54, 56, 58, 59, 60, 62, 65, 68, 72, 73, 74, 76, 81]\n",
      "[2, 3, 4, 5, 6, 7, 8, 10, 11, 13]\n",
      "[1, 2, 4, 7, 9, 10, 12, 13, 14, 15]\n"
     ]
    }
   ],
   "source": [
    "print(len(splits_all['splits']))\n",
    "print(len(splits_all['splits'][0]))\n",
    "\n",
    "print(len(splits_all['splits'][5]['train']))\n",
    "print(len(splits_all['splits'][5]['val']))\n",
    "print(len(splits_all['splits'][5]['test']))\n",
    "print(splits_all['splits'][0]['train'][:40])\n",
    "print(splits_all['splits'][1]['train'][:40])\n",
    "print(splits_all['splits'][2]['train'][:10])\n",
    "print(splits_all['splits'][3]['train'][:10])\n"
   ]
  },
  {
   "cell_type": "code",
   "execution_count": 9,
   "id": "ed58c00c",
   "metadata": {},
   "outputs": [],
   "source": [
    "eeg_loaded = torch.load(eeg_dataset)"
   ]
  },
  {
   "cell_type": "code",
   "execution_count": 10,
   "id": "89460bfa",
   "metadata": {},
   "outputs": [
    {
     "name": "stdout",
     "output_type": "stream",
     "text": [
      "3\n",
      "dict_keys(['dataset', 'labels', 'images'])\n",
      "40\n",
      "1996\n",
      "11965\n",
      "n02389026 n03888257 n03584829 n02607072 n03297495 n03063599 n03792782 n04086273 n02510455 n11939491 n02951358 n02281787 n02106662 n04120489 n03590841 n02992529 n03445777 n03180011 n02906734 n07873807 n03773504 n02492035 n03982430 n03709823 n03100240 n03376595 n03877472 n03775071 n03272010 n04069434 n03452741 n03792972 n07753592 n13054560 n03197337 n02504458 n02690373 n03272562 n04044716 n02124075\n",
      "n02951358_31190\n",
      "torch.Size([128, 500])\n",
      "{'eeg': tensor([[ 0.0144, -0.0790, -0.1815,  ..., -0.0770, -0.0619, -0.0257],\n",
      "        [ 0.0182, -0.0712, -0.1688,  ..., -0.0241, -0.0334, -0.0179],\n",
      "        [-0.0080, -0.0906, -0.1497,  ..., -0.1995, -0.0860,  0.0092],\n",
      "        ...,\n",
      "        [ 0.0033, -0.1479, -0.2861,  ...,  0.0940,  0.0406, -0.0049],\n",
      "        [-0.0047, -0.0076, -0.0117,  ..., -0.0048, -0.0059, -0.0056],\n",
      "        [ 0.0031, -0.0257, -0.0693,  ..., -0.0478, -0.0398, -0.0109]]), 'image': 1950, 'label': 16, 'subject': 4}\n"
     ]
    }
   ],
   "source": [
    "print(len(eeg_loaded))\n",
    "print(eeg_loaded.keys())\n",
    "dataset, labels, images = [eeg_loaded[k] for k in eeg_loaded.keys()]\n",
    "print(len(labels))\n",
    "print(len(images))\n",
    "print(len(dataset))\n",
    "print(*labels)\n",
    "print(images[0])\n",
    "print(dataset[0]['eeg'].shape)\n",
    "print(dataset[1950])\n",
    "#Trial 0-1995 - subject 4\n",
    "#Trial 1996 - 3980 - subject 1\n",
    "#Trial 3981 - 5976 - subject 6\n",
    "#Trial 5977 - 7972 - subject 3\n",
    "#Trial 7973 - 9968 - subject 2\n",
    "#Trial 9969 - 11964 - subject 5"
   ]
  },
  {
   "cell_type": "code",
   "execution_count": 11,
   "id": "4b69b6b1-f77f-4c77-a1ac-7ef198f95ade",
   "metadata": {},
   "outputs": [],
   "source": [
    "def generate_noise(signal_length, noise_level=0.1):\n",
    "    noise = np.random.normal(0, noise_level, signal_length)\n",
    "    return noise\n",
    "\n",
    "# Define a function to augment an EEG sample\n",
    "def augment_eeg(eeg_data, noise_level=0.1):\n",
    "    noise_shape = eeg_data.shape  # Get the shape of the EEG data\n",
    "    augmented_eeg = eeg_data + generate_noise(noise_shape, noise_level)\n",
    "    return augmented_eeg\n",
    "# Parameters for data augmentation\n",
    "num_augmentations = 2  # Number of augmentations to create\n",
    "noise_level = 0.1  # Adjust this based on your dataset\n",
    "\n",
    "# Create a new dataset to store augmented data\n",
    "augmented_dataset = []\n",
    "\n",
    "# Iterate through the original dataset\n",
    "for sample in dataset:\n",
    "    augmented_samples = []\n",
    "    \n",
    "    # Original sample\n",
    "    original_eeg = sample['eeg']\n",
    "    image = sample['image']\n",
    "    label = sample['label']\n",
    "    subject = sample['subject']\n",
    "    augmented_samples.append(original_eeg)\n",
    "    \n",
    "    # Apply data augmentation multiple times\n",
    "    for _ in range(num_augmentations):\n",
    "        augmented_eeg = augment_eeg(original_eeg, noise_level)\n",
    "        augmented_samples.append(augmented_eeg)\n",
    "    \n",
    "    # Add all augmented samples to the new dataset\n",
    "    for augmented_sample in augmented_samples:\n",
    "        augmented_data_point = {\n",
    "            'eeg': augmented_sample,\n",
    "            'image': image,\n",
    "            'label': label,\n",
    "            'subject': subject\n",
    "            # Other relevant fields if any\n",
    "        }\n",
    "        augmented_dataset.append(augmented_data_point)"
   ]
  },
  {
   "cell_type": "code",
   "execution_count": 12,
   "id": "322aa2ac-75d1-4def-8d50-7f3d92a4ed06",
   "metadata": {},
   "outputs": [
    {
     "name": "stdout",
     "output_type": "stream",
     "text": [
      "35895\n"
     ]
    }
   ],
   "source": [
    "print(len(augmented_dataset))"
   ]
  },
  {
   "cell_type": "code",
   "execution_count": 13,
   "id": "39a5c454-9991-4659-9bac-da416b60b0e3",
   "metadata": {},
   "outputs": [
    {
     "name": "stdout",
     "output_type": "stream",
     "text": [
      "{'eeg': tensor([[-0.0098,  0.0195,  0.0620,  ...,  0.0638,  0.0120, -0.0118],\n",
      "        [-0.0045,  0.1303,  0.2673,  ...,  0.0894,  0.0342, -0.0082],\n",
      "        [ 0.0215, -0.2017, -0.4305,  ..., -0.2022, -0.0940,  0.0188],\n",
      "        ...,\n",
      "        [ 0.0160,  0.0707,  0.1005,  ...,  0.2066,  0.1156,  0.0036],\n",
      "        [-0.0046, -0.0084, -0.0119,  ...,  0.0007, -0.0026, -0.0053],\n",
      "        [ 0.0040,  0.0419,  0.0665,  ...,  0.0765,  0.0309, -0.0063]]), 'image': 0, 'label': 10, 'subject': 4}\n"
     ]
    }
   ],
   "source": [
    "print(augmented_dataset[0])"
   ]
  },
  {
   "cell_type": "code",
   "execution_count": 14,
   "id": "dc1ad194-c866-4324-b846-e5bf859d071d",
   "metadata": {},
   "outputs": [
    {
     "name": "stdout",
     "output_type": "stream",
     "text": [
      "{'eeg': tensor([[ 0.0375, -0.0487,  0.0862,  ...,  0.2022,  0.0043, -0.1030],\n",
      "        [-0.0760, -0.0158,  0.4077,  ...,  0.1752,  0.1341, -0.1306],\n",
      "        [ 0.2104, -0.0283, -0.4335,  ..., -0.0905, -0.0174, -0.1627],\n",
      "        ...,\n",
      "        [-0.0122, -0.0930, -0.0097,  ...,  0.0919,  0.0581,  0.0293],\n",
      "        [-0.0473, -0.0280,  0.0347,  ..., -0.0084,  0.1699, -0.1054],\n",
      "        [-0.0310, -0.0617,  0.0212,  ..., -0.0503,  0.0347, -0.0970]],\n",
      "       dtype=torch.float64), 'image': 0, 'label': 10, 'subject': 4}\n"
     ]
    }
   ],
   "source": [
    "print(augmented_dataset[1])"
   ]
  },
  {
   "cell_type": "code",
   "execution_count": 15,
   "id": "ec4e30fe-bde7-41a5-b8ab-83066b2821f7",
   "metadata": {},
   "outputs": [
    {
     "name": "stdout",
     "output_type": "stream",
     "text": [
      "{'eeg': tensor([[-0.0242, -0.2267,  0.0638,  ...,  0.1010,  0.0857, -0.0638],\n",
      "        [-0.0426,  0.1122,  0.1977,  ..., -0.0046,  0.1610,  0.0938],\n",
      "        [-0.0244, -0.2329, -0.3111,  ..., -0.2177, -0.0396,  0.0882],\n",
      "        ...,\n",
      "        [ 0.0321, -0.1054,  0.3396,  ...,  0.3829,  0.2728,  0.0427],\n",
      "        [-0.0667, -0.0399,  0.0166,  ..., -0.0665, -0.0746,  0.0511],\n",
      "        [ 0.1039,  0.0327,  0.0544,  ..., -0.1157,  0.1764, -0.1368]],\n",
      "       dtype=torch.float64), 'image': 0, 'label': 10, 'subject': 4}\n"
     ]
    }
   ],
   "source": [
    "print(augmented_dataset[2])"
   ]
  },
  {
   "cell_type": "code",
   "execution_count": 16,
   "id": "35cb3764-3493-44d9-b36f-e7e2e1b05730",
   "metadata": {},
   "outputs": [
    {
     "name": "stdout",
     "output_type": "stream",
     "text": [
      "torch.Size([128, 511])\n"
     ]
    }
   ],
   "source": [
    "print(augmented_dataset[4]['eeg'].shape)"
   ]
  },
  {
   "cell_type": "code",
   "execution_count": 17,
   "id": "09047ac3-4ca9-4558-a498-3ce5cae959f4",
   "metadata": {},
   "outputs": [],
   "source": [
    "import matplotlib.pyplot as plt"
   ]
  },
  {
   "cell_type": "code",
   "execution_count": 18,
   "id": "5b5ba0ba-7427-46a5-a627-73e37834552b",
   "metadata": {},
   "outputs": [
    {
     "data": {
      "text/plain": [
       "[<matplotlib.lines.Line2D at 0x7f18ee5b5ed0>]"
      ]
     },
     "execution_count": 18,
     "metadata": {},
     "output_type": "execute_result"
    },
    {
     "data": {
      "image/png": "[encoded data removed]",
      "text/plain": [
       "<Figure size 640x480 with 1 Axes>"
      ]
     },
     "metadata": {},
     "output_type": "display_data"
    }
   ],
   "source": [
    "plt.plot(augmented_dataset[0]['eeg'][0])"
   ]
  },
  {
   "cell_type": "code",
   "execution_count": 19,
   "id": "ccb7d359-4f6a-4d1c-b0c9-58a50ef18089",
   "metadata": {},
   "outputs": [
    {
     "data": {
      "text/plain": [
       "[<matplotlib.lines.Line2D at 0x7f18ee6e09a0>]"
      ]
     },
     "execution_count": 19,
     "metadata": {},
     "output_type": "execute_result"
    },
    {
     "data": {
      "image/png": "[encoded data removed]",
      "text/plain": [
       "<Figure size 640x480 with 1 Axes>"
      ]
     },
     "metadata": {},
     "output_type": "display_data"
    }
   ],
   "source": [
    "plt.plot(augmented_dataset[1]['eeg'][0])"
   ]
  },
  {
   "cell_type": "code",
   "execution_count": 20,
   "id": "c53f5ed7-faec-4a37-814b-3c83204db24d",
   "metadata": {},
   "outputs": [
    {
     "data": {
      "text/plain": [
       "[<matplotlib.lines.Line2D at 0x7f18ee624b50>]"
      ]
     },
     "execution_count": 20,
     "metadata": {},
     "output_type": "execute_result"
    },
    {
     "data": {
      "image/png": "[encoded data removed]",
      "text/plain": [
       "<Figure size 640x480 with 1 Axes>"
      ]
     },
     "metadata": {},
     "output_type": "display_data"
    }
   ],
   "source": [
    "plt.plot(augmented_dataset[2]['eeg'][0])"
   ]
  },
  {
   "cell_type": "code",
   "execution_count": null,
   "id": "461d53c5-8e48-45c3-b6f0-f658c6c5bbd5",
   "metadata": {},
   "outputs": [],
   "source": [
    "import torch\n",
    "import torch.nn.functional as F\n",
    "import cv2\n",
    "import os\n",
    "\n",
    "# Check if GPU is available, and if not, fall back to CPU\n",
    "device = torch.device(\"cuda:1\" if torch.cuda.is_available() else \"cpu\")\n",
    "\n",
    "output_directory = '/media/mountHDD1/LanxHuyen/CVPR2017'\n",
    "\n",
    "# Define constants\n",
    "output_shape = (512, 440)  # Resized image shape\n",
    "\n",
    "# Create output directory if it doesn't exist\n",
    "os.makedirs(output_directory, exist_ok=True)\n",
    "\n",
    "# Method 1: Creating grayscale heatmaps for each trial\n",
    "def process_method_1(eeg_data):\n",
    "    normalized_data = (eeg_data - eeg_data.min()) / (eeg_data.max() - eeg_data.min())\n",
    "    grayscale_images = (normalized_data * 255).to(torch.uint8)\n",
    "    stacked_images = grayscale_images.unsqueeze(0).repeat(1, 1, 1, 1)  # Stack 3 times along the channel axis\n",
    "    resized_images = F.interpolate(stacked_images, size=output_shape[:2], mode='bilinear', align_corners=False)\n",
    "    return resized_images[0].squeeze(0).float()\n",
    "\n",
    "# Move the model and data to the GPU if available\n",
    "for sample in augmented_dataset:\n",
    "    sample['eeg'] = process_method_1(sample['eeg'])\n",
    "\n",
    "print(\"Processed Images Shape:\", augmented_dataset[0]['eeg'].size())\n",
    "# # Apply method 1 to each tensor in eeg_tensors\n",
    "# processed_images = [process_method_1(eeg_tensor) for eeg_tensor in eeg_tensors]\n",
    "# # Concatenate processed images along a new dimension\n",
    "# concatenated_images = torch.stack(processed_images)\n",
    "# Save the concatenated tensor as a .pth file\n",
    "# output_filename = os.path.join(output_directory, \"eeg_heatmaps_55_95.pth\")\n",
    "# torch.save(dataset, output_filename)"
   ]
  },
  {
   "cell_type": "code",
   "execution_count": null,
   "id": "eb1c2fed-9322-4314-bea0-10a2f06b510c",
   "metadata": {},
   "outputs": [],
   "source": [
    "print(len(dataset))"
   ]
  },
  {
   "cell_type": "code",
   "execution_count": null,
   "id": "a5e7049e-8491-4dcf-a92a-13843e055635",
   "metadata": {},
   "outputs": [],
   "source": [
    "print(dataset[3])"
   ]
  },
  {
   "cell_type": "code",
   "execution_count": null,
   "id": "463e2836-6ca4-4862-b57b-113117476871",
   "metadata": {},
   "outputs": [],
   "source": [
    "import cv2\n",
    "import os\n",
    "import matplotlib.pyplot as plt\n",
    "# Choose an index for the image you want to visualize\n",
    "image_index = 2  # Change this to the index you want to visualize\n",
    "\n",
    "# Retrieve the processed image tensor from the dataset\n",
    "for image_index in range (3,6):\n",
    "    processed_image_tensor = augmented_dataset[image_index]['eeg']\n",
    "\n",
    "# Convert the processed image tensor to a NumPy array\n",
    "    processed_image_np = processed_image_tensor.cpu().numpy()\n",
    "\n",
    "# Convert the NumPy array to an image in the range [0, 255]\n",
    "# processed_image_np = processed_image_np.transpose(1, 2, 0)  # Channels-last format\n",
    "# processed_image_np = processed_image_np.squeeze()  # Remove singleton dimensions\n",
    "    processed_image_np = processed_image_np.astype('uint8')\n",
    "\n",
    "# Using Matplotlib\n",
    "    plt.imshow(processed_image_np, cmap='gray')  # Display as grayscale\n",
    "    plt.axis('off')\n",
    "    plt.show()\n"
   ]
  },
  {
   "cell_type": "code",
   "execution_count": null,
   "id": "6b00f44b-9497-4cc3-a27b-eeea099e37b6",
   "metadata": {},
   "outputs": [],
   "source": [
    "import matplotlib.pyplot as plt\n",
    "import numpy as np\n",
    "\n",
    "# Assuming you have already processed the images using the process_method_1 function\n",
    "# processed_images = [process_method_1(eeg_tensor) for eeg_tensor in eeg_tensors]\n",
    "\n",
    "# Choose the index of the image you want to plot (e.g., index 0)\n",
    "image_index = 1100\n",
    "\n",
    "# Convert the processed image to a numpy array and transpose dimensions\n",
    "# numpy_image = processed_images[image_index].numpy().transpose(1, 2, 0)\n",
    "numpy_image = processed_images[image_index].numpy()\n",
    "\n",
    "# Plot the processed image\n",
    "plt.imshow(numpy_image, cmap='gray')  # Display as grayscale\n",
    "plt.title(f\"Processed Image {image_index + 1}\")\n",
    "plt.axis('off')\n",
    "plt.show()"
   ]
  },
  {
   "cell_type": "code",
   "execution_count": null,
   "id": "d0622bed-e601-403e-9922-1092184143c9",
   "metadata": {},
   "outputs": [],
   "source": [
    "import numpy as np\n",
    "eeg_length = np.zeros(len(dataset))\n",
    "for i in range(len(dataset)):\n",
    "    eeg_length[i] = list(dataset[i]['eeg'].size())[1]"
   ]
  },
  {
   "cell_type": "code",
   "execution_count": null,
   "id": "705efb3d-d698-45e5-81c8-d229508e0573",
   "metadata": {},
   "outputs": [],
   "source": [
    "sub_length = np.empty(len(dataset))\n",
    "for i in range(len(dataset)):\n",
    "    sub_length[i] = dataset[i]['subject']"
   ]
  },
  {
   "cell_type": "code",
   "execution_count": null,
   "id": "e350273b-bd0f-474b-b6af-d1972259d51c",
   "metadata": {},
   "outputs": [],
   "source": [
    "# print(dataset['eeg'].size())\n",
    "import torch.nn.functional as F\n",
    "desired_size = 500\n",
    "\n",
    "new_dataset = torch.zeros(len(dataset), 128, desired_size)\n",
    "\n",
    "for i in range(len(dataset)):\n",
    "    eeg_data = dataset[i]['eeg']\n",
    "\n",
    "    # Convert the tensor to torch.float32\n",
    "    eeg_data_float = eeg_data.to(torch.float32)\n",
    "\n",
    "    # Resize using linear interpolation\n",
    "    resized_eeg = F.interpolate(eeg_data_float.unsqueeze(0), size=desired_size, mode='linear')\n",
    "\n",
    "    # Convert the resized tensor back to the original data type (if needed)\n",
    "    resized_eeg = resized_eeg.to(eeg_data.dtype)\n",
    "\n",
    "    new_dataset[i, :, :] = resized_eeg.squeeze(0)"
   ]
  },
  {
   "cell_type": "code",
   "execution_count": null,
   "id": "650d2983-8c0d-4a12-ad79-969b98d1ed76",
   "metadata": {},
   "outputs": [],
   "source": [
    "new_dataset.size()"
   ]
  },
  {
   "cell_type": "code",
   "execution_count": null,
   "id": "b009fd9f-ba08-4581-ae9b-938c086c768e",
   "metadata": {},
   "outputs": [],
   "source": [
    "for j in range(1996):\n",
    "    filtered_dataset_4 = new_dataset[j]\n",
    "for k in range(1996,3980):\n",
    "    filtered_dataset_1 = new_dataset[k]\n",
    "for l in range(3981,5976):\n",
    "    filtered_dataset_6 = new_dataset[l]\n",
    "for m in range(5977,7972):\n",
    "    filtered_dataset_3 = new_dataset[m]\n",
    "for n in range(7973,9968):\n",
    "    filtered_dataset_2 = new_dataset[n]\n",
    "for o in range(9969,11964):\n",
    "    filtered_dataset_5 = new_dataset[o]"
   ]
  },
  {
   "cell_type": "code",
   "execution_count": null,
   "id": "63b2abf4-51f5-4dc6-98ad-227fc3b43cb3",
   "metadata": {},
   "outputs": [],
   "source": [
    "print(filtered_dataset_4.size())\n",
    "print(filtered_dataset_1.size())\n",
    "print(filtered_dataset_6.size())\n",
    "print(filtered_dataset_3.size())\n",
    "print(filtered_dataset_2.size())\n",
    "print(filtered_dataset_5.size())"
   ]
  },
  {
   "cell_type": "code",
   "execution_count": null,
   "id": "c4256b0a-5eb5-4452-b4be-8f4b7c012e94",
   "metadata": {},
   "outputs": [],
   "source": [
    "filtered_dataset = torch.stack((filtered_dataset_4,filtered_dataset_1,filtered_dataset_6,filtered_dataset_3,filtered_dataset_2,filtered_dataset_5),dim = 0)"
   ]
  },
  {
   "cell_type": "code",
   "execution_count": null,
   "id": "42477c02-c6f5-44d6-9556-91334be23c77",
   "metadata": {},
   "outputs": [],
   "source": [
    "filtered_dataset.size()"
   ]
  },
  {
   "cell_type": "code",
   "execution_count": null,
   "id": "c0c5e498-f99e-4245-83d6-04ac9d2cff74",
   "metadata": {},
   "outputs": [],
   "source": [
    "print(filtered_dataset)"
   ]
  },
  {
   "cell_type": "code",
   "execution_count": null,
   "id": "9b9f0c3e-342d-42ba-87d3-bf9c35da8972",
   "metadata": {},
   "outputs": [],
   "source": [
    "# for i in range(len(new_dataset)):\n",
    "#     image_index = dataset[i]['image']\n",
    "#     subject_index = dataset[i]['subject']\n",
    "#     filtered_dataset[subject_index-1, :, :] = new_dataset[image_index]"
   ]
  },
  {
   "cell_type": "code",
   "execution_count": null,
   "id": "cfe17546-be01-4652-9af9-47d2f82cf01f",
   "metadata": {},
   "outputs": [],
   "source": [
    "keys = ('eeg', 'images', 'label')\n",
    "for i in range(len(new_dataset)):\n",
    "    value = (filtered_dataset, dataset"
   ]
  },
  {
   "cell_type": "code",
   "execution_count": null,
   "id": "bb6ddbd4-df0d-4941-b3fb-6cdd7191e60e",
   "metadata": {},
   "outputs": [],
   "source": [
    "# for i in range(len(dataset)):\n",
    "#     # Normalize each component using mean and stddev\n",
    "#    new_dataset[i, :, :] = (new_dataset[i, :, :] - means) / stddevs"
   ]
  },
  {
   "cell_type": "code",
   "execution_count": null,
   "id": "bc92fafe-e82a-4827-8a57-4a3905888615",
   "metadata": {},
   "outputs": [],
   "source": [
    "# print(new_dataset.size())\n",
    "# print(new_dataset[0])\n",
    "\n",
    "# import matplotlib.pyplot as plt\n",
    "# plt.plot(new_dataset[0][0])"
   ]
  },
  {
   "cell_type": "code",
   "execution_count": null,
   "id": "0ce51342-58ba-4b1f-abf0-3b1f7a03b6f6",
   "metadata": {},
   "outputs": [],
   "source": [
    "heatmap_image = filtered_dataset"
   ]
  },
  {
   "cell_type": "code",
   "execution_count": null,
   "id": "a206fe67-0e8c-4c0e-9736-9e7c14170d7e",
   "metadata": {},
   "outputs": [],
   "source": [
    "heatmap_image.size()"
   ]
  },
  {
   "cell_type": "code",
   "execution_count": null,
   "id": "58b42a42-ddb9-4b10-9b0a-cf806c1e4385",
   "metadata": {},
   "outputs": [],
   "source": [
    "# Normalize the heatmap image to [0, 255]\n",
    "heatmap_image_normalized = ((heatmap_image - heatmap_image.min()) /\n",
    "                            (heatmap_image.max() - heatmap_image.min()) * 255).byte()"
   ]
  },
  {
   "cell_type": "code",
   "execution_count": null,
   "id": "b43f4c49-a079-4a26-aff1-9eef91cd9a1d",
   "metadata": {},
   "outputs": [],
   "source": [
    "# Convert the tensor to a NumPy array for plotting\n",
    "heatmap_image_np = heatmap_image_normalized.numpy()\n",
    "\n",
    "# Display the heatmap image\n",
    "plt.imshow(heatmap_image_np, cmap='gray')\n",
    "plt.title(\"EEG Grayscale Heatmap Image\")\n",
    "plt.colorbar()\n",
    "plt.show()"
   ]
  },
  {
   "cell_type": "code",
   "execution_count": null,
   "id": "9edabc6c-65bb-4df7-948c-43498f1facc1",
   "metadata": {},
   "outputs": [],
   "source": [
    "print(heatmap_image_np)\n",
    "print(heatmap_image_np.shape)"
   ]
  },
  {
   "cell_type": "code",
   "execution_count": null,
   "id": "eba1ceab-c031-454b-aebf-828e4e6da59f",
   "metadata": {},
   "outputs": [],
   "source": [
    "for i in range(len(dataset)):\n",
    "    dataset[i]['eeg'] = new_dataset[i]"
   ]
  },
  {
   "cell_type": "code",
   "execution_count": null,
   "id": "8bc8c2eb-dbd3-4339-b997-ca31448896dc",
   "metadata": {},
   "outputs": [],
   "source": [
    "print(dataset[2])"
   ]
  },
  {
   "cell_type": "code",
   "execution_count": null,
   "id": "d20c958c",
   "metadata": {},
   "outputs": [],
   "source": [
    "opt = {\n",
    "    # Dataset options\n",
    "#     \"iv\": \"image\",\n",
    "#     \"offset\": None,\n",
    "    \"results_file\": \"results.pkl\",\n",
    "    \"subject\": 0,\n",
    "    \"time_low\": 20,\n",
    "    \"time_high\": 460,\n",
    "#     \"run\": \"none\",\n",
    "    \"eeg_dataset\": eeg_dataset,\n",
    "    \"model_type\": \"model10\",\n",
    "    \"splits_path\": splits_all_path,\n",
    "    \"split_num\": 0,\n",
    "    \"split_name\": \"train\",\n",
    "#     \"fold\": 5,\n",
    "    #Training options\n",
    "    \"batch_size\": 16,\n",
    "    \"optim\": \"Adam\",\n",
    "    \"learning_rate\": 0.001,\n",
    "    \"learning_rate_decay_by\": 0.5,\n",
    "    \"learning_rate_decay_every\": 10,\n",
    "    \"epochs\": 100,\n",
    "    \"GPUindex\": 0,\n",
    "    \"kind\":\"from-scratch\",\n",
    "    #Backend options\n",
    "    \"no_cuda\": False,\n",
    "    \"classifier\": None\n",
    "}\n",
    "opt = argparse.Namespace(**opt)\n",
    "print(opt)"
   ]
  },
  {
   "cell_type": "code",
   "execution_count": null,
   "id": "ce8d6e2b",
   "metadata": {},
   "outputs": [],
   "source": [
    "%load_ext autoreload\n",
    "%autoreload 2\n",
    "from torch.utils.data import DataLoader\n",
    "# from data_loader import EEGDataset, Splitter, SplitterWithData\n",
    "from data_loader_CVPR2017 import EEGDataset, Splitter\n",
    "from EEG_Encoder.LSTM import classifier_LSTM\n",
    "from EEG_Encoder.CNN import classifier_CNN\n",
    "from EEG_Encoder.EEGNet import classifier_EEGNet\n",
    "from EEG_Encoder.SyncNet import classifier_SyncNet\n",
    "from EEG_Encoder.EEGChannelNet import classifier_EEGChannelNet\n",
    "from EEG_Encoder.net_generator import Classifier\n",
    "from EEG_Encoder.net_trainer import net_trainer\n",
    "from p_values import *\n",
    "from torchinfo import summary"
   ]
  },
  {
   "cell_type": "code",
   "execution_count": null,
   "id": "0a5b475c",
   "metadata": {},
   "outputs": [],
   "source": [
    "def load_dataset(\n",
    "#              offset,\n",
    "             eeg_dataset,\n",
    "             splits_path,\n",
    "             split_num, # (0-5) - 6 fold cross validation\n",
    "#              total, \n",
    "#              classes,\n",
    "#              classifier,\n",
    "             batch_size,\n",
    "#              GPUindex,\n",
    "#              length, # 500\n",
    "#              channel, # 128\n",
    "#              min_CNN,\n",
    "             opt,\n",
    "             kind=\"from-scratch\"):        \n",
    "    # Load dataset\n",
    "    dataset = EEGDataset(opt, eeg_dataset)\n",
    "    print(\"DONE: LOAD DATASET\")\n",
    "#     # Create loaders for LSTM/MLP/CNN/SCNN/EEGNet/SyncNet/EEGChannelNet\n",
    "#     if kind==\"from-scratch\":\n",
    "#         relabel = False\n",
    "#     if kind==\"incremental\":\n",
    "#         relabel = False\n",
    "#     if kind==\"no-model-file\":\n",
    "#         relabel = True\n",
    "    splitter = {split: Splitter(dataset,\n",
    "                    splits_path,\n",
    "                    split_num,\n",
    "                    split_name=split) for split in [\"train\", \"val\", \"test\"]}\n",
    "    loaders = {split: DataLoader(\n",
    "                        splitter[split],\n",
    "                        batch_size = batch_size,\n",
    "                        drop_last = False,\n",
    "                        shuffle = True)\n",
    "                    for split in [\"train\", \"val\", \"test\"]}\n",
    "    channel_idx = None    \n",
    "    print(\"DONE: Create loaders for model\")            \n",
    "    return dataset, loaders, splitter"
   ]
  },
  {
   "cell_type": "code",
   "execution_count": null,
   "id": "a242cae5",
   "metadata": {},
   "outputs": [],
   "source": [
    "# Options\n",
    "opt.classifier = \"LSTM4\"\n",
    "opt.batch_size = 16\n",
    "# opt.kind = \"from-scratch\"\n",
    "# opt.run = \"imagenet40-1000\"\n",
    "# opt.fold = 5"
   ]
  },
  {
   "cell_type": "code",
   "execution_count": null,
   "id": "633488a6",
   "metadata": {},
   "outputs": [],
   "source": [
    "dataset, loaders, splitter = load_dataset(\n",
    "#              offset,\n",
    "             opt.eeg_dataset,\n",
    "             opt.splits_path,\n",
    "             opt.split_num, # (0-5) - 6 fold cross validation\n",
    "#              total, \n",
    "#              classes,\n",
    "#              classifier,\n",
    "             opt.batch_size,\n",
    "#              GPUindex,\n",
    "#              length, # 500\n",
    "#              channel, # 128\n",
    "#              min_CNN,\n",
    "             opt,\n",
    "             opt.kind)"
   ]
  },
  {
   "cell_type": "code",
   "execution_count": null,
   "id": "e99fc973",
   "metadata": {
    "scrolled": true
   },
   "outputs": [],
   "source": [
    "# loaders: divide the splits data in each fold with batch_size\n",
    "# Each fold has {train: 8000 idx, val: 2000 idx, test: 2000 idx}\n",
    "# Each loader batch has {train: 2000 idx, val: 250 idx, test: 250 idx}\n",
    "print(type(dataset))\n",
    "print(type(loaders))\n",
    "print(len(loaders), [len(loaders[name]) for name in [\"train\", \"val\", \"test\"] ])\n",
    "# for i, (input, target) in enumerate(loaders[\"train\"]):\n",
    "#     if i<20:\n",
    "#         print(f\"{i+1}: Target size: {target.size()}; input size: {input.size()}\")\n",
    "for i in range(0, 40):\n",
    "    eeg, label_val = splitter[\"val\"][i]\n",
    "    eeg, label_train = splitter[\"train\"][i]\n",
    "    print(f\"{i+1}: Label val: {label_val}; label train: {label_train}\")\n"
   ]
  },
  {
   "cell_type": "code",
   "execution_count": null,
   "id": "39a07cc7",
   "metadata": {},
   "outputs": [],
   "source": [
    "net, nonclasses = Classifier(\n",
    "                 n_classes,\n",
    "                 classes,\n",
    "                 opt.classifier,\n",
    "                 opt.GPUindex,\n",
    "                 length,\n",
    "                 channel,\n",
    "                 min_CNN,\n",
    "                 opt.kind)\n",
    "# print(len(nonclasses))\n",
    "summary(net, input_size=(1,128, 440))"
   ]
  },
  {
   "cell_type": "code",
   "execution_count": null,
   "id": "8a8d6995",
   "metadata": {},
   "outputs": [],
   "source": [
    "model_path = (   \"CVPR2017-\" +\n",
    "                  opt.classifier+\n",
    "                  \"-\"+\n",
    "                  str(length)+\n",
    "                  \"-\"+\n",
    "                  str(channel)+\n",
    "                  \"-\"+\n",
    "                  'Retest' )\n",
    "print(model_path)"
   ]
  },
  {
   "cell_type": "code",
   "execution_count": null,
   "id": "4b753db4",
   "metadata": {},
   "outputs": [],
   "source": [
    "print(opt)"
   ]
  },
  {
   "cell_type": "code",
   "execution_count": null,
   "id": "5334cb84",
   "metadata": {},
   "outputs": [],
   "source": [
    "channel_idx=None\n",
    "non_classes=None\n",
    "if opt.kind==\"from-scratch\":\n",
    "    results = net_trainer(\n",
    "            net,\n",
    "            loaders,\n",
    "            opt,\n",
    "            channel_idx,\n",
    "            nonclasses,\n",
    "            None,\n",
    "            True,\n",
    "            model_path,\n",
    "            print_every_train = 100,\n",
    "            print_every_val = 125)"
   ]
  },
  {
   "cell_type": "code",
   "execution_count": null,
   "id": "c0199dcf",
   "metadata": {},
   "outputs": [],
   "source": [
    "# val = results[\"val_acc\"]\n",
    "# # test = results[\"test_acc\"]\n",
    "\n",
    "# print(\"Validation accuracy: \", val)\n",
    "# # print(\"Test accuracy: \", test)"
   ]
  },
  {
   "cell_type": "code",
   "execution_count": null,
   "id": "0c56b086",
   "metadata": {},
   "outputs": [],
   "source": [
    "print(accuracy_val)"
   ]
  },
  {
   "cell_type": "code",
   "execution_count": null,
   "id": "913f370e",
   "metadata": {},
   "outputs": [],
   "source": []
  },
  {
   "cell_type": "code",
   "execution_count": null,
   "id": "4a9a7d31",
   "metadata": {},
   "outputs": [],
   "source": []
  },
  {
   "cell_type": "code",
   "execution_count": null,
   "id": "e2334ae6",
   "metadata": {},
   "outputs": [],
   "source": []
  },
  {
   "cell_type": "code",
   "execution_count": null,
   "id": "47b77fc8",
   "metadata": {},
   "outputs": [],
   "source": []
  },
  {
   "cell_type": "code",
   "execution_count": null,
   "id": "3080e706",
   "metadata": {},
   "outputs": [],
   "source": []
  },
  {
   "cell_type": "code",
   "execution_count": null,
   "id": "17823cb7",
   "metadata": {},
   "outputs": [],
   "source": []
  },
  {
   "cell_type": "code",
   "execution_count": null,
   "id": "ad8b650c",
   "metadata": {},
   "outputs": [],
   "source": []
  },
  {
   "cell_type": "code",
   "execution_count": null,
   "id": "2fdb911b",
   "metadata": {},
   "outputs": [],
   "source": []
  },
  {
   "cell_type": "code",
   "execution_count": null,
   "id": "09b43930",
   "metadata": {},
   "outputs": [],
   "source": []
  },
  {
   "cell_type": "code",
   "execution_count": null,
   "id": "28237288",
   "metadata": {},
   "outputs": [],
   "source": []
  },
  {
   "cell_type": "code",
   "execution_count": null,
   "id": "48ded073",
   "metadata": {},
   "outputs": [],
   "source": []
  },
  {
   "cell_type": "code",
   "execution_count": null,
   "id": "7dfcbdda",
   "metadata": {},
   "outputs": [],
   "source": []
  },
  {
   "cell_type": "code",
   "execution_count": null,
   "id": "2f1fb11a",
   "metadata": {},
   "outputs": [],
   "source": []
  },
  {
   "cell_type": "code",
   "execution_count": null,
   "id": "b5b75470",
   "metadata": {},
   "outputs": [],
   "source": []
  },
  {
   "cell_type": "code",
   "execution_count": null,
   "id": "c8939417",
   "metadata": {},
   "outputs": [],
   "source": []
  },
  {
   "cell_type": "code",
   "execution_count": null,
   "id": "42a5c258",
   "metadata": {},
   "outputs": [],
   "source": []
  },
  {
   "cell_type": "code",
   "execution_count": null,
   "id": "56e7de01",
   "metadata": {},
   "outputs": [],
   "source": []
  },
  {
   "cell_type": "code",
   "execution_count": null,
   "id": "597563e3",
   "metadata": {},
   "outputs": [],
   "source": []
  },
  {
   "cell_type": "code",
   "execution_count": null,
   "id": "b1d74a8d",
   "metadata": {},
   "outputs": [],
   "source": []
  },
  {
   "cell_type": "code",
   "execution_count": null,
   "id": "4db30ed4",
   "metadata": {},
   "outputs": [],
   "source": []
  },
  {
   "cell_type": "code",
   "execution_count": null,
   "id": "ab1544e3",
   "metadata": {},
   "outputs": [],
   "source": []
  }
 ],
 "metadata": {
  "kernelspec": {
   "display_name": "Python 3 (ipykernel)",
   "language": "python",
   "name": "python3"
  },
  "language_info": {
   "codemirror_mode": {
    "name": "ipython",
    "version": 3
   },
   "file_extension": ".py",
   "mimetype": "text/x-python",
   "name": "python",
   "nbconvert_exporter": "python",
   "pygments_lexer": "ipython3",
   "version": "3.10.7"
  }
 },
 "nbformat": 4,
 "nbformat_minor": 5
}
